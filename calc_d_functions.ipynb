{
 "cells": [
  {
   "cell_type": "code",
   "execution_count": 1,
   "id": "4389685b",
   "metadata": {
    "ExecuteTime": {
     "end_time": "2021-11-30T11:28:03.278565Z",
     "start_time": "2021-11-30T11:28:02.667352Z"
    }
   },
   "outputs": [],
   "source": [
    "from matrix import build_matrix\n",
    "from matrix import integer_inequality\n",
    "import numpy as np\n",
    "from scipy.sparse import coo_matrix\n",
    "from matplotlib import pyplot as plt\n",
    "import scipy.sparse\n",
    "from scipy.sparse.linalg import eigsh\n",
    "from scipy.sparse.linalg import eigs"
   ]
  },
  {
   "cell_type": "markdown",
   "id": "5deba66e",
   "metadata": {},
   "source": [
    "# make the d function"
   ]
  },
  {
   "cell_type": "code",
   "execution_count": 7,
   "id": "662e034d",
   "metadata": {
    "ExecuteTime": {
     "end_time": "2021-11-30T11:49:31.217871Z",
     "start_time": "2021-11-30T11:49:30.948736Z"
    },
    "scrolled": true
   },
   "outputs": [
    {
     "data": {
      "image/png": "[encoded data removed]",
      "text/plain": [
       "<Figure size 432x288 with 1 Axes>"
      ]
     },
     "metadata": {
      "needs_background": "light"
     },
     "output_type": "display_data"
    }
   ],
   "source": [
    "x = integer_inequality(np.array([100, 100, 1]))\n",
    "x.all_numbers(49,d_given = [2,5,8,10,12,15,20,25, 30, 35, 40, 49])\n",
    "x.save_to_json('2d_100_100_1')"
   ]
  },
  {
   "cell_type": "markdown",
   "id": "9e4b5e32",
   "metadata": {},
   "source": [
    "# build the matrix"
   ]
  },
  {
   "cell_type": "code",
   "execution_count": 4,
   "id": "28b9c220",
   "metadata": {
    "ExecuteTime": {
     "end_time": "2021-11-30T11:39:08.200797Z",
     "start_time": "2021-11-30T11:39:08.193085Z"
    },
    "scrolled": true
   },
   "outputs": [
    {
     "ename": "FileNotFoundError",
     "evalue": "[Errno 2] No such file or directory: './d_functions/1d_ring_1000.json'",
     "output_type": "error",
     "traceback": [
      "\u001b[0;31m---------------------------------------------------------------------------\u001b[0m",
      "\u001b[0;31mFileNotFoundError\u001b[0m                         Traceback (most recent call last)",
      "\u001b[0;32m/tmp/ipykernel_5476/1248959986.py\u001b[0m in \u001b[0;36m<module>\u001b[0;34m\u001b[0m\n\u001b[0;32m----> 1\u001b[0;31m \u001b[0mz\u001b[0m \u001b[0;34m=\u001b[0m \u001b[0mbuild_matrix\u001b[0m\u001b[0;34m(\u001b[0m\u001b[0;34m'1d_ring_1000'\u001b[0m\u001b[0;34m,\u001b[0m \u001b[0mnp\u001b[0m\u001b[0;34m.\u001b[0m\u001b[0marray\u001b[0m\u001b[0;34m(\u001b[0m\u001b[0;34m[\u001b[0m\u001b[0;36m1000\u001b[0m\u001b[0;34m,\u001b[0m\u001b[0;36m1\u001b[0m\u001b[0;34m,\u001b[0m\u001b[0;36m1\u001b[0m\u001b[0;34m]\u001b[0m\u001b[0;34m)\u001b[0m\u001b[0;34m,\u001b[0m \u001b[0;36m5\u001b[0m\u001b[0;34m)\u001b[0m\u001b[0;34m\u001b[0m\u001b[0;34m\u001b[0m\u001b[0m\n\u001b[0m\u001b[1;32m      2\u001b[0m \u001b[0mz\u001b[0m\u001b[0;34m.\u001b[0m\u001b[0mtuples\u001b[0m \u001b[0;34m=\u001b[0m \u001b[0mbuild_matrix\u001b[0m\u001b[0;34m.\u001b[0m\u001b[0mfast_all_indices\u001b[0m\u001b[0;34m(\u001b[0m\u001b[0mz\u001b[0m\u001b[0;34m.\u001b[0m\u001b[0mD_0\u001b[0m\u001b[0;34m,\u001b[0m \u001b[0mz\u001b[0m\u001b[0;34m.\u001b[0m\u001b[0mN\u001b[0m\u001b[0;34m)\u001b[0m\u001b[0;34m\u001b[0m\u001b[0;34m\u001b[0m\u001b[0m\n\u001b[1;32m      3\u001b[0m \u001b[0;31m#z.all_indices()\u001b[0m\u001b[0;34m\u001b[0m\u001b[0;34m\u001b[0m\u001b[0m\n\u001b[1;32m      4\u001b[0m \u001b[0;31m#z.one_int_index_tuples()\u001b[0m\u001b[0;34m\u001b[0m\u001b[0;34m\u001b[0m\u001b[0m\n\u001b[1;32m      5\u001b[0m \u001b[0;31m#z.Laplacian_0()\u001b[0m\u001b[0;34m\u001b[0m\u001b[0;34m\u001b[0m\u001b[0m\n",
      "\u001b[0;32m~/Workspace/mthesis/matrix.py\u001b[0m in \u001b[0;36m__init__\u001b[0;34m(self, d_function, N, r_0)\u001b[0m\n\u001b[1;32m     72\u001b[0m     \u001b[0;32mdef\u001b[0m \u001b[0m__init__\u001b[0m\u001b[0;34m(\u001b[0m\u001b[0mself\u001b[0m\u001b[0;34m,\u001b[0m \u001b[0md_function\u001b[0m\u001b[0;34m,\u001b[0m \u001b[0mN\u001b[0m\u001b[0;34m,\u001b[0m \u001b[0mr_0\u001b[0m\u001b[0;34m)\u001b[0m\u001b[0;34m:\u001b[0m\u001b[0;34m\u001b[0m\u001b[0;34m\u001b[0m\u001b[0m\n\u001b[1;32m     73\u001b[0m         \u001b[0mself\u001b[0m\u001b[0;34m.\u001b[0m\u001b[0md_function\u001b[0m \u001b[0;34m=\u001b[0m \u001b[0md_function\u001b[0m \u001b[0;31m# string name of d_function\u001b[0m\u001b[0;34m\u001b[0m\u001b[0;34m\u001b[0m\u001b[0m\n\u001b[0;32m---> 74\u001b[0;31m         \u001b[0mf\u001b[0m \u001b[0;34m=\u001b[0m \u001b[0mopen\u001b[0m\u001b[0;34m(\u001b[0m\u001b[0;34m'./d_functions/'\u001b[0m\u001b[0;34m+\u001b[0m\u001b[0mself\u001b[0m\u001b[0;34m.\u001b[0m\u001b[0md_function\u001b[0m\u001b[0;34m+\u001b[0m\u001b[0;34m'.json'\u001b[0m\u001b[0;34m,\u001b[0m \u001b[0;34m)\u001b[0m\u001b[0;34m\u001b[0m\u001b[0;34m\u001b[0m\u001b[0m\n\u001b[0m\u001b[1;32m     75\u001b[0m         \u001b[0;31m# returns JSON object as\u001b[0m\u001b[0;34m\u001b[0m\u001b[0;34m\u001b[0m\u001b[0m\n\u001b[1;32m     76\u001b[0m         \u001b[0;31m# a dictionary\u001b[0m\u001b[0;34m\u001b[0m\u001b[0;34m\u001b[0m\u001b[0m\n",
      "\u001b[0;31mFileNotFoundError\u001b[0m: [Errno 2] No such file or directory: './d_functions/1d_ring_1000.json'"
     ]
    }
   ],
   "source": [
    "z = build_matrix('1d_ring_1000', np.array([1000,1,1]), 5)\n",
    "z.tuples = build_matrix.fast_all_indices(z.D_0, z.N)\n",
    "#z.all_indices()\n",
    "#z.one_int_index_tuples()\n",
    "#z.Laplacian_0()\n",
    "#z.random_rewiring(0.5)\n",
    "#z.Adjacency_0()\n",
    "#z.Laplacian_0()"
   ]
  },
  {
   "cell_type": "code",
   "execution_count": 14,
   "id": "ee745160",
   "metadata": {
    "ExecuteTime": {
     "end_time": "2021-11-30T13:44:27.585648Z",
     "start_time": "2021-11-30T13:44:25.842833Z"
    },
    "scrolled": true
   },
   "outputs": [
    {
     "name": "stdout",
     "output_type": "stream",
     "text": [
      "(array([3]),)\n",
      "[[-10, -10, 0], [-10, -9, 0], [-10, -8, 0], [-10, -7, 0], [-10, -6, 0], [-10, -5, 0], [-10, -4, 0], [-10, -3, 0], [-10, -2, 0], [-10, -1, 0], [-10, 0, 0], [-10, 1, 0], [-10, 2, 0], [-10, 3, 0], [-10, 4, 0], [-10, 5, 0], [-10, 6, 0], [-10, 7, 0], [-10, 8, 0], [-10, 9, 0], [-10, 10, 0], [-9, -10, 0], [-9, -9, 0], [-9, -8, 0], [-9, -7, 0], [-9, -6, 0], [-9, -5, 0], [-9, -4, 0], [-9, -3, 0], [-9, -2, 0], [-9, -1, 0], [-9, 0, 0], [-9, 1, 0], [-9, 2, 0], [-9, 3, 0], [-9, 4, 0], [-9, 5, 0], [-9, 6, 0], [-9, 7, 0], [-9, 8, 0], [-9, 9, 0], [-9, 10, 0], [-8, -10, 0], [-8, -9, 0], [-8, -8, 0], [-8, -7, 0], [-8, -6, 0], [-8, -5, 0], [-8, -4, 0], [-8, -3, 0], [-8, -2, 0], [-8, -1, 0], [-8, 0, 0], [-8, 1, 0], [-8, 2, 0], [-8, 3, 0], [-8, 4, 0], [-8, 5, 0], [-8, 6, 0], [-8, 7, 0], [-8, 8, 0], [-8, 9, 0], [-8, 10, 0], [-7, -10, 0], [-7, -9, 0], [-7, -8, 0], [-7, -7, 0], [-7, -6, 0], [-7, -5, 0], [-7, -4, 0], [-7, -3, 0], [-7, -2, 0], [-7, -1, 0], [-7, 0, 0], [-7, 1, 0], [-7, 2, 0], [-7, 3, 0], [-7, 4, 0], [-7, 5, 0], [-7, 6, 0], [-7, 7, 0], [-7, 8, 0], [-7, 9, 0], [-7, 10, 0], [-6, -10, 0], [-6, -9, 0], [-6, -8, 0], [-6, -7, 0], [-6, -6, 0], [-6, -5, 0], [-6, -4, 0], [-6, -3, 0], [-6, -2, 0], [-6, -1, 0], [-6, 0, 0], [-6, 1, 0], [-6, 2, 0], [-6, 3, 0], [-6, 4, 0], [-6, 5, 0], [-6, 6, 0], [-6, 7, 0], [-6, 8, 0], [-6, 9, 0], [-6, 10, 0], [-5, -10, 0], [-5, -9, 0], [-5, -8, 0], [-5, -7, 0], [-5, -6, 0], [-5, -5, 0], [-5, -4, 0], [-5, -3, 0], [-5, -2, 0], [-5, -1, 0], [-5, 0, 0], [-5, 1, 0], [-5, 2, 0], [-5, 3, 0], [-5, 4, 0], [-5, 5, 0], [-5, 6, 0], [-5, 7, 0], [-5, 8, 0], [-5, 9, 0], [-5, 10, 0], [-4, -10, 0], [-4, -9, 0], [-4, -8, 0], [-4, -7, 0], [-4, -6, 0], [-4, -5, 0], [-4, -4, 0], [-4, -3, 0], [-4, -2, 0], [-4, -1, 0], [-4, 0, 0], [-4, 1, 0], [-4, 2, 0], [-4, 3, 0], [-4, 4, 0], [-4, 5, 0], [-4, 6, 0], [-4, 7, 0], [-4, 8, 0], [-4, 9, 0], [-4, 10, 0], [-3, -10, 0], [-3, -9, 0], [-3, -8, 0], [-3, -7, 0], [-3, -6, 0], [-3, -5, 0], [-3, -4, 0], [-3, -3, 0], [-3, -2, 0], [-3, -1, 0], [-3, 0, 0], [-3, 1, 0], [-3, 2, 0], [-3, 3, 0], [-3, 4, 0], [-3, 5, 0], [-3, 6, 0], [-3, 7, 0], [-3, 8, 0], [-3, 9, 0], [-3, 10, 0], [-2, -10, 0], [-2, -9, 0], [-2, -8, 0], [-2, -7, 0], [-2, -6, 0], [-2, -5, 0], [-2, -4, 0], [-2, -3, 0], [-2, -2, 0], [-2, -1, 0], [-2, 0, 0], [-2, 1, 0], [-2, 2, 0], [-2, 3, 0], [-2, 4, 0], [-2, 5, 0], [-2, 6, 0], [-2, 7, 0], [-2, 8, 0], [-2, 9, 0], [-2, 10, 0], [-1, -10, 0], [-1, -9, 0], [-1, -8, 0], [-1, -7, 0], [-1, -6, 0], [-1, -5, 0], [-1, -4, 0], [-1, -3, 0], [-1, -2, 0], [-1, -1, 0], [-1, 0, 0], [-1, 1, 0], [-1, 2, 0], [-1, 3, 0], [-1, 4, 0], [-1, 5, 0], [-1, 6, 0], [-1, 7, 0], [-1, 8, 0], [-1, 9, 0], [-1, 10, 0], [0, -10, 0], [0, -9, 0], [0, -8, 0], [0, -7, 0], [0, -6, 0], [0, -5, 0], [0, -4, 0], [0, -3, 0], [0, -2, 0], [0, -1, 0], [0, 1, 0], [0, 2, 0], [0, 3, 0], [0, 4, 0], [0, 5, 0], [0, 6, 0], [0, 7, 0], [0, 8, 0], [0, 9, 0], [0, 10, 0], [1, -10, 0], [1, -9, 0], [1, -8, 0], [1, -7, 0], [1, -6, 0], [1, -5, 0], [1, -4, 0], [1, -3, 0], [1, -2, 0], [1, -1, 0], [1, 0, 0], [1, 1, 0], [1, 2, 0], [1, 3, 0], [1, 4, 0], [1, 5, 0], [1, 6, 0], [1, 7, 0], [1, 8, 0], [1, 9, 0], [1, 10, 0], [2, -10, 0], [2, -9, 0], [2, -8, 0], [2, -7, 0], [2, -6, 0], [2, -5, 0], [2, -4, 0], [2, -3, 0], [2, -2, 0], [2, -1, 0], [2, 0, 0], [2, 1, 0], [2, 2, 0], [2, 3, 0], [2, 4, 0], [2, 5, 0], [2, 6, 0], [2, 7, 0], [2, 8, 0], [2, 9, 0], [2, 10, 0], [3, -10, 0], [3, -9, 0], [3, -8, 0], [3, -7, 0], [3, -6, 0], [3, -5, 0], [3, -4, 0], [3, -3, 0], [3, -2, 0], [3, -1, 0], [3, 0, 0], [3, 1, 0], [3, 2, 0], [3, 3, 0], [3, 4, 0], [3, 5, 0], [3, 6, 0], [3, 7, 0], [3, 8, 0], [3, 9, 0], [3, 10, 0], [4, -10, 0], [4, -9, 0], [4, -8, 0], [4, -7, 0], [4, -6, 0], [4, -5, 0], [4, -4, 0], [4, -3, 0], [4, -2, 0], [4, -1, 0], [4, 0, 0], [4, 1, 0], [4, 2, 0], [4, 3, 0], [4, 4, 0], [4, 5, 0], [4, 6, 0], [4, 7, 0], [4, 8, 0], [4, 9, 0], [4, 10, 0], [5, -10, 0], [5, -9, 0], [5, -8, 0], [5, -7, 0], [5, -6, 0], [5, -5, 0], [5, -4, 0], [5, -3, 0], [5, -2, 0], [5, -1, 0], [5, 0, 0], [5, 1, 0], [5, 2, 0], [5, 3, 0], [5, 4, 0], [5, 5, 0], [5, 6, 0], [5, 7, 0], [5, 8, 0], [5, 9, 0], [5, 10, 0], [6, -10, 0], [6, -9, 0], [6, -8, 0], [6, -7, 0], [6, -6, 0], [6, -5, 0], [6, -4, 0], [6, -3, 0], [6, -2, 0], [6, -1, 0], [6, 0, 0], [6, 1, 0], [6, 2, 0], [6, 3, 0], [6, 4, 0], [6, 5, 0], [6, 6, 0], [6, 7, 0], [6, 8, 0], [6, 9, 0], [6, 10, 0], [7, -10, 0], [7, -9, 0], [7, -8, 0], [7, -7, 0], [7, -6, 0], [7, -5, 0], [7, -4, 0], [7, -3, 0], [7, -2, 0], [7, -1, 0], [7, 0, 0], [7, 1, 0], [7, 2, 0], [7, 3, 0], [7, 4, 0], [7, 5, 0], [7, 6, 0], [7, 7, 0], [7, 8, 0], [7, 9, 0], [7, 10, 0], [8, -10, 0], [8, -9, 0], [8, -8, 0], [8, -7, 0], [8, -6, 0], [8, -5, 0], [8, -4, 0], [8, -3, 0], [8, -2, 0], [8, -1, 0], [8, 0, 0], [8, 1, 0], [8, 2, 0], [8, 3, 0], [8, 4, 0], [8, 5, 0], [8, 6, 0], [8, 7, 0], [8, 8, 0], [8, 9, 0], [8, 10, 0], [9, -10, 0], [9, -9, 0], [9, -8, 0], [9, -7, 0], [9, -6, 0], [9, -5, 0], [9, -4, 0], [9, -3, 0], [9, -2, 0], [9, -1, 0], [9, 0, 0], [9, 1, 0], [9, 2, 0], [9, 3, 0], [9, 4, 0], [9, 5, 0], [9, 6, 0], [9, 7, 0], [9, 8, 0], [9, 9, 0], [9, 10, 0], [10, -10, 0], [10, -9, 0], [10, -8, 0], [10, -7, 0], [10, -6, 0], [10, -5, 0], [10, -4, 0], [10, -3, 0], [10, -2, 0], [10, -1, 0], [10, 0, 0], [10, 1, 0], [10, 2, 0], [10, 3, 0], [10, 4, 0], [10, 5, 0], [10, 6, 0], [10, 7, 0], [10, 8, 0], [10, 9, 0], [10, 10, 0]]\n"
     ]
    }
   ],
   "source": [
    "q = 0.01\n",
    "r_0 = 10\n",
    "z = build_matrix('2d_100_100_1', np.array([100, 100, 1]), r_0)\n",
    "print(z.D_0)\n",
    "z.tuples = build_matrix.fast_all_indices(np.array(z.D_0), z.N)\n",
    "z.one_int_index_tuples_and_adjacency()\n",
    "z.Laplacian_0()\n",
    "\n",
    "#z.all_indices()"
   ]
  },
  {
   "cell_type": "code",
   "execution_count": 18,
   "id": "868bb7db",
   "metadata": {
    "ExecuteTime": {
     "end_time": "2021-11-30T13:45:15.139706Z",
     "start_time": "2021-11-30T13:45:12.030483Z"
    }
   },
   "outputs": [],
   "source": [
    "L_rnd = build_matrix.fast_rewiring(z.L_0, z.r_0, 1, z.N_tot)"
   ]
  },
  {
   "cell_type": "code",
   "execution_count": 4,
   "id": "7a11e644",
   "metadata": {
    "ExecuteTime": {
     "end_time": "2021-10-19T15:21:59.659757Z",
     "start_time": "2021-10-19T15:21:59.648769Z"
    }
   },
   "outputs": [],
   "source": [
    "z.Laplacian_0()"
   ]
  },
  {
   "cell_type": "code",
   "execution_count": 3,
   "id": "ad6e76e2",
   "metadata": {
    "ExecuteTime": {
     "end_time": "2021-10-20T13:04:26.722920Z",
     "start_time": "2021-10-20T13:04:26.713925Z"
    }
   },
   "outputs": [
    {
     "name": "stdout",
     "output_type": "stream",
     "text": [
      "[-6. -6. -6. -6. -6. -6. -6. -6. -6. -6. -6. -6. -6. -6. -6. -6.]\n"
     ]
    }
   ],
   "source": [
    "print(z.L_0.diagonal())"
   ]
  },
  {
   "cell_type": "code",
   "execution_count": 47,
   "id": "5884d10a",
   "metadata": {
    "ExecuteTime": {
     "end_time": "2021-10-20T12:49:41.568586Z",
     "start_time": "2021-10-20T12:49:41.560579Z"
    }
   },
   "outputs": [
    {
     "name": "stdout",
     "output_type": "stream",
     "text": [
      "[ 8  1  7  3  3  5  4 11  6 10  6  2  4  7  7  0  4  1  1  0  3  5  1 12\n",
      "  8  1  0  9] [10 11 15 15  4  7 13 15 10 15  8  6  6  9 13  4  8  8  5 13  9  8 14 15\n",
      " 15 13 10 13] 28 28\n"
     ]
    }
   ],
   "source": [
    "print(z.ps, z.qs, z.M, len(z.ps))"
   ]
  },
  {
   "cell_type": "code",
   "execution_count": 41,
   "id": "be8cdfe7",
   "metadata": {
    "ExecuteTime": {
     "end_time": "2021-10-20T13:24:39.309053Z",
     "start_time": "2021-10-20T13:24:39.293053Z"
    }
   },
   "outputs": [],
   "source": [
    "z.random_rewiring(0.05)"
   ]
  },
  {
   "cell_type": "code",
   "execution_count": 21,
   "id": "c45b995c",
   "metadata": {
    "ExecuteTime": {
     "end_time": "2021-10-20T13:16:20.659003Z",
     "start_time": "2021-10-20T13:16:20.641999Z"
    },
    "scrolled": true
   },
   "outputs": [
    {
     "name": "stdout",
     "output_type": "stream",
     "text": [
      "[[-21.   1.   1.   1.   0.   1.   1.   1.   1.   1.   0.   1.   1.   1.\n",
      "    1.   1.   1.   1.   1.   1.   0.   1.   1.   1.   1.]\n",
      " [  1. -18.   1.   1.   1.   0.   1.   1.   0.   1.   1.   1.   1.   0.\n",
      "    1.   1.   1.   1.   1.   0.   1.   1.   0.   1.   0.]\n",
      " [  1.   1. -18.   0.   1.   0.   1.   1.   0.   1.   1.   1.   1.   0.\n",
      "    0.   1.   1.   1.   1.   1.   1.   1.   0.   1.   1.]\n",
      " [  1.   1.   0. -17.   1.   1.   1.   0.   1.   1.   0.   1.   0.   1.\n",
      "    1.   1.   0.   0.   1.   1.   1.   1.   1.   1.   0.]\n",
      " [  0.   1.   1.   1. -20.   1.   0.   1.   1.   1.   0.   1.   1.   1.\n",
      "    1.   1.   1.   1.   0.   1.   1.   1.   1.   1.   1.]\n",
      " [  1.   0.   0.   1.   1. -14.   1.   1.   0.   0.   0.   0.   0.   1.\n",
      "    1.   1.   1.   0.   1.   1.   1.   0.   1.   0.   1.]\n",
      " [  1.   1.   1.   1.   0.   1. -19.   1.   1.   1.   1.   1.   0.   1.\n",
      "    1.   1.   1.   0.   1.   1.   1.   0.   0.   1.   1.]\n",
      " [  1.   1.   1.   0.   1.   1.   1. -20.   1.   1.   1.   1.   1.   1.\n",
      "    0.   1.   1.   1.   0.   1.   0.   1.   1.   1.   1.]\n",
      " [  1.   0.   0.   1.   1.   0.   1.   1. -16.   1.   1.   1.   0.   1.\n",
      "    1.   1.   0.   1.   0.   1.   1.   0.   1.   1.   0.]\n",
      " [  1.   1.   1.   1.   1.   0.   1.   1.   1. -18.   1.   0.   1.   0.\n",
      "    1.   1.   1.   0.   1.   1.   1.   0.   1.   1.   0.]\n",
      " [  0.   1.   1.   0.   0.   0.   1.   1.   1.   1. -14.   0.   0.   0.\n",
      "    1.   0.   1.   1.   1.   1.   0.   1.   0.   1.   1.]\n",
      " [  1.   1.   1.   1.   1.   0.   1.   1.   1.   0.   0. -16.   1.   0.\n",
      "    1.   0.   1.   1.   0.   1.   0.   1.   0.   1.   1.]\n",
      " [  1.   1.   1.   0.   1.   0.   0.   1.   0.   1.   0.   1. -17.   1.\n",
      "    1.   1.   1.   1.   1.   1.   1.   1.   0.   1.   0.]\n",
      " [  1.   0.   0.   1.   1.   1.   1.   1.   1.   0.   0.   0.   1. -16.\n",
      "    1.   1.   1.   1.   1.   1.   0.   1.   0.   1.   0.]\n",
      " [  1.   1.   0.   1.   1.   1.   1.   0.   1.   1.   1.   1.   1.   1.\n",
      "  -20.   1.   1.   0.   1.   1.   1.   1.   0.   1.   1.]\n",
      " [  1.   1.   1.   1.   1.   1.   1.   1.   1.   1.   0.   0.   1.   1.\n",
      "    1. -21.   1.   1.   0.   1.   1.   1.   1.   1.   1.]\n",
      " [  1.   1.   1.   0.   1.   1.   1.   1.   0.   1.   1.   1.   1.   1.\n",
      "    1.   1. -21.   1.   1.   1.   1.   1.   1.   1.   0.]\n",
      " [  1.   1.   1.   0.   1.   0.   0.   1.   1.   0.   1.   1.   1.   1.\n",
      "    0.   1.   1. -18.   1.   1.   1.   1.   1.   1.   0.]\n",
      " [  1.   1.   1.   1.   0.   1.   1.   0.   0.   1.   1.   0.   1.   1.\n",
      "    1.   0.   1.   1. -18.   0.   1.   1.   1.   1.   1.]\n",
      " [  1.   0.   1.   1.   1.   1.   1.   1.   1.   1.   1.   1.   1.   1.\n",
      "    1.   1.   1.   1.   0. -20.   1.   0.   1.   1.   0.]\n",
      " [  0.   1.   1.   1.   1.   1.   1.   0.   1.   1.   0.   0.   1.   0.\n",
      "    1.   1.   1.   1.   1.   1. -18.   1.   1.   1.   0.]\n",
      " [  1.   1.   1.   1.   1.   0.   0.   1.   0.   0.   1.   1.   1.   1.\n",
      "    1.   1.   1.   1.   1.   0.   1. -18.   1.   0.   1.]\n",
      " [  1.   0.   0.   1.   1.   1.   0.   1.   1.   1.   0.   0.   0.   0.\n",
      "    0.   1.   1.   1.   1.   1.   1.   1. -16.   1.   1.]\n",
      " [  1.   1.   1.   1.   1.   0.   1.   1.   1.   1.   1.   1.   1.   1.\n",
      "    1.   1.   1.   1.   1.   1.   1.   0.   1. -22.   1.]\n",
      " [  1.   0.   1.   0.   1.   1.   1.   1.   0.   0.   1.   1.   0.   0.\n",
      "    1.   1.   0.   0.   1.   0.   0.   1.   1.   1. -14.]]\n"
     ]
    }
   ],
   "source": [
    "print(z.L_rnd.toarray())"
   ]
  },
  {
   "cell_type": "code",
   "execution_count": 38,
   "id": "241d867c",
   "metadata": {
    "ExecuteTime": {
     "end_time": "2021-10-20T12:44:59.412082Z",
     "start_time": "2021-10-20T12:44:59.403088Z"
    }
   },
   "outputs": [
    {
     "name": "stdout",
     "output_type": "stream",
     "text": [
      "(array([ 0,  0,  0,  0,  0,  0,  0,  0,  0,  1,  1,  1,  1,  1,  1,  1,  2,\n",
      "        2,  2,  2,  2,  2,  2,  3,  3,  3,  3,  3,  3,  3,  3,  4,  4,  4,\n",
      "        4,  4,  4,  4,  4,  5,  5,  5,  5,  5,  5,  6,  6,  6,  6,  7,  7,\n",
      "        7,  7,  7,  7,  7,  8,  9,  9,  9,  9,  9, 10, 10, 11, 11, 11, 12,\n",
      "       12, 12, 13, 13], dtype=int64), array([ 2,  4,  5,  7,  8,  9, 10, 11, 15,  5,  6,  7,  8,  9, 11, 13,  3,\n",
      "        6,  7,  8,  9, 10, 13,  4,  5,  7,  9, 10, 11, 13, 15,  5,  6,  9,\n",
      "       10, 11, 12, 13, 14,  7, 10, 11, 12, 14, 15,  8, 12, 14, 15,  8,  9,\n",
      "       11, 12, 13, 14, 15, 10, 11, 12, 13, 14, 15, 11, 15, 12, 13, 15, 13,\n",
      "       14, 15, 14, 15], dtype=int64))\n"
     ]
    }
   ],
   "source": [
    "print(np.where((z.L_0.toarray()+np.tril(np.ones((16,16))))==0))"
   ]
  },
  {
   "cell_type": "code",
   "execution_count": 20,
   "id": "c0302a2f",
   "metadata": {
    "ExecuteTime": {
     "end_time": "2021-10-20T13:16:04.858090Z",
     "start_time": "2021-10-20T13:16:04.842105Z"
    }
   },
   "outputs": [
    {
     "name": "stdout",
     "output_type": "stream",
     "text": [
      "[0.0, 0.0, 0.0, 0.0, 0.0, 0.0, 0.0, 0.0, 0.0, 0.0, 0.0, 0.0, 0.0, 0.0, 0.0, 0.0]\n"
     ]
    }
   ],
   "source": [
    "print([np.sum(z.L_0[:,k])for k in range(16)])"
   ]
  },
  {
   "cell_type": "code",
   "execution_count": 59,
   "id": "6ebbee12",
   "metadata": {
    "ExecuteTime": {
     "end_time": "2021-10-20T12:54:41.956320Z",
     "start_time": "2021-10-20T12:54:41.950337Z"
    }
   },
   "outputs": [],
   "source": [
    "z.L_0[[1,1,1],[1,1,1]] += [1,1,1]"
   ]
  },
  {
   "cell_type": "code",
   "execution_count": 5,
   "id": "9d4e665f",
   "metadata": {
    "ExecuteTime": {
     "end_time": "2021-10-19T15:29:39.453677Z",
     "start_time": "2021-10-19T15:29:39.436687Z"
    }
   },
   "outputs": [
    {
     "name": "stdout",
     "output_type": "stream",
     "text": [
      "(array([ 0,  0,  0,  0,  0,  0,  0,  0,  0,  0,  1,  1,  1,  1,  1,  1,  1,\n",
      "        1,  1,  2,  2,  2,  2,  2,  2,  2,  2,  3,  3,  3,  3,  3,  3,  3,\n",
      "        3,  4,  4,  4,  4,  4,  4,  4,  5,  5,  5,  5,  5,  5,  5,  6,  6,\n",
      "        6,  6,  6,  6,  7,  7,  7,  7,  7,  7,  8,  8,  8,  9,  9,  9, 10,\n",
      "       10, 11, 11, 12, 13], dtype=int64), array([ 2,  5,  6,  8,  9, 10, 11, 12, 14, 15,  3,  6,  7,  8,  9, 10, 11,\n",
      "       12, 15,  4,  7,  8,  9, 10, 11, 12, 13,  4,  5,  8,  9, 10, 11, 13,\n",
      "       14,  6,  9, 10, 12, 13, 14, 15,  7, 10, 11, 12, 13, 14, 15,  8, 11,\n",
      "       12, 13, 14, 15,  8,  9, 12, 13, 14, 15, 10, 13, 14, 11, 14, 15, 12,\n",
      "       15, 12, 13, 14, 15], dtype=int64))\n"
     ]
    }
   ],
   "source": [
    "print(np.where(z.L_0.toarray()+np.tril(np.ones((16,16)))==0))"
   ]
  },
  {
   "cell_type": "code",
   "execution_count": 64,
   "id": "13ff8193",
   "metadata": {
    "ExecuteTime": {
     "end_time": "2021-10-20T13:00:45.180495Z",
     "start_time": "2021-10-20T13:00:45.163491Z"
    }
   },
   "outputs": [
    {
     "name": "stdout",
     "output_type": "stream",
     "text": [
      "[[ 0  0  0]\n",
      " [ 0 -2  0]\n",
      " [ 0  1  0]]\n"
     ]
    }
   ],
   "source": [
    "a = coo_matrix(([-1,-1,1],([1,1,2],[1,1,1])), shape=(3,3))\n",
    "print(a.toarray())"
   ]
  },
  {
   "cell_type": "code",
   "execution_count": 34,
   "id": "2e65a2fa",
   "metadata": {
    "ExecuteTime": {
     "end_time": "2021-10-13T15:46:44.753797Z",
     "start_time": "2021-10-13T15:46:44.742773Z"
    }
   },
   "outputs": [
    {
     "name": "stdout",
     "output_type": "stream",
     "text": [
      "7184133\n"
     ]
    }
   ],
   "source": [
    "print(len(y[0]))"
   ]
  },
  {
   "cell_type": "code",
   "execution_count": 8,
   "id": "1af3bdbe",
   "metadata": {
    "ExecuteTime": {
     "end_time": "2021-10-13T15:11:10.217437Z",
     "start_time": "2021-10-13T15:11:10.209795Z"
    }
   },
   "outputs": [],
   "source": [
    "from matplotlib import pyplot as plt\n"
   ]
  },
  {
   "cell_type": "code",
   "execution_count": 59,
   "id": "3f5c025a",
   "metadata": {
    "ExecuteTime": {
     "end_time": "2021-10-14T14:46:35.797040Z",
     "start_time": "2021-10-14T14:46:35.724693Z"
    }
   },
   "outputs": [],
   "source": [
    "%matplotlib qt\n",
    "plt.imshow(z.L_0.toarray(), vmin=-1, vmax=1)\n",
    "plt.show()"
   ]
  },
  {
   "cell_type": "code",
   "execution_count": 13,
   "id": "824b71a6",
   "metadata": {
    "ExecuteTime": {
     "end_time": "2021-10-14T13:25:26.822047Z",
     "start_time": "2021-10-14T13:23:26.582880Z"
    }
   },
   "outputs": [],
   "source": [
    "z.save_to_json('Laplacian_2d_torus_hexagonal_q=0.05', thing_to_dump)"
   ]
  },
  {
   "cell_type": "code",
   "execution_count": 12,
   "id": "1fa63101",
   "metadata": {
    "ExecuteTime": {
     "end_time": "2021-10-14T13:23:10.661161Z",
     "start_time": "2021-10-14T13:22:56.328907Z"
    }
   },
   "outputs": [],
   "source": [
    "thing_to_dump = z.L_0.toarray().tolist()"
   ]
  },
  {
   "cell_type": "code",
   "execution_count": 2,
   "id": "2e26080b",
   "metadata": {
    "ExecuteTime": {
     "end_time": "2021-10-14T13:30:42.334722Z",
     "start_time": "2021-10-14T13:30:42.116821Z"
    }
   },
   "outputs": [],
   "source": [
    "#scipy.sparse.save_npz('./matrices/Laplacian_2d_torus_hexagonal_q=0.05.npz', z.L_0)\n",
    "sparse_matrix = scipy.sparse.load_npz('./matrices/Laplacian_2d_torus_hexagonal_q=0.05.npz')"
   ]
  },
  {
   "cell_type": "code",
   "execution_count": null,
   "id": "a6179d3e",
   "metadata": {},
   "outputs": [],
   "source": []
  },
  {
   "cell_type": "code",
   "execution_count": 46,
   "id": "70c961d6",
   "metadata": {
    "ExecuteTime": {
     "end_time": "2021-10-20T13:25:27.890650Z",
     "start_time": "2021-10-20T13:25:27.877658Z"
    }
   },
   "outputs": [],
   "source": [
    "eigenvalues, eigenvectors = eigs(z.L_rnd+20*scipy.sparse.identity(25), k=8, which='LM')"
   ]
  },
  {
   "cell_type": "code",
   "execution_count": 47,
   "id": "16e101f9",
   "metadata": {
    "ExecuteTime": {
     "end_time": "2021-10-20T13:25:28.941183Z",
     "start_time": "2021-10-20T13:25:28.925193Z"
    }
   },
   "outputs": [
    {
     "name": "stdout",
     "output_type": "stream",
     "text": [
      "[-2.30194106e+01+0.j -1.70446400e+01+0.j -1.67335705e+01+0.j\n",
      " -1.61748977e+01+0.j -1.56521058e+01+0.j -1.47634483e+01+0.j\n",
      " -1.32508210e+01+0.j  7.10542736e-15+0.j] [[-0.2       +0.j -0.01710719+0.j -0.1548604 +0.j -0.14485109+0.j\n",
      "   0.06583187+0.j -0.11641634+0.j -0.04729049+0.j -0.23833768+0.j]\n",
      " [-0.2       +0.j -0.13032259+0.j -0.02088093+0.j -0.13438175+0.j\n",
      "  -0.12075423+0.j -0.01855585+0.j  0.20377707+0.j  0.10424829+0.j]\n",
      " [-0.2       +0.j  0.83759883+0.j -0.10691328+0.j -0.04847848+0.j\n",
      "   0.19105411+0.j  0.01133321+0.j -0.20840835+0.j  0.06605212+0.j]\n",
      " [-0.2       +0.j  0.02128449+0.j -0.0194306 +0.j  0.33835467+0.j\n",
      "   0.24305152+0.j  0.02739864+0.j -0.11872532+0.j -0.06081378+0.j]\n",
      " [-0.2       +0.j -0.19827872+0.j  0.05358501+0.j  0.15554778+0.j\n",
      "   0.16374235+0.j -0.12244266+0.j -0.26721885+0.j -0.14426549+0.j]\n",
      " [-0.2       +0.j -0.2351167 +0.j -0.02892443+0.j -0.45922372+0.j\n",
      "   0.06724974+0.j  0.06103914+0.j -0.26359097+0.j -0.02478901+0.j]\n",
      " [-0.2       +0.j  0.05218643+0.j -0.15967818+0.j -0.07158892+0.j\n",
      "   0.04917914+0.j -0.27097968+0.j  0.24520489+0.j -0.27067755+0.j]\n",
      " [-0.2       +0.j  0.02696855+0.j -0.12435204+0.j  0.07215839+0.j\n",
      "   0.20689347+0.j -0.15801065+0.j  0.26433334+0.j  0.18690412+0.j]\n",
      " [-0.2       +0.j -0.18657346+0.j -0.0171245 +0.j  0.03393693+0.j\n",
      "   0.41179625+0.j -0.0160658 +0.j  0.02973923+0.j -0.10884503+0.j]\n",
      " [-0.2       +0.j -0.21754087+0.j -0.58186275+0.j  0.1570497 +0.j\n",
      "  -0.09724162+0.j  0.22714372+0.j -0.29142144+0.j  0.49320419+0.j]\n",
      " [-0.2       +0.j  0.09544367+0.j -0.12019236+0.j  0.33705298+0.j\n",
      "  -0.48367873+0.j  0.00224229+0.j  0.37177947+0.j -0.07298802+0.j]\n",
      " [-0.2       +0.j  0.00150659+0.j  0.03658432+0.j  0.04600978+0.j\n",
      "   0.07632621+0.j  0.65210232+0.j  0.0157534 +0.j -0.12688915+0.j]\n",
      " [-0.2       +0.j  0.02525698+0.j -0.02015414+0.j  0.13814184+0.j\n",
      "   0.24422488+0.j -0.02105078+0.j  0.31007382+0.j  0.22705172+0.j]\n",
      " [-0.2       +0.j -0.11139073+0.j -0.07072255+0.j -0.04723009+0.j\n",
      "   0.01067553+0.j -0.26405455+0.j  0.08082197+0.j -0.05999284+0.j]\n",
      " [-0.2       +0.j -0.12810062+0.j -0.16946779+0.j -0.1506245 +0.j\n",
      "  -0.26713975+0.j -0.01448071+0.j  0.01193065+0.j -0.19175328+0.j]\n",
      " [-0.2       +0.j -0.07848669+0.j  0.08592167+0.j  0.09765697+0.j\n",
      "   0.04652232+0.j  0.20514463+0.j  0.02608061+0.j -0.23552783+0.j]\n",
      " [-0.2       +0.j -0.0507807 +0.j  0.14204993+0.j  0.10440533+0.j\n",
      "   0.06690297+0.j  0.17496842+0.j  0.22281653+0.j -0.07112449+0.j]\n",
      " [-0.2       +0.j -0.00298813+0.j  0.03321311+0.j -0.1901165 +0.j\n",
      "   0.09037692+0.j -0.16094162+0.j  0.03701262+0.j  0.26031996+0.j]\n",
      " [-0.2       +0.j  0.03922701+0.j -0.04724698+0.j -0.05117797+0.j\n",
      "  -0.11198715+0.j -0.26815167+0.j -0.02473757+0.j  0.03129172+0.j]\n",
      " [-0.2       +0.j  0.04953157+0.j  0.07179398+0.j  0.06723993+0.j\n",
      "  -0.31799527+0.j -0.12216742+0.j -0.35193929+0.j -0.22059435+0.j]\n",
      " [-0.2       +0.j -0.12851918+0.j  0.63271686+0.j  0.21125023+0.j\n",
      "  -0.05728454+0.j -0.14181067+0.j -0.11422537+0.j  0.37389829+0.j]\n",
      " [-0.2       +0.j  0.02992138+0.j  0.19388819+0.j -0.17341527+0.j\n",
      "   0.1040796 +0.j  0.02791714+0.j -0.07283081+0.j -0.11996955+0.j]\n",
      " [-0.2       +0.j  0.11847205+0.j  0.17380202+0.j -0.49644862+0.j\n",
      "  -0.1975332 +0.j  0.19435014+0.j  0.18478161+0.j  0.26809275+0.j]\n",
      " [-0.2       +0.j  0.08588738+0.j  0.14331643+0.j  0.04733368+0.j\n",
      "  -0.14983318+0.j  0.24326614+0.j  0.02367563+0.j -0.13251553+0.j]\n",
      " [-0.2       +0.j  0.10192065+0.j  0.07493942+0.j  0.16139868+0.j\n",
      "  -0.23445923+0.j -0.13177741+0.j -0.2673924 +0.j  0.06802043+0.j]]\n"
     ]
    }
   ],
   "source": [
    "print(np.sort(eigenvalues-20), eigenvectors)"
   ]
  },
  {
   "cell_type": "code",
   "execution_count": 39,
   "id": "1d2d3144",
   "metadata": {
    "ExecuteTime": {
     "end_time": "2021-10-14T14:31:17.426191Z",
     "start_time": "2021-10-14T14:31:17.316570Z"
    }
   },
   "outputs": [],
   "source": [
    "%matplotlib qt\n",
    "#fig = plt.figure()\n",
    "#ax = fig.add_subplot(1,1,1)\n",
    "plt.imshow([sparse_matrix.diagonal()], aspect='auto')\n",
    "plt.colorbar()\n",
    "plt.show()"
   ]
  },
  {
   "cell_type": "code",
   "execution_count": 37,
   "id": "06bde55c",
   "metadata": {
    "ExecuteTime": {
     "end_time": "2021-10-14T14:30:19.657255Z",
     "start_time": "2021-10-14T14:30:19.637255Z"
    }
   },
   "outputs": [
    {
     "name": "stdout",
     "output_type": "stream",
     "text": [
      "[-732. -732. -732. ... -732. -732. -732.]\n"
     ]
    }
   ],
   "source": [
    "print(sparse_matrix.diagonal())"
   ]
  },
  {
   "cell_type": "code",
   "execution_count": 16,
   "id": "56274056",
   "metadata": {
    "ExecuteTime": {
     "end_time": "2021-10-14T12:38:14.068308Z",
     "start_time": "2021-10-14T12:38:14.053318Z"
    }
   },
   "outputs": [
    {
     "name": "stdout",
     "output_type": "stream",
     "text": [
      "[[1 4]\n",
      " [3 5]\n",
      " [6 3]]\n",
      "[[3 5]\n",
      " [6 3]]\n"
     ]
    }
   ],
   "source": [
    "a = np.array([[1,4],[3,5],[6,3]])\n",
    "print(a)\n",
    "print(a[np.array([1,2])])"
   ]
  },
  {
   "cell_type": "markdown",
   "id": "3b40d1ad",
   "metadata": {},
   "source": [
    "print(z.numbers)"
   ]
  },
  {
   "cell_type": "code",
   "execution_count": 19,
   "id": "36615568",
   "metadata": {
    "ExecuteTime": {
     "end_time": "2021-10-14T12:45:51.393561Z",
     "start_time": "2021-10-14T12:45:51.384565Z"
    }
   },
   "outputs": [
    {
     "name": "stdout",
     "output_type": "stream",
     "text": [
      "  (0, 0)\t1\n",
      "  (0, 1)\t2\n",
      "  (1, 1)\t3\n"
     ]
    }
   ],
   "source": [
    "A = coo_matrix(([1,2,3],([0,0,1],[0,1,1])), shape=(2,2))\n",
    "print(A)"
   ]
  },
  {
   "cell_type": "code",
   "execution_count": 21,
   "id": "7f64dc3f",
   "metadata": {
    "ExecuteTime": {
     "end_time": "2021-10-14T12:46:13.712306Z",
     "start_time": "2021-10-14T12:46:13.689308Z"
    }
   },
   "outputs": [
    {
     "name": "stdout",
     "output_type": "stream",
     "text": [
      "(array([0, 0, 1], dtype=int64), array([0, 1, 1], dtype=int64))\n"
     ]
    }
   ],
   "source": [
    "print(np.where(A.toarray() != 0))"
   ]
  },
  {
   "cell_type": "code",
   "execution_count": 3,
   "id": "7547c725",
   "metadata": {},
   "outputs": [
    {
     "data": {
      "text/plain": [
       "55"
      ]
     },
     "execution_count": 3,
     "metadata": {},
     "output_type": "execute_result"
    }
   ],
   "source": [
    "-44%99"
   ]
  },
  {
   "cell_type": "code",
   "execution_count": 31,
   "id": "57b35389",
   "metadata": {
    "ExecuteTime": {
     "end_time": "2021-10-13T15:45:58.363456Z",
     "start_time": "2021-10-13T15:45:58.341697Z"
    }
   },
   "outputs": [
    {
     "name": "stdout",
     "output_type": "stream",
     "text": [
      "(array([1]), array([0]))\n"
     ]
    }
   ],
   "source": [
    "A = np.array([[1,2],[3,4]])\n",
    "print(np.where(A==3))"
   ]
  },
  {
   "cell_type": "code",
   "execution_count": null,
   "id": "4646a20e",
   "metadata": {},
   "outputs": [],
   "source": []
  }
 ],
 "metadata": {
  "kernelspec": {
   "display_name": "Python 3 (ipykernel)",
   "language": "python",
   "name": "python3"
  },
  "language_info": {
   "codemirror_mode": {
    "name": "ipython",
    "version": 3
   },
   "file_extension": ".py",
   "mimetype": "text/x-python",
   "name": "python",
   "nbconvert_exporter": "python",
   "pygments_lexer": "ipython3",
   "version": "3.9.7"
  }
 },
 "nbformat": 4,
 "nbformat_minor": 5
}
