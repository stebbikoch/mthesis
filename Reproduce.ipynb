{
 "cells": [
  {
   "cell_type": "code",
   "execution_count": 1,
   "id": "4b5d62bb",
   "metadata": {
    "ExecuteTime": {
     "end_time": "2021-11-30T13:46:42.768628Z",
     "start_time": "2021-11-30T13:46:42.276523Z"
    }
   },
   "outputs": [],
   "source": [
    "from matrix import build_matrix\n",
    "from matrix import integer_inequality\n",
    "import numpy as np\n",
    "from scipy.sparse import coo_matrix\n",
    "#from matplotlib import pyplot as plt\n",
    "import scipy.sparse\n",
    "from scipy.sparse.linalg import eigsh\n",
    "from scipy.sparse.linalg import eigs\n",
    "from Reproduce import main\n",
    "import time"
   ]
  },
  {
   "cell_type": "code",
   "execution_count": 2,
   "id": "b0abb755",
   "metadata": {},
   "outputs": [
    {
     "name": "stdout",
     "output_type": "stream",
     "text": [
      "/home/h3/s8583916/user-kernel/mykernel/bin/python\n"
     ]
    }
   ],
   "source": [
    "import numpy as np\n",
    "import sys\n",
    "print(sys.executable)"
   ]
  },
  {
   "cell_type": "code",
   "execution_count": null,
   "id": "e38acb44",
   "metadata": {
    "ExecuteTime": {
     "start_time": "2021-11-30T13:49:26.183Z"
    },
    "scrolled": true
   },
   "outputs": [
    {
     "name": "stdout",
     "output_type": "stream",
     "text": [
      "q 1.0\n"
     ]
    }
   ],
   "source": [
    "start = time.time()\n",
    "exponent = np.arange(16)\n",
    "q_values = 10 ** (-exponent / 3)\n",
    "#q_values=[0.01]#[0.01, 0.1]\n",
    "#k_values = [20, 50, 100, 200, 400, 800]\n",
    "r_0 = [5, 10, 15, 20, 25, 45]\n",
    "main(q_values, r_0, '2d_100_100_1','../../home/results/2d_nondirected', \n",
    "     10,np.array([100, 100, 1]),\n",
    "     parallel=True, directed=False)\n",
    "end = time.time()\n",
    "print('zeit ', end-start)"
   ]
  },
  {
   "cell_type": "code",
   "execution_count": 6,
   "id": "cbac2093",
   "metadata": {
    "ExecuteTime": {
     "end_time": "2021-11-30T11:56:43.183233Z",
     "start_time": "2021-11-30T11:56:43.121816Z"
    }
   },
   "outputs": [],
   "source": [
    "import json\n",
    "f = open('./d_functions/2d_100_100_1.json', )\n",
    "# returns JSON object as\n",
    "# a dictionary\n",
    "data = json.load(f)"
   ]
  },
  {
   "cell_type": "code",
   "execution_count": 6,
   "id": "6f6fb29a",
   "metadata": {
    "ExecuteTime": {
     "end_time": "2021-11-10T13:36:38.122850Z",
     "start_time": "2021-11-10T13:36:37.773237Z"
    },
    "scrolled": true
   },
   "outputs": [
    {
     "ename": "KeyboardInterrupt",
     "evalue": "",
     "output_type": "error",
     "traceback": [
      "\u001b[0;31m---------------------------------------------------------------------------\u001b[0m",
      "\u001b[0;31mKeyboardInterrupt\u001b[0m                         Traceback (most recent call last)",
      "\u001b[0;32m<ipython-input-6-4f0474ad078a>\u001b[0m in \u001b[0;36m<module>\u001b[0;34m\u001b[0m\n\u001b[1;32m      1\u001b[0m \u001b[0mz\u001b[0m \u001b[0;34m=\u001b[0m \u001b[0mbuild_matrix\u001b[0m\u001b[0;34m(\u001b[0m\u001b[0;34m'3d_100_100_100'\u001b[0m\u001b[0;34m,\u001b[0m \u001b[0mnp\u001b[0m\u001b[0;34m.\u001b[0m\u001b[0marray\u001b[0m\u001b[0;34m(\u001b[0m\u001b[0;34m[\u001b[0m\u001b[0;36m100\u001b[0m\u001b[0;34m,\u001b[0m \u001b[0;36m100\u001b[0m\u001b[0;34m,\u001b[0m \u001b[0;36m100\u001b[0m\u001b[0;34m]\u001b[0m\u001b[0;34m)\u001b[0m\u001b[0;34m,\u001b[0m \u001b[0;36m10\u001b[0m\u001b[0;34m)\u001b[0m\u001b[0;34m\u001b[0m\u001b[0;34m\u001b[0m\u001b[0m\n\u001b[0;32m----> 2\u001b[0;31m \u001b[0mz\u001b[0m\u001b[0;34m.\u001b[0m\u001b[0mall_indices\u001b[0m\u001b[0;34m(\u001b[0m\u001b[0;34m)\u001b[0m\u001b[0;34m\u001b[0m\u001b[0;34m\u001b[0m\u001b[0m\n\u001b[0m\u001b[1;32m      3\u001b[0m \u001b[0mz\u001b[0m\u001b[0;34m.\u001b[0m\u001b[0mone_int_index_tuples_and_adjacency\u001b[0m\u001b[0;34m(\u001b[0m\u001b[0;34m)\u001b[0m\u001b[0;34m\u001b[0m\u001b[0;34m\u001b[0m\u001b[0m\n\u001b[1;32m      4\u001b[0m \u001b[0mz\u001b[0m\u001b[0;34m.\u001b[0m\u001b[0mLaplacian_0\u001b[0m\u001b[0;34m(\u001b[0m\u001b[0;34m)\u001b[0m\u001b[0;34m\u001b[0m\u001b[0;34m\u001b[0m\u001b[0m\n",
      "\u001b[0;32m/home/h3/s8583916/workspace/mthesis/matrix.py\u001b[0m in \u001b[0;36mall_indices\u001b[0;34m(self)\u001b[0m\n\u001b[1;32m     92\u001b[0m                 \u001b[0;32mfor\u001b[0m \u001b[0mk\u001b[0m \u001b[0;32min\u001b[0m \u001b[0mrange\u001b[0m\u001b[0;34m(\u001b[0m\u001b[0mself\u001b[0m\u001b[0;34m.\u001b[0m\u001b[0mN\u001b[0m\u001b[0;34m[\u001b[0m\u001b[0;36m2\u001b[0m\u001b[0;34m]\u001b[0m\u001b[0;34m)\u001b[0m\u001b[0;34m:\u001b[0m\u001b[0;34m\u001b[0m\u001b[0;34m\u001b[0m\u001b[0m\n\u001b[1;32m     93\u001b[0m                     \u001b[0;32mfor\u001b[0m \u001b[0mitem\u001b[0m \u001b[0;32min\u001b[0m \u001b[0mself\u001b[0m\u001b[0;34m.\u001b[0m\u001b[0mD_0\u001b[0m\u001b[0;34m:\u001b[0m\u001b[0;34m\u001b[0m\u001b[0;34m\u001b[0m\u001b[0m\n\u001b[0;32m---> 94\u001b[0;31m                         tuple = [[(0+i)%self.N[0],(0+j)%self.N[1], (0+k)%self.N[2]],\n\u001b[0m\u001b[1;32m     95\u001b[0m                                            [(item[0]+i)%self.N[0], (item[1]+j)%self.N[1], (item[2]+k)%self.N[2]]]\n\u001b[1;32m     96\u001b[0m                         \u001b[0mtuples\u001b[0m\u001b[0;34m.\u001b[0m\u001b[0mappend\u001b[0m\u001b[0;34m(\u001b[0m\u001b[0mtuple\u001b[0m\u001b[0;34m)\u001b[0m\u001b[0;34m\u001b[0m\u001b[0;34m\u001b[0m\u001b[0m\n",
      "\u001b[0;31mKeyboardInterrupt\u001b[0m: "
     ]
    }
   ],
   "source": [
    "z = build_matrix('3d_100_100_100', np.array([100, 100, 100]), 10)\n",
    "z.all_indices()\n",
    "z.one_int_index_tuples_and_adjacency()\n",
    "z.Laplacian_0()"
   ]
  },
  {
   "cell_type": "code",
   "execution_count": 3,
   "id": "880b0baf",
   "metadata": {},
   "outputs": [
    {
     "data": {
      "text/plain": [
       "12.383333333333333"
      ]
     },
     "execution_count": 3,
     "metadata": {},
     "output_type": "execute_result"
    }
   ],
   "source": [
    "743/60"
   ]
  },
  {
   "cell_type": "code",
   "execution_count": 4,
   "id": "520f19eb",
   "metadata": {
    "ExecuteTime": {
     "end_time": "2021-11-10T11:24:30.956953Z",
     "start_time": "2021-11-10T11:24:30.943961Z"
    },
    "scrolled": true
   },
   "outputs": [],
   "source": [
    "import os"
   ]
  },
  {
   "cell_type": "code",
   "execution_count": 9,
   "id": "22db0247",
   "metadata": {},
   "outputs": [
    {
     "data": {
      "text/plain": [
       "True"
      ]
     },
     "execution_count": 9,
     "metadata": {},
     "output_type": "execute_result"
    }
   ],
   "source": [
    "os.path.isdir('../../home')"
   ]
  },
  {
   "cell_type": "code",
   "execution_count": 15,
   "id": "2f031586",
   "metadata": {
    "ExecuteTime": {
     "end_time": "2021-11-10T11:27:34.629125Z",
     "start_time": "2021-11-10T11:27:34.175186Z"
    },
    "scrolled": true
   },
   "outputs": [
    {
     "data": {
      "text/plain": [
       "<matplotlib.image.AxesImage at 0x1f7cbf91e50>"
      ]
     },
     "execution_count": 15,
     "metadata": {},
     "output_type": "execute_result"
    }
   ],
   "source": [
    "%matplotlib qt\n",
    "plt.imshow(z.L_rnd.toarray(), vmin=-1, vmax=1)"
   ]
  },
  {
   "cell_type": "code",
   "execution_count": 4,
   "id": "0a73229b",
   "metadata": {
    "ExecuteTime": {
     "end_time": "2021-11-10T13:17:19.542395Z",
     "start_time": "2021-11-10T13:16:44.589687Z"
    }
   },
   "outputs": [
    {
     "name": "stdout",
     "output_type": "stream",
     "text": [
      "-0.491432258197694\n"
     ]
    }
   ],
   "source": [
    "lam=np.zeros(10)\n",
    "for i in range(10):\n",
    "    z.random_rewiring(1)\n",
    "    lam[i]=z.second_largest_eigenvalue(8, 1.2)/20\n",
    "print(np.mean(lam))"
   ]
  },
  {
   "cell_type": "code",
   "execution_count": 3,
   "id": "d22345a5",
   "metadata": {
    "ExecuteTime": {
     "end_time": "2021-11-09T11:53:22.768310Z",
     "start_time": "2021-11-09T11:53:12.758942Z"
    }
   },
   "outputs": [
    {
     "name": "stdout",
     "output_type": "stream",
     "text": [
      "1.2323772778806172\n"
     ]
    }
   ],
   "source": [
    "lam = np.zeros(100)\n",
    "for i in range(100):\n",
    "    z.random_rewiring(1)\n",
    "    lam[i] = z.second_largest_eigenvalue()\n",
    "print(np.mean(lam)/10)"
   ]
  },
  {
   "cell_type": "code",
   "execution_count": 16,
   "id": "9939ce86",
   "metadata": {
    "ExecuteTime": {
     "end_time": "2021-11-10T11:33:03.277355Z",
     "start_time": "2021-11-10T11:32:59.786385Z"
    }
   },
   "outputs": [
    {
     "name": "stdout",
     "output_type": "stream",
     "text": [
      "[[-23.   0.   0. ...   0.   0.   0.]\n",
      " [  0. -21.   0. ...   0.   0.   1.]\n",
      " [  0.   0. -26. ...   0.   0.   0.]\n",
      " ...\n",
      " [  0.   0.   0. ... -30.   0.   0.]\n",
      " [  0.   0.   0. ...   0. -19.   0.]\n",
      " [  0.   1.   0. ...   0.   0. -16.]]\n"
     ]
    }
   ],
   "source": [
    "z.random_rewiring(1)\n",
    "print(z.L_rnd.toarray())"
   ]
  },
  {
   "cell_type": "code",
   "execution_count": 3,
   "id": "8182b7cd",
   "metadata": {
    "ExecuteTime": {
     "end_time": "2021-11-10T13:36:52.896446Z",
     "start_time": "2021-11-10T13:36:46.930913Z"
    }
   },
   "outputs": [
    {
     "name": "stdout",
     "output_type": "stream",
     "text": [
      "-0.49881384944856794\n"
     ]
    }
   ],
   "source": [
    "z.random_rewiring(1)\n",
    "print(z.second_largest_eigenvalue(8, 1.2)/20)"
   ]
  },
  {
   "cell_type": "code",
   "execution_count": 7,
   "id": "b48693ad",
   "metadata": {
    "ExecuteTime": {
     "end_time": "2021-11-09T11:59:27.798039Z",
     "start_time": "2021-11-09T11:59:27.786062Z"
    }
   },
   "outputs": [],
   "source": [
    "q_values = [1e-5, 1e-4, 1e-3, 1e-2, 1e-1]\n",
    "k_values = [20, 50, 100, 200, 400, 800]\n",
    "dictq = {str(q):[] for q in q_values}\n",
    "dictionary = {str(k):dictq for k in k_values}"
   ]
  },
  {
   "cell_type": "code",
   "execution_count": 6,
   "id": "5ffe3751",
   "metadata": {
    "ExecuteTime": {
     "end_time": "2021-10-21T10:25:12.418632Z",
     "start_time": "2021-10-21T10:25:12.403060Z"
    }
   },
   "outputs": [],
   "source": [
    "dictionary[str(20)][str(1e-5)].append(1)"
   ]
  },
  {
   "cell_type": "code",
   "execution_count": 7,
   "id": "c263f8ad",
   "metadata": {
    "ExecuteTime": {
     "end_time": "2021-10-21T10:25:18.239836Z",
     "start_time": "2021-10-21T10:25:18.208567Z"
    }
   },
   "outputs": [
    {
     "name": "stdout",
     "output_type": "stream",
     "text": [
      "{'20': {'1e-05': [1], '0.0001': [], '0.001': [], '0.01': [], '0.1': []}, '50': {'1e-05': [1], '0.0001': [], '0.001': [], '0.01': [], '0.1': []}, '100': {'1e-05': [1], '0.0001': [], '0.001': [], '0.01': [], '0.1': []}, '200': {'1e-05': [1], '0.0001': [], '0.001': [], '0.01': [], '0.1': []}, '400': {'1e-05': [1], '0.0001': [], '0.001': [], '0.01': [], '0.1': []}, '800': {'1e-05': [1], '0.0001': [], '0.001': [], '0.01': [], '0.1': []}}\n"
     ]
    }
   ],
   "source": [
    "print(dictionary)"
   ]
  },
  {
   "cell_type": "code",
   "execution_count": 4,
   "id": "1f575c79",
   "metadata": {
    "ExecuteTime": {
     "end_time": "2021-11-10T13:37:18.301478Z",
     "start_time": "2021-11-10T13:37:18.060789Z"
    }
   },
   "outputs": [
    {
     "ename": "ModuleNotFoundError",
     "evalue": "No module named 'networkx'",
     "output_type": "error",
     "traceback": [
      "\u001b[1;31m---------------------------------------------------------------------------\u001b[0m",
      "\u001b[1;31mModuleNotFoundError\u001b[0m                       Traceback (most recent call last)",
      "\u001b[1;32m~\\AppData\\Local\\Temp/ipykernel_12308/3059258446.py\u001b[0m in \u001b[0;36m<module>\u001b[1;34m\u001b[0m\n\u001b[1;32m----> 1\u001b[1;33m \u001b[1;32mimport\u001b[0m \u001b[0mnetworkx\u001b[0m \u001b[1;32mas\u001b[0m \u001b[0mnx\u001b[0m\u001b[1;33m\u001b[0m\u001b[1;33m\u001b[0m\u001b[0m\n\u001b[0m",
      "\u001b[1;31mModuleNotFoundError\u001b[0m: No module named 'networkx'"
     ]
    }
   ],
   "source": [
    "import networkx as nx"
   ]
  },
  {
   "cell_type": "code",
   "execution_count": 6,
   "id": "aeac5fde",
   "metadata": {
    "ExecuteTime": {
     "end_time": "2021-11-10T08:42:31.060806Z",
     "start_time": "2021-11-10T08:42:30.978940Z"
    }
   },
   "outputs": [
    {
     "data": {
      "text/plain": [
       "200"
      ]
     },
     "execution_count": 6,
     "metadata": {},
     "output_type": "execute_result"
    }
   ],
   "source": [
    "np.random.binomial(200, 1)"
   ]
  },
  {
   "cell_type": "code",
   "execution_count": 12,
   "id": "a4759921",
   "metadata": {
    "ExecuteTime": {
     "end_time": "2021-11-10T11:03:31.858433Z",
     "start_time": "2021-11-10T11:03:31.852423Z"
    }
   },
   "outputs": [],
   "source": [
    "from scipy.sparse import csr_matrix, triu, tril, find\n",
    "A = csr_matrix([[1, 2, 0, 0, 3], [4, 5, 0, 6, 7], [0, 0, 8, 9, 0],[1,1,1,5,4],[0,0,0,3,4]],dtype='int32')"
   ]
  },
  {
   "cell_type": "code",
   "execution_count": 11,
   "id": "513137cd",
   "metadata": {
    "ExecuteTime": {
     "end_time": "2021-11-10T10:52:15.029301Z",
     "start_time": "2021-11-10T10:52:15.017309Z"
    }
   },
   "outputs": [
    {
     "name": "stdout",
     "output_type": "stream",
     "text": [
      "[[0 0 0 0 0]\n",
      " [4 0 0 0 0]\n",
      " [0 0 0 0 0]\n",
      " [1 1 1 0 0]\n",
      " [0 0 0 3 0]]\n"
     ]
    }
   ],
   "source": [
    "print(tril(A,k=4-5).toarray())"
   ]
  },
  {
   "cell_type": "code",
   "execution_count": 10,
   "id": "78a2cb90",
   "metadata": {
    "ExecuteTime": {
     "end_time": "2021-11-10T10:25:32.526169Z",
     "start_time": "2021-11-10T10:25:32.522171Z"
    }
   },
   "outputs": [
    {
     "name": "stdout",
     "output_type": "stream",
     "text": [
      "[[0 0 8 9 0]]\n"
     ]
    }
   ],
   "source": [
    "print(A.getrow(2).toarray())"
   ]
  },
  {
   "cell_type": "code",
   "execution_count": 18,
   "id": "c33b1cb9",
   "metadata": {
    "ExecuteTime": {
     "end_time": "2021-11-10T08:47:42.336703Z",
     "start_time": "2021-11-10T08:47:42.315701Z"
    }
   },
   "outputs": [
    {
     "name": "stdout",
     "output_type": "stream",
     "text": [
      "(array([0, 1, 2, 0, 1, 3], dtype=int32), array([1, 3, 3, 4, 4, 4], dtype=int32), array([2, 6, 9, 3, 7, 4], dtype=int32))\n"
     ]
    }
   ],
   "source": [
    "print(find(triu(A,k=1)))"
   ]
  },
  {
   "cell_type": "code",
   "execution_count": 17,
   "id": "2fcf8dc5",
   "metadata": {
    "ExecuteTime": {
     "end_time": "2021-11-10T11:05:04.584932Z",
     "start_time": "2021-11-10T11:05:04.579934Z"
    }
   },
   "outputs": [
    {
     "name": "stdout",
     "output_type": "stream",
     "text": [
      "[[1 2 0 0 3]\n",
      " [4 5 0 6 7]\n",
      " [0 0 8 9 0]\n",
      " [1 1 1 5 4]\n",
      " [0 0 0 3 4]] [[ 2  4  0  0  6]\n",
      " [ 8 10  0 12 14]\n",
      " [ 0  0 16 18  0]\n",
      " [ 2  2  2 10  8]\n",
      " [ 0  0  0  6  8]]\n"
     ]
    }
   ],
   "source": [
    "A_new =A\n",
    "A_new+=A_new\n",
    "print(A.toarray(), A_new.toarray())"
   ]
  },
  {
   "cell_type": "code",
   "execution_count": 39,
   "id": "96c2b4e7",
   "metadata": {
    "ExecuteTime": {
     "end_time": "2021-11-10T09:36:16.044469Z",
     "start_time": "2021-11-10T09:36:16.026021Z"
    }
   },
   "outputs": [],
   "source": [
    "x = np.array([1,1,1,2,2,3,1,3,4,7,8])"
   ]
  },
  {
   "cell_type": "code",
   "execution_count": 40,
   "id": "6b6143b7",
   "metadata": {
    "ExecuteTime": {
     "end_time": "2021-11-10T09:36:20.269383Z",
     "start_time": "2021-11-10T09:36:20.259376Z"
    }
   },
   "outputs": [
    {
     "data": {
      "text/plain": [
       "array([0, 4, 2, 2, 1, 0, 0, 1, 1], dtype=int64)"
      ]
     },
     "execution_count": 40,
     "metadata": {},
     "output_type": "execute_result"
    }
   ],
   "source": [
    "np.bincount(x)"
   ]
  },
  {
   "cell_type": "code",
   "execution_count": 43,
   "id": "148caa69",
   "metadata": {
    "ExecuteTime": {
     "end_time": "2021-11-10T09:39:30.030487Z",
     "start_time": "2021-11-10T09:39:30.008488Z"
    }
   },
   "outputs": [
    {
     "ename": "NameError",
     "evalue": "name 'csc' is not defined",
     "output_type": "error",
     "traceback": [
      "\u001b[1;31m---------------------------------------------------------------------------\u001b[0m",
      "\u001b[1;31mNameError\u001b[0m                                 Traceback (most recent call last)",
      "\u001b[1;32m~\\AppData\\Local\\Temp/ipykernel_13028/1648771252.py\u001b[0m in \u001b[0;36m<module>\u001b[1;34m\u001b[0m\n\u001b[1;32m----> 1\u001b[1;33m \u001b[0my\u001b[0m \u001b[1;33m=\u001b[0m \u001b[0mfind\u001b[0m\u001b[1;33m(\u001b[0m\u001b[0mcsc\u001b[0m\u001b[1;33m(\u001b[0m\u001b[0mx\u001b[0m\u001b[1;33m)\u001b[0m\u001b[1;33m)\u001b[0m\u001b[1;33m\u001b[0m\u001b[1;33m\u001b[0m\u001b[0m\n\u001b[0m\u001b[0;32m      2\u001b[0m \u001b[0mprint\u001b[0m\u001b[1;33m(\u001b[0m\u001b[0my\u001b[0m\u001b[1;33m)\u001b[0m\u001b[1;33m\u001b[0m\u001b[1;33m\u001b[0m\u001b[0m\n",
      "\u001b[1;31mNameError\u001b[0m: name 'csc' is not defined"
     ]
    }
   ],
   "source": [
    "y = find(csc(x))\n",
    "print(y)"
   ]
  },
  {
   "cell_type": "code",
   "execution_count": 7,
   "id": "58abd9ef",
   "metadata": {
    "ExecuteTime": {
     "end_time": "2021-11-10T10:23:35.420376Z",
     "start_time": "2021-11-10T10:23:35.416378Z"
    }
   },
   "outputs": [
    {
     "name": "stdout",
     "output_type": "stream",
     "text": [
      "<class 'numpy.ndarray'>\n"
     ]
    }
   ],
   "source": [
    "print(type(np.append([1,2,3],[2,2,3])))"
   ]
  },
  {
   "cell_type": "code",
   "execution_count": 20,
   "id": "35e38ba3",
   "metadata": {
    "ExecuteTime": {
     "end_time": "2021-11-10T11:49:41.191146Z",
     "start_time": "2021-11-10T11:49:41.172157Z"
    }
   },
   "outputs": [
    {
     "name": "stdout",
     "output_type": "stream",
     "text": [
      "20 1000 -0.5572811275764269\n",
      "50 1000 -0.7243190249581956\n",
      "100 1000 -0.8102633403898972\n"
     ]
    }
   ],
   "source": [
    "N = 1000\n",
    "for k in [20, 50, 100]:\n",
    "    print(k,N,2*np.sqrt(1/k -1/N)-1)"
   ]
  },
  {
   "cell_type": "code",
   "execution_count": null,
   "id": "8875293e",
   "metadata": {},
   "outputs": [],
   "source": []
  }
 ],
 "metadata": {
  "kernelspec": {
   "display_name": "Python 3 (ipykernel)",
   "language": "python",
   "name": "python3"
  },
  "language_info": {
   "codemirror_mode": {
    "name": "ipython",
    "version": 3
   },
   "file_extension": ".py",
   "mimetype": "text/x-python",
   "name": "python",
   "nbconvert_exporter": "python",
   "pygments_lexer": "ipython3",
   "version": "3.9.7"
  }
 },
 "nbformat": 4,
 "nbformat_minor": 5
}
