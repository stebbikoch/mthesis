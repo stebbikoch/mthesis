{
 "cells": [
  {
   "cell_type": "code",
   "execution_count": 1,
   "id": "68dac2d8",
   "metadata": {
    "ExecuteTime": {
     "end_time": "2021-11-10T13:36:34.843363Z",
     "start_time": "2021-11-10T13:36:34.133574Z"
    }
   },
   "outputs": [],
   "source": [
    "from matrix import build_matrix\n",
    "from matrix import integer_inequality\n",
    "import numpy as np\n",
    "from scipy.sparse import coo_matrix\n",
    "from matplotlib import pyplot as plt\n",
    "import scipy.sparse\n",
    "from scipy.sparse.linalg import eigsh\n",
    "from scipy.sparse.linalg import eigs\n",
    "from Reproduce import main"
   ]
  },
  {
   "cell_type": "code",
   "execution_count": null,
   "id": "5f0d5267",
   "metadata": {
    "ExecuteTime": {
     "start_time": "2021-11-08T15:57:31.975Z"
    }
   },
   "outputs": [
    {
     "name": "stdout",
     "output_type": "stream",
     "text": [
      "[[-10, 0, 0], [-9, 0, 0], [-8, 0, 0], [-7, 0, 0], [-6, 0, 0], [-5, 0, 0], [-4, 0, 0], [-3, 0, 0], [-2, 0, 0], [-1, 0, 0], [1, 0, 0], [2, 0, 0], [3, 0, 0], [4, 0, 0], [5, 0, 0], [6, 0, 0], [7, 0, 0], [8, 0, 0], [9, 0, 0], [10, 0, 0]]\n",
      "edges 20000\n",
      "one k done. 20\n",
      "[[-25, 0, 0], [-24, 0, 0], [-23, 0, 0], [-22, 0, 0], [-21, 0, 0], [-20, 0, 0], [-19, 0, 0], [-18, 0, 0], [-17, 0, 0], [-16, 0, 0], [-15, 0, 0], [-14, 0, 0], [-13, 0, 0], [-12, 0, 0], [-11, 0, 0], [-10, 0, 0], [-9, 0, 0], [-8, 0, 0], [-7, 0, 0], [-6, 0, 0], [-5, 0, 0], [-4, 0, 0], [-3, 0, 0], [-2, 0, 0], [-1, 0, 0], [1, 0, 0], [2, 0, 0], [3, 0, 0], [4, 0, 0], [5, 0, 0], [6, 0, 0], [7, 0, 0], [8, 0, 0], [9, 0, 0], [10, 0, 0], [11, 0, 0], [12, 0, 0], [13, 0, 0], [14, 0, 0], [15, 0, 0], [16, 0, 0], [17, 0, 0], [18, 0, 0], [19, 0, 0], [20, 0, 0], [21, 0, 0], [22, 0, 0], [23, 0, 0], [24, 0, 0], [25, 0, 0]]\n",
      "edges 50000\n",
      "one k done. 50\n",
      "[[-50, 0, 0], [-49, 0, 0], [-48, 0, 0], [-47, 0, 0], [-46, 0, 0], [-45, 0, 0], [-44, 0, 0], [-43, 0, 0], [-42, 0, 0], [-41, 0, 0], [-40, 0, 0], [-39, 0, 0], [-38, 0, 0], [-37, 0, 0], [-36, 0, 0], [-35, 0, 0], [-34, 0, 0], [-33, 0, 0], [-32, 0, 0], [-31, 0, 0], [-30, 0, 0], [-29, 0, 0], [-28, 0, 0], [-27, 0, 0], [-26, 0, 0], [-25, 0, 0], [-24, 0, 0], [-23, 0, 0], [-22, 0, 0], [-21, 0, 0], [-20, 0, 0], [-19, 0, 0], [-18, 0, 0], [-17, 0, 0], [-16, 0, 0], [-15, 0, 0], [-14, 0, 0], [-13, 0, 0], [-12, 0, 0], [-11, 0, 0], [-10, 0, 0], [-9, 0, 0], [-8, 0, 0], [-7, 0, 0], [-6, 0, 0], [-5, 0, 0], [-4, 0, 0], [-3, 0, 0], [-2, 0, 0], [-1, 0, 0], [1, 0, 0], [2, 0, 0], [3, 0, 0], [4, 0, 0], [5, 0, 0], [6, 0, 0], [7, 0, 0], [8, 0, 0], [9, 0, 0], [10, 0, 0], [11, 0, 0], [12, 0, 0], [13, 0, 0], [14, 0, 0], [15, 0, 0], [16, 0, 0], [17, 0, 0], [18, 0, 0], [19, 0, 0], [20, 0, 0], [21, 0, 0], [22, 0, 0], [23, 0, 0], [24, 0, 0], [25, 0, 0], [26, 0, 0], [27, 0, 0], [28, 0, 0], [29, 0, 0], [30, 0, 0], [31, 0, 0], [32, 0, 0], [33, 0, 0], [34, 0, 0], [35, 0, 0], [36, 0, 0], [37, 0, 0], [38, 0, 0], [39, 0, 0], [40, 0, 0], [41, 0, 0], [42, 0, 0], [43, 0, 0], [44, 0, 0], [45, 0, 0], [46, 0, 0], [47, 0, 0], [48, 0, 0], [49, 0, 0], [50, 0, 0]]\n",
      "edges 100000\n",
      "one k done. 100\n",
      "[[-100, 0, 0], [-99, 0, 0], [-98, 0, 0], [-97, 0, 0], [-96, 0, 0], [-95, 0, 0], [-94, 0, 0], [-93, 0, 0], [-92, 0, 0], [-91, 0, 0], [-90, 0, 0], [-89, 0, 0], [-88, 0, 0], [-87, 0, 0], [-86, 0, 0], [-85, 0, 0], [-84, 0, 0], [-83, 0, 0], [-82, 0, 0], [-81, 0, 0], [-80, 0, 0], [-79, 0, 0], [-78, 0, 0], [-77, 0, 0], [-76, 0, 0], [-75, 0, 0], [-74, 0, 0], [-73, 0, 0], [-72, 0, 0], [-71, 0, 0], [-70, 0, 0], [-69, 0, 0], [-68, 0, 0], [-67, 0, 0], [-66, 0, 0], [-65, 0, 0], [-64, 0, 0], [-63, 0, 0], [-62, 0, 0], [-61, 0, 0], [-60, 0, 0], [-59, 0, 0], [-58, 0, 0], [-57, 0, 0], [-56, 0, 0], [-55, 0, 0], [-54, 0, 0], [-53, 0, 0], [-52, 0, 0], [-51, 0, 0], [-50, 0, 0], [-49, 0, 0], [-48, 0, 0], [-47, 0, 0], [-46, 0, 0], [-45, 0, 0], [-44, 0, 0], [-43, 0, 0], [-42, 0, 0], [-41, 0, 0], [-40, 0, 0], [-39, 0, 0], [-38, 0, 0], [-37, 0, 0], [-36, 0, 0], [-35, 0, 0], [-34, 0, 0], [-33, 0, 0], [-32, 0, 0], [-31, 0, 0], [-30, 0, 0], [-29, 0, 0], [-28, 0, 0], [-27, 0, 0], [-26, 0, 0], [-25, 0, 0], [-24, 0, 0], [-23, 0, 0], [-22, 0, 0], [-21, 0, 0], [-20, 0, 0], [-19, 0, 0], [-18, 0, 0], [-17, 0, 0], [-16, 0, 0], [-15, 0, 0], [-14, 0, 0], [-13, 0, 0], [-12, 0, 0], [-11, 0, 0], [-10, 0, 0], [-9, 0, 0], [-8, 0, 0], [-7, 0, 0], [-6, 0, 0], [-5, 0, 0], [-4, 0, 0], [-3, 0, 0], [-2, 0, 0], [-1, 0, 0], [1, 0, 0], [2, 0, 0], [3, 0, 0], [4, 0, 0], [5, 0, 0], [6, 0, 0], [7, 0, 0], [8, 0, 0], [9, 0, 0], [10, 0, 0], [11, 0, 0], [12, 0, 0], [13, 0, 0], [14, 0, 0], [15, 0, 0], [16, 0, 0], [17, 0, 0], [18, 0, 0], [19, 0, 0], [20, 0, 0], [21, 0, 0], [22, 0, 0], [23, 0, 0], [24, 0, 0], [25, 0, 0], [26, 0, 0], [27, 0, 0], [28, 0, 0], [29, 0, 0], [30, 0, 0], [31, 0, 0], [32, 0, 0], [33, 0, 0], [34, 0, 0], [35, 0, 0], [36, 0, 0], [37, 0, 0], [38, 0, 0], [39, 0, 0], [40, 0, 0], [41, 0, 0], [42, 0, 0], [43, 0, 0], [44, 0, 0], [45, 0, 0], [46, 0, 0], [47, 0, 0], [48, 0, 0], [49, 0, 0], [50, 0, 0], [51, 0, 0], [52, 0, 0], [53, 0, 0], [54, 0, 0], [55, 0, 0], [56, 0, 0], [57, 0, 0], [58, 0, 0], [59, 0, 0], [60, 0, 0], [61, 0, 0], [62, 0, 0], [63, 0, 0], [64, 0, 0], [65, 0, 0], [66, 0, 0], [67, 0, 0], [68, 0, 0], [69, 0, 0], [70, 0, 0], [71, 0, 0], [72, 0, 0], [73, 0, 0], [74, 0, 0], [75, 0, 0], [76, 0, 0], [77, 0, 0], [78, 0, 0], [79, 0, 0], [80, 0, 0], [81, 0, 0], [82, 0, 0], [83, 0, 0], [84, 0, 0], [85, 0, 0], [86, 0, 0], [87, 0, 0], [88, 0, 0], [89, 0, 0], [90, 0, 0], [91, 0, 0], [92, 0, 0], [93, 0, 0], [94, 0, 0], [95, 0, 0], [96, 0, 0], [97, 0, 0], [98, 0, 0], [99, 0, 0], [100, 0, 0]]\n",
      "edges 200000\n"
     ]
    }
   ],
   "source": [
    "exponent = np.arange(16)\n",
    "q_values = 10 ** (-exponent / 3)\n",
    "k_values = [20, 50, 100, 200, 400, 800]\n",
    "main(q_values, k_values, 'reproduce_1000_undirected_with_averaging', 100)"
   ]
  },
  {
   "cell_type": "code",
   "execution_count": 2,
   "id": "c1d43455",
   "metadata": {
    "ExecuteTime": {
     "end_time": "2021-11-10T13:36:38.122850Z",
     "start_time": "2021-11-10T13:36:37.773237Z"
    },
    "scrolled": true
   },
   "outputs": [
    {
     "name": "stdout",
     "output_type": "stream",
     "text": [
      "[[-10, 0, 0], [-9, 0, 0], [-8, 0, 0], [-7, 0, 0], [-6, 0, 0], [-5, 0, 0], [-4, 0, 0], [-3, 0, 0], [-2, 0, 0], [-1, 0, 0], [1, 0, 0], [2, 0, 0], [3, 0, 0], [4, 0, 0], [5, 0, 0], [6, 0, 0], [7, 0, 0], [8, 0, 0], [9, 0, 0], [10, 0, 0]]\n",
      "edges 20000\n"
     ]
    }
   ],
   "source": [
    "z = build_matrix('1d_ring_1000', np.array([1000, 1, 1]), 10)\n",
    "z.all_indices()\n",
    "z.one_int_index_tuples_and_adjacency()\n",
    "z.Laplacian_0()"
   ]
  },
  {
   "cell_type": "code",
   "execution_count": 9,
   "id": "79c929cc",
   "metadata": {
    "ExecuteTime": {
     "end_time": "2021-11-10T11:24:30.956953Z",
     "start_time": "2021-11-10T11:24:30.943961Z"
    },
    "scrolled": true
   },
   "outputs": [
    {
     "name": "stdout",
     "output_type": "stream",
     "text": [
      "[[-23.   0.   0. ...   0.   0.   0.]\n",
      " [  0. -25.   1. ...   0.   0.   0.]\n",
      " [  0.   1. -18. ...   0.   0.   0.]\n",
      " ...\n",
      " [  0.   0.   0. ... -22.   0.   1.]\n",
      " [  0.   0.   0. ...   0. -18.   0.]\n",
      " [  0.   0.   0. ...   1.   0. -16.]]\n"
     ]
    }
   ],
   "source": [
    "print(z.L_rnd.toarray())"
   ]
  },
  {
   "cell_type": "code",
   "execution_count": 15,
   "id": "7eff4a0b",
   "metadata": {
    "ExecuteTime": {
     "end_time": "2021-11-10T11:27:34.629125Z",
     "start_time": "2021-11-10T11:27:34.175186Z"
    },
    "scrolled": true
   },
   "outputs": [
    {
     "data": {
      "text/plain": [
       "<matplotlib.image.AxesImage at 0x1f7cbf91e50>"
      ]
     },
     "execution_count": 15,
     "metadata": {},
     "output_type": "execute_result"
    }
   ],
   "source": [
    "%matplotlib qt\n",
    "plt.imshow(z.L_rnd.toarray(), vmin=-1, vmax=1)"
   ]
  },
  {
   "cell_type": "code",
   "execution_count": 4,
   "id": "cf9a30d3",
   "metadata": {
    "ExecuteTime": {
     "end_time": "2021-11-10T13:17:19.542395Z",
     "start_time": "2021-11-10T13:16:44.589687Z"
    }
   },
   "outputs": [
    {
     "name": "stdout",
     "output_type": "stream",
     "text": [
      "-0.491432258197694\n"
     ]
    }
   ],
   "source": [
    "lam=np.zeros(10)\n",
    "for i in range(10):\n",
    "    z.random_rewiring(1)\n",
    "    lam[i]=z.second_largest_eigenvalue(8, 1.2)/20\n",
    "print(np.mean(lam))"
   ]
  },
  {
   "cell_type": "code",
   "execution_count": 3,
   "id": "269344b5",
   "metadata": {
    "ExecuteTime": {
     "end_time": "2021-11-09T11:53:22.768310Z",
     "start_time": "2021-11-09T11:53:12.758942Z"
    }
   },
   "outputs": [
    {
     "name": "stdout",
     "output_type": "stream",
     "text": [
      "1.2323772778806172\n"
     ]
    }
   ],
   "source": [
    "lam = np.zeros(100)\n",
    "for i in range(100):\n",
    "    z.random_rewiring(1)\n",
    "    lam[i] = z.second_largest_eigenvalue()\n",
    "print(np.mean(lam)/10)"
   ]
  },
  {
   "cell_type": "code",
   "execution_count": 16,
   "id": "86fd589d",
   "metadata": {
    "ExecuteTime": {
     "end_time": "2021-11-10T11:33:03.277355Z",
     "start_time": "2021-11-10T11:32:59.786385Z"
    }
   },
   "outputs": [
    {
     "name": "stdout",
     "output_type": "stream",
     "text": [
      "[[-23.   0.   0. ...   0.   0.   0.]\n",
      " [  0. -21.   0. ...   0.   0.   1.]\n",
      " [  0.   0. -26. ...   0.   0.   0.]\n",
      " ...\n",
      " [  0.   0.   0. ... -30.   0.   0.]\n",
      " [  0.   0.   0. ...   0. -19.   0.]\n",
      " [  0.   1.   0. ...   0.   0. -16.]]\n"
     ]
    }
   ],
   "source": [
    "z.random_rewiring(1)\n",
    "print(z.L_rnd.toarray())"
   ]
  },
  {
   "cell_type": "code",
   "execution_count": 3,
   "id": "bb861dde",
   "metadata": {
    "ExecuteTime": {
     "end_time": "2021-11-10T13:36:52.896446Z",
     "start_time": "2021-11-10T13:36:46.930913Z"
    }
   },
   "outputs": [
    {
     "name": "stdout",
     "output_type": "stream",
     "text": [
      "-0.49881384944856794\n"
     ]
    }
   ],
   "source": [
    "z.random_rewiring(1)\n",
    "print(z.second_largest_eigenvalue(8, 1.2)/20)"
   ]
  },
  {
   "cell_type": "code",
   "execution_count": 7,
   "id": "4fcc73ef",
   "metadata": {
    "ExecuteTime": {
     "end_time": "2021-11-09T11:59:27.798039Z",
     "start_time": "2021-11-09T11:59:27.786062Z"
    }
   },
   "outputs": [],
   "source": [
    "q_values = [1e-5, 1e-4, 1e-3, 1e-2, 1e-1]\n",
    "k_values = [20, 50, 100, 200, 400, 800]\n",
    "dictq = {str(q):[] for q in q_values}\n",
    "dictionary = {str(k):dictq for k in k_values}"
   ]
  },
  {
   "cell_type": "code",
   "execution_count": 6,
   "id": "4a729f89",
   "metadata": {
    "ExecuteTime": {
     "end_time": "2021-10-21T10:25:12.418632Z",
     "start_time": "2021-10-21T10:25:12.403060Z"
    }
   },
   "outputs": [],
   "source": [
    "dictionary[str(20)][str(1e-5)].append(1)"
   ]
  },
  {
   "cell_type": "code",
   "execution_count": 7,
   "id": "3b76166e",
   "metadata": {
    "ExecuteTime": {
     "end_time": "2021-10-21T10:25:18.239836Z",
     "start_time": "2021-10-21T10:25:18.208567Z"
    }
   },
   "outputs": [
    {
     "name": "stdout",
     "output_type": "stream",
     "text": [
      "{'20': {'1e-05': [1], '0.0001': [], '0.001': [], '0.01': [], '0.1': []}, '50': {'1e-05': [1], '0.0001': [], '0.001': [], '0.01': [], '0.1': []}, '100': {'1e-05': [1], '0.0001': [], '0.001': [], '0.01': [], '0.1': []}, '200': {'1e-05': [1], '0.0001': [], '0.001': [], '0.01': [], '0.1': []}, '400': {'1e-05': [1], '0.0001': [], '0.001': [], '0.01': [], '0.1': []}, '800': {'1e-05': [1], '0.0001': [], '0.001': [], '0.01': [], '0.1': []}}\n"
     ]
    }
   ],
   "source": [
    "print(dictionary)"
   ]
  },
  {
   "cell_type": "code",
   "execution_count": 4,
   "id": "67f6c61f",
   "metadata": {
    "ExecuteTime": {
     "end_time": "2021-11-10T13:37:18.301478Z",
     "start_time": "2021-11-10T13:37:18.060789Z"
    }
   },
   "outputs": [
    {
     "ename": "ModuleNotFoundError",
     "evalue": "No module named 'networkx'",
     "output_type": "error",
     "traceback": [
      "\u001b[1;31m---------------------------------------------------------------------------\u001b[0m",
      "\u001b[1;31mModuleNotFoundError\u001b[0m                       Traceback (most recent call last)",
      "\u001b[1;32m~\\AppData\\Local\\Temp/ipykernel_12308/3059258446.py\u001b[0m in \u001b[0;36m<module>\u001b[1;34m\u001b[0m\n\u001b[1;32m----> 1\u001b[1;33m \u001b[1;32mimport\u001b[0m \u001b[0mnetworkx\u001b[0m \u001b[1;32mas\u001b[0m \u001b[0mnx\u001b[0m\u001b[1;33m\u001b[0m\u001b[1;33m\u001b[0m\u001b[0m\n\u001b[0m",
      "\u001b[1;31mModuleNotFoundError\u001b[0m: No module named 'networkx'"
     ]
    }
   ],
   "source": [
    "import networkx as nx"
   ]
  },
  {
   "cell_type": "code",
   "execution_count": 6,
   "id": "119b8db3",
   "metadata": {
    "ExecuteTime": {
     "end_time": "2021-11-10T08:42:31.060806Z",
     "start_time": "2021-11-10T08:42:30.978940Z"
    }
   },
   "outputs": [
    {
     "data": {
      "text/plain": [
       "200"
      ]
     },
     "execution_count": 6,
     "metadata": {},
     "output_type": "execute_result"
    }
   ],
   "source": [
    "np.random.binomial(200, 1)"
   ]
  },
  {
   "cell_type": "code",
   "execution_count": 12,
   "id": "1e0d7c0b",
   "metadata": {
    "ExecuteTime": {
     "end_time": "2021-11-10T11:03:31.858433Z",
     "start_time": "2021-11-10T11:03:31.852423Z"
    }
   },
   "outputs": [],
   "source": [
    "from scipy.sparse import csr_matrix, triu, tril, find\n",
    "A = csr_matrix([[1, 2, 0, 0, 3], [4, 5, 0, 6, 7], [0, 0, 8, 9, 0],[1,1,1,5,4],[0,0,0,3,4]],dtype='int32')"
   ]
  },
  {
   "cell_type": "code",
   "execution_count": 11,
   "id": "a62451aa",
   "metadata": {
    "ExecuteTime": {
     "end_time": "2021-11-10T10:52:15.029301Z",
     "start_time": "2021-11-10T10:52:15.017309Z"
    }
   },
   "outputs": [
    {
     "name": "stdout",
     "output_type": "stream",
     "text": [
      "[[0 0 0 0 0]\n",
      " [4 0 0 0 0]\n",
      " [0 0 0 0 0]\n",
      " [1 1 1 0 0]\n",
      " [0 0 0 3 0]]\n"
     ]
    }
   ],
   "source": [
    "print(tril(A,k=4-5).toarray())"
   ]
  },
  {
   "cell_type": "code",
   "execution_count": 10,
   "id": "8e66e25f",
   "metadata": {
    "ExecuteTime": {
     "end_time": "2021-11-10T10:25:32.526169Z",
     "start_time": "2021-11-10T10:25:32.522171Z"
    }
   },
   "outputs": [
    {
     "name": "stdout",
     "output_type": "stream",
     "text": [
      "[[0 0 8 9 0]]\n"
     ]
    }
   ],
   "source": [
    "print(A.getrow(2).toarray())"
   ]
  },
  {
   "cell_type": "code",
   "execution_count": 18,
   "id": "d5f8c1eb",
   "metadata": {
    "ExecuteTime": {
     "end_time": "2021-11-10T08:47:42.336703Z",
     "start_time": "2021-11-10T08:47:42.315701Z"
    }
   },
   "outputs": [
    {
     "name": "stdout",
     "output_type": "stream",
     "text": [
      "(array([0, 1, 2, 0, 1, 3], dtype=int32), array([1, 3, 3, 4, 4, 4], dtype=int32), array([2, 6, 9, 3, 7, 4], dtype=int32))\n"
     ]
    }
   ],
   "source": [
    "print(find(triu(A,k=1)))"
   ]
  },
  {
   "cell_type": "code",
   "execution_count": 17,
   "id": "fc09f7de",
   "metadata": {
    "ExecuteTime": {
     "end_time": "2021-11-10T11:05:04.584932Z",
     "start_time": "2021-11-10T11:05:04.579934Z"
    }
   },
   "outputs": [
    {
     "name": "stdout",
     "output_type": "stream",
     "text": [
      "[[1 2 0 0 3]\n",
      " [4 5 0 6 7]\n",
      " [0 0 8 9 0]\n",
      " [1 1 1 5 4]\n",
      " [0 0 0 3 4]] [[ 2  4  0  0  6]\n",
      " [ 8 10  0 12 14]\n",
      " [ 0  0 16 18  0]\n",
      " [ 2  2  2 10  8]\n",
      " [ 0  0  0  6  8]]\n"
     ]
    }
   ],
   "source": [
    "A_new =A\n",
    "A_new+=A_new\n",
    "print(A.toarray(), A_new.toarray())"
   ]
  },
  {
   "cell_type": "code",
   "execution_count": 39,
   "id": "7b330778",
   "metadata": {
    "ExecuteTime": {
     "end_time": "2021-11-10T09:36:16.044469Z",
     "start_time": "2021-11-10T09:36:16.026021Z"
    }
   },
   "outputs": [],
   "source": [
    "x = np.array([1,1,1,2,2,3,1,3,4,7,8])"
   ]
  },
  {
   "cell_type": "code",
   "execution_count": 40,
   "id": "e97b564d",
   "metadata": {
    "ExecuteTime": {
     "end_time": "2021-11-10T09:36:20.269383Z",
     "start_time": "2021-11-10T09:36:20.259376Z"
    }
   },
   "outputs": [
    {
     "data": {
      "text/plain": [
       "array([0, 4, 2, 2, 1, 0, 0, 1, 1], dtype=int64)"
      ]
     },
     "execution_count": 40,
     "metadata": {},
     "output_type": "execute_result"
    }
   ],
   "source": [
    "np.bincount(x)"
   ]
  },
  {
   "cell_type": "code",
   "execution_count": 43,
   "id": "b927b11f",
   "metadata": {
    "ExecuteTime": {
     "end_time": "2021-11-10T09:39:30.030487Z",
     "start_time": "2021-11-10T09:39:30.008488Z"
    }
   },
   "outputs": [
    {
     "ename": "NameError",
     "evalue": "name 'csc' is not defined",
     "output_type": "error",
     "traceback": [
      "\u001b[1;31m---------------------------------------------------------------------------\u001b[0m",
      "\u001b[1;31mNameError\u001b[0m                                 Traceback (most recent call last)",
      "\u001b[1;32m~\\AppData\\Local\\Temp/ipykernel_13028/1648771252.py\u001b[0m in \u001b[0;36m<module>\u001b[1;34m\u001b[0m\n\u001b[1;32m----> 1\u001b[1;33m \u001b[0my\u001b[0m \u001b[1;33m=\u001b[0m \u001b[0mfind\u001b[0m\u001b[1;33m(\u001b[0m\u001b[0mcsc\u001b[0m\u001b[1;33m(\u001b[0m\u001b[0mx\u001b[0m\u001b[1;33m)\u001b[0m\u001b[1;33m)\u001b[0m\u001b[1;33m\u001b[0m\u001b[1;33m\u001b[0m\u001b[0m\n\u001b[0m\u001b[0;32m      2\u001b[0m \u001b[0mprint\u001b[0m\u001b[1;33m(\u001b[0m\u001b[0my\u001b[0m\u001b[1;33m)\u001b[0m\u001b[1;33m\u001b[0m\u001b[1;33m\u001b[0m\u001b[0m\n",
      "\u001b[1;31mNameError\u001b[0m: name 'csc' is not defined"
     ]
    }
   ],
   "source": [
    "y = find(csc(x))\n",
    "print(y)"
   ]
  },
  {
   "cell_type": "code",
   "execution_count": 7,
   "id": "5e50695d",
   "metadata": {
    "ExecuteTime": {
     "end_time": "2021-11-10T10:23:35.420376Z",
     "start_time": "2021-11-10T10:23:35.416378Z"
    }
   },
   "outputs": [
    {
     "name": "stdout",
     "output_type": "stream",
     "text": [
      "<class 'numpy.ndarray'>\n"
     ]
    }
   ],
   "source": [
    "print(type(np.append([1,2,3],[2,2,3])))"
   ]
  },
  {
   "cell_type": "code",
   "execution_count": 20,
   "id": "f1a058a3",
   "metadata": {
    "ExecuteTime": {
     "end_time": "2021-11-10T11:49:41.191146Z",
     "start_time": "2021-11-10T11:49:41.172157Z"
    }
   },
   "outputs": [
    {
     "name": "stdout",
     "output_type": "stream",
     "text": [
      "20 1000 -0.5572811275764269\n",
      "50 1000 -0.7243190249581956\n",
      "100 1000 -0.8102633403898972\n"
     ]
    }
   ],
   "source": [
    "N = 1000\n",
    "for k in [20, 50, 100]:\n",
    "    print(k,N,2*np.sqrt(1/k -1/N)-1)"
   ]
  },
  {
   "cell_type": "code",
   "execution_count": null,
   "id": "3e9d25c2",
   "metadata": {},
   "outputs": [],
   "source": []
  }
 ],
 "metadata": {
  "kernelspec": {
   "display_name": "Python 3 (ipykernel)",
   "language": "python",
   "name": "python3"
  },
  "language_info": {
   "codemirror_mode": {
    "name": "ipython",
    "version": 3
   },
   "file_extension": ".py",
   "mimetype": "text/x-python",
   "name": "python",
   "nbconvert_exporter": "python",
   "pygments_lexer": "ipython3",
   "version": "3.9.7"
  }
 },
 "nbformat": 4,
 "nbformat_minor": 5
}
