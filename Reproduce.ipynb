{
 "cells": [
  {
   "cell_type": "code",
   "execution_count": 1,
   "id": "68dac2d8",
   "metadata": {
    "ExecuteTime": {
     "end_time": "2021-10-21T08:28:53.867170Z",
     "start_time": "2021-10-21T08:28:52.648689Z"
    }
   },
   "outputs": [],
   "source": [
    "from matrix import build_matrix\n",
    "from matrix import integer_inequality\n",
    "import numpy as np\n",
    "from scipy.sparse import coo_matrix\n",
    "from matplotlib import pyplot as plt\n",
    "import scipy.sparse\n",
    "from scipy.sparse.linalg import eigsh\n",
    "from scipy.sparse.linalg import eigs"
   ]
  },
  {
   "cell_type": "code",
   "execution_count": null,
   "id": "c1d43455",
   "metadata": {},
   "outputs": [],
   "source": [
    "z = build_matrix('2dtorus_hexagonal_5_by_5', 5, 5, 4)\n",
    "z.all_indices()\n",
    "z.one_int_index_tuples()\n",
    "z.Laplacian_0()"
   ]
  },
  {
   "cell_type": "code",
   "execution_count": 5,
   "id": "4fcc73ef",
   "metadata": {
    "ExecuteTime": {
     "end_time": "2021-10-21T10:25:11.546491Z",
     "start_time": "2021-10-21T10:25:11.530919Z"
    }
   },
   "outputs": [],
   "source": [
    "q_values = [1e-5, 1e-4, 1e-3, 1e-2, 1e-1]\n",
    "k_values = [20, 50, 100, 200, 400, 800]\n",
    "dictq = {str(q):[] for q in q_values}\n",
    "dictionary = {str(k):dictq for k in k_values}"
   ]
  },
  {
   "cell_type": "code",
   "execution_count": 6,
   "id": "4a729f89",
   "metadata": {
    "ExecuteTime": {
     "end_time": "2021-10-21T10:25:12.418632Z",
     "start_time": "2021-10-21T10:25:12.403060Z"
    }
   },
   "outputs": [],
   "source": [
    "dictionary[str(20)][str(1e-5)].append(1)"
   ]
  },
  {
   "cell_type": "code",
   "execution_count": 7,
   "id": "3b76166e",
   "metadata": {
    "ExecuteTime": {
     "end_time": "2021-10-21T10:25:18.239836Z",
     "start_time": "2021-10-21T10:25:18.208567Z"
    }
   },
   "outputs": [
    {
     "name": "stdout",
     "output_type": "stream",
     "text": [
      "{'20': {'1e-05': [1], '0.0001': [], '0.001': [], '0.01': [], '0.1': []}, '50': {'1e-05': [1], '0.0001': [], '0.001': [], '0.01': [], '0.1': []}, '100': {'1e-05': [1], '0.0001': [], '0.001': [], '0.01': [], '0.1': []}, '200': {'1e-05': [1], '0.0001': [], '0.001': [], '0.01': [], '0.1': []}, '400': {'1e-05': [1], '0.0001': [], '0.001': [], '0.01': [], '0.1': []}, '800': {'1e-05': [1], '0.0001': [], '0.001': [], '0.01': [], '0.1': []}}\n"
     ]
    }
   ],
   "source": [
    "print(dictionary)"
   ]
  },
  {
   "cell_type": "code",
   "execution_count": null,
   "id": "67f6c61f",
   "metadata": {},
   "outputs": [],
   "source": []
  }
 ],
 "metadata": {
  "kernelspec": {
   "display_name": "Python 3 (ipykernel)",
   "language": "python",
   "name": "python3"
  },
  "language_info": {
   "codemirror_mode": {
    "name": "ipython",
    "version": 3
   },
   "file_extension": ".py",
   "mimetype": "text/x-python",
   "name": "python",
   "nbconvert_exporter": "python",
   "pygments_lexer": "ipython3",
   "version": "3.9.7"
  }
 },
 "nbformat": 4,
 "nbformat_minor": 5
}
