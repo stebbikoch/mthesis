{
 "cells": [
  {
   "cell_type": "code",
   "execution_count": 3,
   "metadata": {
    "ExecuteTime": {
     "end_time": "2021-11-10T13:36:34.843363Z",
     "start_time": "2021-11-10T13:36:34.133574Z"
    }
   },
   "outputs": [],
   "source": [
    "from matrix import build_matrix\n",
    "from matrix import integer_inequality\n",
    "import numpy as np\n",
    "from scipy.sparse import coo_matrix\n",
    "from matplotlib import pyplot as plt\n",
    "import scipy.sparse\n",
    "from scipy.sparse.linalg import eigsh\n",
    "from scipy.sparse.linalg import eigs\n",
    "from Reproduce import main\n",
    "import time"
   ]
  },
  {
   "cell_type": "code",
   "execution_count": 3,
   "metadata": {},
   "outputs": [
    {
     "name": "stdout",
     "output_type": "stream",
     "text": [
      "/software/generic/JupyterHub/test/bin/python\n"
     ]
    }
   ],
   "source": [
    "import numpy as np\n",
    "import sys\n",
    "print(sys.executable)"
   ]
  },
  {
   "cell_type": "code",
   "execution_count": null,
   "metadata": {
    "ExecuteTime": {
     "start_time": "2021-11-08T15:57:31.975Z"
    }
   },
   "outputs": [
    {
     "name": "stdout",
     "output_type": "stream",
     "text": [
      "[[-10, 0, 0], [-9, 0, 0], [-8, 0, 0], [-7, 0, 0], [-6, 0, 0], [-5, 0, 0], [-4, 0, 0], [-3, 0, 0], [-2, 0, 0], [-1, 0, 0], [1, 0, 0], [2, 0, 0], [3, 0, 0], [4, 0, 0], [5, 0, 0], [6, 0, 0], [7, 0, 0], [8, 0, 0], [9, 0, 0], [10, 0, 0]]\n",
      "edges 20000\n",
      "q 1.0\n"
     ]
    },
    {
     "name": "stderr",
     "output_type": "stream",
     "text": [
      "Exception in thread Thread-6:\n",
      "Traceback (most recent call last):\n",
      "  File \"/software/generic/JupyterHub/test/lib/python3.6/threading.py\", line 916, in _bootstrap_inner\n",
      "    self.run()\n",
      "  File \"/software/generic/JupyterHub/test/lib/python3.6/threading.py\", line 864, in run\n",
      "    self._target(*self._args, **self._kwargs)\n",
      "  File \"/software/generic/JupyterHub/test/lib/python3.6/multiprocessing/pool.py\", line 463, in _handle_results\n",
      "    task = get()\n",
      "  File \"/software/generic/JupyterHub/test/lib/python3.6/multiprocessing/connection.py\", line 251, in recv\n",
      "    return _ForkingPickler.loads(buf.getbuffer())\n",
      "TypeError: __init__() missing 2 required positional arguments: 'eigenvalues' and 'eigenvectors'\n",
      "\n",
      "Process ForkPoolWorker-46:\n",
      "Process ForkPoolWorker-36:\n",
      "Process ForkPoolWorker-43:\n",
      "Process ForkPoolWorker-48:\n",
      "Process ForkPoolWorker-40:\n",
      "Process ForkPoolWorker-31:\n",
      "Process ForkPoolWorker-22:\n",
      "Process ForkPoolWorker-47:\n",
      "Process ForkPoolWorker-39:\n",
      "Process ForkPoolWorker-6:\n",
      "Process ForkPoolWorker-26:\n",
      "Process ForkPoolWorker-4:\n",
      "Process ForkPoolWorker-45:\n",
      "Process ForkPoolWorker-23:\n",
      "Process ForkPoolWorker-20:\n",
      "Process ForkPoolWorker-29:\n",
      "Process ForkPoolWorker-33:\n",
      "Process ForkPoolWorker-42:\n",
      "Process ForkPoolWorker-34:\n",
      "Process ForkPoolWorker-41:\n",
      "Process ForkPoolWorker-3:\n",
      "Process ForkPoolWorker-37:\n",
      "Process ForkPoolWorker-16:\n",
      "Process ForkPoolWorker-18:\n",
      "Process ForkPoolWorker-27:\n",
      "Process ForkPoolWorker-19:\n",
      "Process ForkPoolWorker-28:\n",
      "Process ForkPoolWorker-7:\n",
      "Process ForkPoolWorker-38:\n",
      "Process ForkPoolWorker-21:\n",
      "Process ForkPoolWorker-25:\n",
      "Process ForkPoolWorker-35:\n",
      "Process ForkPoolWorker-1:\n",
      "Process ForkPoolWorker-24:\n",
      "Process ForkPoolWorker-9:\n",
      "Process ForkPoolWorker-44:\n",
      "Process ForkPoolWorker-15:\n",
      "Process ForkPoolWorker-8:\n",
      "Process ForkPoolWorker-32:\n",
      "Process ForkPoolWorker-17:\n",
      "Process ForkPoolWorker-5:\n",
      "Process ForkPoolWorker-30:\n",
      "Process ForkPoolWorker-2:\n",
      "Process ForkPoolWorker-11:\n",
      "Process ForkPoolWorker-13:\n",
      "Process ForkPoolWorker-14:\n",
      "Process ForkPoolWorker-10:\n",
      "Process ForkPoolWorker-12:\n",
      "Traceback (most recent call last):\n",
      "  File \"/software/generic/JupyterHub/test/lib/python3.6/multiprocessing/process.py\", line 258, in _bootstrap\n",
      "    self.run()\n",
      "  File \"/software/generic/JupyterHub/test/lib/python3.6/multiprocessing/process.py\", line 93, in run\n",
      "    self._target(*self._args, **self._kwargs)\n",
      "  File \"/software/generic/JupyterHub/test/lib/python3.6/multiprocessing/pool.py\", line 108, in worker\n",
      "    task = get()\n",
      "  File \"/software/generic/JupyterHub/test/lib/python3.6/multiprocessing/queues.py\", line 335, in get\n",
      "    res = self._reader.recv_bytes()\n",
      "  File \"/software/generic/JupyterHub/test/lib/python3.6/multiprocessing/connection.py\", line 216, in recv_bytes\n",
      "    buf = self._recv_bytes(maxlength)\n",
      "  File \"/software/generic/JupyterHub/test/lib/python3.6/multiprocessing/connection.py\", line 407, in _recv_bytes\n",
      "    buf = self._recv(4)\n",
      "  File \"/software/generic/JupyterHub/test/lib/python3.6/multiprocessing/connection.py\", line 379, in _recv\n",
      "    chunk = read(handle, remaining)\n",
      "KeyboardInterrupt\n",
      "Traceback (most recent call last):\n",
      "Traceback (most recent call last):\n",
      "Traceback (most recent call last):\n",
      "Traceback (most recent call last):\n",
      "Traceback (most recent call last):\n",
      "Traceback (most recent call last):\n",
      "Traceback (most recent call last):\n",
      "Traceback (most recent call last):\n",
      "Traceback (most recent call last):\n",
      "Traceback (most recent call last):\n",
      "Traceback (most recent call last):\n"
     ]
    }
   ],
   "source": [
    "start = time.time()\n",
    "exponent = np.arange(16)\n",
    "q_values = 10 ** (-exponent / 3)\n",
    "#q_values=[1]#[0.01, 0.1]\n",
    "k_values = [20, 50, 100, 200, 400, 800]\n",
    "main(q_values, k_values, '../../home/results/reproduce_1000_directed_with_averaging', 100, parallel=True, directed=True)\n",
    "end = time.time()\n",
    "print('zeit ', end-start)"
   ]
  },
  {
   "cell_type": "code",
   "execution_count": 2,
   "metadata": {
    "ExecuteTime": {
     "end_time": "2021-11-10T13:36:38.122850Z",
     "start_time": "2021-11-10T13:36:37.773237Z"
    },
    "scrolled": true
   },
   "outputs": [
    {
     "name": "stdout",
     "output_type": "stream",
     "text": [
      "[[-10, 0, 0], [-9, 0, 0], [-8, 0, 0], [-7, 0, 0], [-6, 0, 0], [-5, 0, 0], [-4, 0, 0], [-3, 0, 0], [-2, 0, 0], [-1, 0, 0], [1, 0, 0], [2, 0, 0], [3, 0, 0], [4, 0, 0], [5, 0, 0], [6, 0, 0], [7, 0, 0], [8, 0, 0], [9, 0, 0], [10, 0, 0]]\n",
      "edges 20000\n"
     ]
    }
   ],
   "source": [
    "z = build_matrix('1d_ring_1000', np.array([1000, 1, 1]), 10)\n",
    "z.all_indices()\n",
    "z.one_int_index_tuples_and_adjacency()\n",
    "z.Laplacian_0()"
   ]
  },
  {
   "cell_type": "code",
   "execution_count": 3,
   "metadata": {},
   "outputs": [
    {
     "data": {
      "text/plain": [
       "12.383333333333333"
      ]
     },
     "execution_count": 3,
     "metadata": {},
     "output_type": "execute_result"
    }
   ],
   "source": [
    "743/60"
   ]
  },
  {
   "cell_type": "code",
   "execution_count": 4,
   "metadata": {
    "ExecuteTime": {
     "end_time": "2021-11-10T11:24:30.956953Z",
     "start_time": "2021-11-10T11:24:30.943961Z"
    },
    "scrolled": true
   },
   "outputs": [],
   "source": [
    "import os"
   ]
  },
  {
   "cell_type": "code",
   "execution_count": 9,
   "metadata": {},
   "outputs": [
    {
     "data": {
      "text/plain": [
       "True"
      ]
     },
     "execution_count": 9,
     "metadata": {},
     "output_type": "execute_result"
    }
   ],
   "source": [
    "os.path.isdir('../../home')"
   ]
  },
  {
   "cell_type": "code",
   "execution_count": 15,
   "metadata": {
    "ExecuteTime": {
     "end_time": "2021-11-10T11:27:34.629125Z",
     "start_time": "2021-11-10T11:27:34.175186Z"
    },
    "scrolled": true
   },
   "outputs": [
    {
     "data": {
      "text/plain": [
       "<matplotlib.image.AxesImage at 0x1f7cbf91e50>"
      ]
     },
     "execution_count": 15,
     "metadata": {},
     "output_type": "execute_result"
    }
   ],
   "source": [
    "%matplotlib qt\n",
    "plt.imshow(z.L_rnd.toarray(), vmin=-1, vmax=1)"
   ]
  },
  {
   "cell_type": "code",
   "execution_count": 4,
   "metadata": {
    "ExecuteTime": {
     "end_time": "2021-11-10T13:17:19.542395Z",
     "start_time": "2021-11-10T13:16:44.589687Z"
    }
   },
   "outputs": [
    {
     "name": "stdout",
     "output_type": "stream",
     "text": [
      "-0.491432258197694\n"
     ]
    }
   ],
   "source": [
    "lam=np.zeros(10)\n",
    "for i in range(10):\n",
    "    z.random_rewiring(1)\n",
    "    lam[i]=z.second_largest_eigenvalue(8, 1.2)/20\n",
    "print(np.mean(lam))"
   ]
  },
  {
   "cell_type": "code",
   "execution_count": 3,
   "metadata": {
    "ExecuteTime": {
     "end_time": "2021-11-09T11:53:22.768310Z",
     "start_time": "2021-11-09T11:53:12.758942Z"
    }
   },
   "outputs": [
    {
     "name": "stdout",
     "output_type": "stream",
     "text": [
      "1.2323772778806172\n"
     ]
    }
   ],
   "source": [
    "lam = np.zeros(100)\n",
    "for i in range(100):\n",
    "    z.random_rewiring(1)\n",
    "    lam[i] = z.second_largest_eigenvalue()\n",
    "print(np.mean(lam)/10)"
   ]
  },
  {
   "cell_type": "code",
   "execution_count": 16,
   "metadata": {
    "ExecuteTime": {
     "end_time": "2021-11-10T11:33:03.277355Z",
     "start_time": "2021-11-10T11:32:59.786385Z"
    }
   },
   "outputs": [
    {
     "name": "stdout",
     "output_type": "stream",
     "text": [
      "[[-23.   0.   0. ...   0.   0.   0.]\n",
      " [  0. -21.   0. ...   0.   0.   1.]\n",
      " [  0.   0. -26. ...   0.   0.   0.]\n",
      " ...\n",
      " [  0.   0.   0. ... -30.   0.   0.]\n",
      " [  0.   0.   0. ...   0. -19.   0.]\n",
      " [  0.   1.   0. ...   0.   0. -16.]]\n"
     ]
    }
   ],
   "source": [
    "z.random_rewiring(1)\n",
    "print(z.L_rnd.toarray())"
   ]
  },
  {
   "cell_type": "code",
   "execution_count": 3,
   "metadata": {
    "ExecuteTime": {
     "end_time": "2021-11-10T13:36:52.896446Z",
     "start_time": "2021-11-10T13:36:46.930913Z"
    }
   },
   "outputs": [
    {
     "name": "stdout",
     "output_type": "stream",
     "text": [
      "-0.49881384944856794\n"
     ]
    }
   ],
   "source": [
    "z.random_rewiring(1)\n",
    "print(z.second_largest_eigenvalue(8, 1.2)/20)"
   ]
  },
  {
   "cell_type": "code",
   "execution_count": 7,
   "metadata": {
    "ExecuteTime": {
     "end_time": "2021-11-09T11:59:27.798039Z",
     "start_time": "2021-11-09T11:59:27.786062Z"
    }
   },
   "outputs": [],
   "source": [
    "q_values = [1e-5, 1e-4, 1e-3, 1e-2, 1e-1]\n",
    "k_values = [20, 50, 100, 200, 400, 800]\n",
    "dictq = {str(q):[] for q in q_values}\n",
    "dictionary = {str(k):dictq for k in k_values}"
   ]
  },
  {
   "cell_type": "code",
   "execution_count": 6,
   "metadata": {
    "ExecuteTime": {
     "end_time": "2021-10-21T10:25:12.418632Z",
     "start_time": "2021-10-21T10:25:12.403060Z"
    }
   },
   "outputs": [],
   "source": [
    "dictionary[str(20)][str(1e-5)].append(1)"
   ]
  },
  {
   "cell_type": "code",
   "execution_count": 7,
   "metadata": {
    "ExecuteTime": {
     "end_time": "2021-10-21T10:25:18.239836Z",
     "start_time": "2021-10-21T10:25:18.208567Z"
    }
   },
   "outputs": [
    {
     "name": "stdout",
     "output_type": "stream",
     "text": [
      "{'20': {'1e-05': [1], '0.0001': [], '0.001': [], '0.01': [], '0.1': []}, '50': {'1e-05': [1], '0.0001': [], '0.001': [], '0.01': [], '0.1': []}, '100': {'1e-05': [1], '0.0001': [], '0.001': [], '0.01': [], '0.1': []}, '200': {'1e-05': [1], '0.0001': [], '0.001': [], '0.01': [], '0.1': []}, '400': {'1e-05': [1], '0.0001': [], '0.001': [], '0.01': [], '0.1': []}, '800': {'1e-05': [1], '0.0001': [], '0.001': [], '0.01': [], '0.1': []}}\n"
     ]
    }
   ],
   "source": [
    "print(dictionary)"
   ]
  },
  {
   "cell_type": "code",
   "execution_count": 4,
   "metadata": {
    "ExecuteTime": {
     "end_time": "2021-11-10T13:37:18.301478Z",
     "start_time": "2021-11-10T13:37:18.060789Z"
    }
   },
   "outputs": [
    {
     "ename": "ModuleNotFoundError",
     "evalue": "No module named 'networkx'",
     "output_type": "error",
     "traceback": [
      "\u001b[1;31m---------------------------------------------------------------------------\u001b[0m",
      "\u001b[1;31mModuleNotFoundError\u001b[0m                       Traceback (most recent call last)",
      "\u001b[1;32m~\\AppData\\Local\\Temp/ipykernel_12308/3059258446.py\u001b[0m in \u001b[0;36m<module>\u001b[1;34m\u001b[0m\n\u001b[1;32m----> 1\u001b[1;33m \u001b[1;32mimport\u001b[0m \u001b[0mnetworkx\u001b[0m \u001b[1;32mas\u001b[0m \u001b[0mnx\u001b[0m\u001b[1;33m\u001b[0m\u001b[1;33m\u001b[0m\u001b[0m\n\u001b[0m",
      "\u001b[1;31mModuleNotFoundError\u001b[0m: No module named 'networkx'"
     ]
    }
   ],
   "source": [
    "import networkx as nx"
   ]
  },
  {
   "cell_type": "code",
   "execution_count": 6,
   "metadata": {
    "ExecuteTime": {
     "end_time": "2021-11-10T08:42:31.060806Z",
     "start_time": "2021-11-10T08:42:30.978940Z"
    }
   },
   "outputs": [
    {
     "data": {
      "text/plain": [
       "200"
      ]
     },
     "execution_count": 6,
     "metadata": {},
     "output_type": "execute_result"
    }
   ],
   "source": [
    "np.random.binomial(200, 1)"
   ]
  },
  {
   "cell_type": "code",
   "execution_count": 12,
   "metadata": {
    "ExecuteTime": {
     "end_time": "2021-11-10T11:03:31.858433Z",
     "start_time": "2021-11-10T11:03:31.852423Z"
    }
   },
   "outputs": [],
   "source": [
    "from scipy.sparse import csr_matrix, triu, tril, find\n",
    "A = csr_matrix([[1, 2, 0, 0, 3], [4, 5, 0, 6, 7], [0, 0, 8, 9, 0],[1,1,1,5,4],[0,0,0,3,4]],dtype='int32')"
   ]
  },
  {
   "cell_type": "code",
   "execution_count": 11,
   "metadata": {
    "ExecuteTime": {
     "end_time": "2021-11-10T10:52:15.029301Z",
     "start_time": "2021-11-10T10:52:15.017309Z"
    }
   },
   "outputs": [
    {
     "name": "stdout",
     "output_type": "stream",
     "text": [
      "[[0 0 0 0 0]\n",
      " [4 0 0 0 0]\n",
      " [0 0 0 0 0]\n",
      " [1 1 1 0 0]\n",
      " [0 0 0 3 0]]\n"
     ]
    }
   ],
   "source": [
    "print(tril(A,k=4-5).toarray())"
   ]
  },
  {
   "cell_type": "code",
   "execution_count": 10,
   "metadata": {
    "ExecuteTime": {
     "end_time": "2021-11-10T10:25:32.526169Z",
     "start_time": "2021-11-10T10:25:32.522171Z"
    }
   },
   "outputs": [
    {
     "name": "stdout",
     "output_type": "stream",
     "text": [
      "[[0 0 8 9 0]]\n"
     ]
    }
   ],
   "source": [
    "print(A.getrow(2).toarray())"
   ]
  },
  {
   "cell_type": "code",
   "execution_count": 18,
   "metadata": {
    "ExecuteTime": {
     "end_time": "2021-11-10T08:47:42.336703Z",
     "start_time": "2021-11-10T08:47:42.315701Z"
    }
   },
   "outputs": [
    {
     "name": "stdout",
     "output_type": "stream",
     "text": [
      "(array([0, 1, 2, 0, 1, 3], dtype=int32), array([1, 3, 3, 4, 4, 4], dtype=int32), array([2, 6, 9, 3, 7, 4], dtype=int32))\n"
     ]
    }
   ],
   "source": [
    "print(find(triu(A,k=1)))"
   ]
  },
  {
   "cell_type": "code",
   "execution_count": 17,
   "metadata": {
    "ExecuteTime": {
     "end_time": "2021-11-10T11:05:04.584932Z",
     "start_time": "2021-11-10T11:05:04.579934Z"
    }
   },
   "outputs": [
    {
     "name": "stdout",
     "output_type": "stream",
     "text": [
      "[[1 2 0 0 3]\n",
      " [4 5 0 6 7]\n",
      " [0 0 8 9 0]\n",
      " [1 1 1 5 4]\n",
      " [0 0 0 3 4]] [[ 2  4  0  0  6]\n",
      " [ 8 10  0 12 14]\n",
      " [ 0  0 16 18  0]\n",
      " [ 2  2  2 10  8]\n",
      " [ 0  0  0  6  8]]\n"
     ]
    }
   ],
   "source": [
    "A_new =A\n",
    "A_new+=A_new\n",
    "print(A.toarray(), A_new.toarray())"
   ]
  },
  {
   "cell_type": "code",
   "execution_count": 39,
   "metadata": {
    "ExecuteTime": {
     "end_time": "2021-11-10T09:36:16.044469Z",
     "start_time": "2021-11-10T09:36:16.026021Z"
    }
   },
   "outputs": [],
   "source": [
    "x = np.array([1,1,1,2,2,3,1,3,4,7,8])"
   ]
  },
  {
   "cell_type": "code",
   "execution_count": 40,
   "metadata": {
    "ExecuteTime": {
     "end_time": "2021-11-10T09:36:20.269383Z",
     "start_time": "2021-11-10T09:36:20.259376Z"
    }
   },
   "outputs": [
    {
     "data": {
      "text/plain": [
       "array([0, 4, 2, 2, 1, 0, 0, 1, 1], dtype=int64)"
      ]
     },
     "execution_count": 40,
     "metadata": {},
     "output_type": "execute_result"
    }
   ],
   "source": [
    "np.bincount(x)"
   ]
  },
  {
   "cell_type": "code",
   "execution_count": 43,
   "metadata": {
    "ExecuteTime": {
     "end_time": "2021-11-10T09:39:30.030487Z",
     "start_time": "2021-11-10T09:39:30.008488Z"
    }
   },
   "outputs": [
    {
     "ename": "NameError",
     "evalue": "name 'csc' is not defined",
     "output_type": "error",
     "traceback": [
      "\u001b[1;31m---------------------------------------------------------------------------\u001b[0m",
      "\u001b[1;31mNameError\u001b[0m                                 Traceback (most recent call last)",
      "\u001b[1;32m~\\AppData\\Local\\Temp/ipykernel_13028/1648771252.py\u001b[0m in \u001b[0;36m<module>\u001b[1;34m\u001b[0m\n\u001b[1;32m----> 1\u001b[1;33m \u001b[0my\u001b[0m \u001b[1;33m=\u001b[0m \u001b[0mfind\u001b[0m\u001b[1;33m(\u001b[0m\u001b[0mcsc\u001b[0m\u001b[1;33m(\u001b[0m\u001b[0mx\u001b[0m\u001b[1;33m)\u001b[0m\u001b[1;33m)\u001b[0m\u001b[1;33m\u001b[0m\u001b[1;33m\u001b[0m\u001b[0m\n\u001b[0m\u001b[0;32m      2\u001b[0m \u001b[0mprint\u001b[0m\u001b[1;33m(\u001b[0m\u001b[0my\u001b[0m\u001b[1;33m)\u001b[0m\u001b[1;33m\u001b[0m\u001b[1;33m\u001b[0m\u001b[0m\n",
      "\u001b[1;31mNameError\u001b[0m: name 'csc' is not defined"
     ]
    }
   ],
   "source": [
    "y = find(csc(x))\n",
    "print(y)"
   ]
  },
  {
   "cell_type": "code",
   "execution_count": 7,
   "metadata": {
    "ExecuteTime": {
     "end_time": "2021-11-10T10:23:35.420376Z",
     "start_time": "2021-11-10T10:23:35.416378Z"
    }
   },
   "outputs": [
    {
     "name": "stdout",
     "output_type": "stream",
     "text": [
      "<class 'numpy.ndarray'>\n"
     ]
    }
   ],
   "source": [
    "print(type(np.append([1,2,3],[2,2,3])))"
   ]
  },
  {
   "cell_type": "code",
   "execution_count": 20,
   "metadata": {
    "ExecuteTime": {
     "end_time": "2021-11-10T11:49:41.191146Z",
     "start_time": "2021-11-10T11:49:41.172157Z"
    }
   },
   "outputs": [
    {
     "name": "stdout",
     "output_type": "stream",
     "text": [
      "20 1000 -0.5572811275764269\n",
      "50 1000 -0.7243190249581956\n",
      "100 1000 -0.8102633403898972\n"
     ]
    }
   ],
   "source": [
    "N = 1000\n",
    "for k in [20, 50, 100]:\n",
    "    print(k,N,2*np.sqrt(1/k -1/N)-1)"
   ]
  },
  {
   "cell_type": "code",
   "execution_count": null,
   "metadata": {},
   "outputs": [],
   "source": []
  }
 ],
 "metadata": {
  "kernelspec": {
   "display_name": "Python 3",
   "language": "python",
   "name": "python3"
  },
  "language_info": {
   "codemirror_mode": {
    "name": "ipython",
    "version": 3
   },
   "file_extension": ".py",
   "mimetype": "text/x-python",
   "name": "python",
   "nbconvert_exporter": "python",
   "pygments_lexer": "ipython3",
   "version": "3.6.10"
  }
 },
 "nbformat": 4,
 "nbformat_minor": 5
}
