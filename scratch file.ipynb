{
 "cells": [
  {
   "cell_type": "code",
   "execution_count": 1,
   "id": "8b138a24",
   "metadata": {
    "ExecuteTime": {
     "end_time": "2021-10-25T12:42:21.664220Z",
     "start_time": "2021-10-25T12:42:21.539864Z"
    }
   },
   "outputs": [],
   "source": [
    "import numpy as np"
   ]
  },
  {
   "cell_type": "code",
   "execution_count": 15,
   "id": "7a99524b",
   "metadata": {
    "ExecuteTime": {
     "end_time": "2021-10-25T12:50:05.711466Z",
     "start_time": "2021-10-25T12:50:05.699471Z"
    }
   },
   "outputs": [
    {
     "name": "stdout",
     "output_type": "stream",
     "text": [
      "[0.09090909 0.18181818 0.27272727 0.36363636 0.45454545]\n",
      "[ 0.84125353  0.41541501 -0.14231484 -0.65486073 -0.95949297]\n"
     ]
    },
    {
     "data": {
      "text/plain": [
       "-0.4999999999999999"
      ]
     },
     "execution_count": 15,
     "metadata": {},
     "output_type": "execute_result"
    }
   ],
   "source": [
    "D = np.array([[1,0], [2,0], [3,0], [4,0], [5,0]])\n",
    "p = np.array([1,0])/11\n",
    "print(np.dot(D,p))\n",
    "print(np.cos(2*np.pi*np.dot(D,p)))\n",
    "np.sum(np.cos(2*np.pi*np.dot(D,p)))"
   ]
  },
  {
   "cell_type": "code",
   "execution_count": 30,
   "id": "c6c5907b",
   "metadata": {
    "ExecuteTime": {
     "end_time": "2021-10-25T14:13:33.332548Z",
     "start_time": "2021-10-25T14:13:33.316987Z"
    }
   },
   "outputs": [
    {
     "name": "stdout",
     "output_type": "stream",
     "text": [
      "{0: {0: [], 1: [], 2: [], 3: [], 4: []}, 1: {0: [], 1: [], 2: [], 3: [], 4: []}, 2: {0: [], 1: [], 2: [], 3: [], 4: []}, 3: {0: [], 1: [], 2: [], 3: [], 4: []}}\n"
     ]
    }
   ],
   "source": [
    "#dict1 = {i: [] for i in range(5)}\n",
    "dict2 = {j: {i: [] for i in range(5)} for j in range(4)}\n",
    "print(dict2)"
   ]
  },
  {
   "cell_type": "code",
   "execution_count": 31,
   "id": "de1e44ca",
   "metadata": {
    "ExecuteTime": {
     "end_time": "2021-10-25T14:13:34.853831Z",
     "start_time": "2021-10-25T14:13:34.838206Z"
    }
   },
   "outputs": [
    {
     "name": "stdout",
     "output_type": "stream",
     "text": [
      "{0: {0: [], 1: [], 2: [], 3: [], 4: []}, 1: {0: [], 1: [], 2: [2], 3: [], 4: []}, 2: {0: [], 1: [], 2: [], 3: [], 4: []}, 3: {0: [], 1: [], 2: [], 3: [], 4: []}}\n"
     ]
    }
   ],
   "source": [
    "dict2[1][2].append(2)\n",
    "print(dict2)"
   ]
  },
  {
   "cell_type": "code",
   "execution_count": 23,
   "id": "bd9e10a0",
   "metadata": {
    "ExecuteTime": {
     "end_time": "2021-10-25T14:08:53.252391Z",
     "start_time": "2021-10-25T14:08:53.236819Z"
    }
   },
   "outputs": [
    {
     "name": "stdout",
     "output_type": "stream",
     "text": [
      "[]\n"
     ]
    }
   ],
   "source": [
    "print(dict2[1][2])"
   ]
  },
  {
   "cell_type": "code",
   "execution_count": 29,
   "id": "61b3008a",
   "metadata": {
    "ExecuteTime": {
     "end_time": "2021-10-25T14:12:58.839260Z",
     "start_time": "2021-10-25T14:12:58.823688Z"
    }
   },
   "outputs": [
    {
     "data": {
      "text/plain": [
       "[2]"
      ]
     },
     "execution_count": 29,
     "metadata": {},
     "output_type": "execute_result"
    }
   ],
   "source": [
    "dict2[1][2]"
   ]
  },
  {
   "cell_type": "code",
   "execution_count": 65,
   "id": "799aa8ad",
   "metadata": {
    "ExecuteTime": {
     "end_time": "2021-10-25T14:37:55.192573Z",
     "start_time": "2021-10-25T14:37:55.177013Z"
    }
   },
   "outputs": [
    {
     "name": "stdout",
     "output_type": "stream",
     "text": [
      "-8.44730650179537 -9.354892837886393 0.9075863360910219\n"
     ]
    }
   ],
   "source": [
    "n=60\n",
    "q=1/100\n",
    "summe1=np.sum(np.cos(q*np.arange(n)*2*np.pi)) \n",
    "summe2=np.sin(2*np.pi*q*n)/(2*np.pi*q) \n",
    "print(summe1, summe2, np.array(summe1)-np.array(summe2))"
   ]
  },
  {
   "cell_type": "code",
   "execution_count": null,
   "id": "f3cc5661",
   "metadata": {},
   "outputs": [],
   "source": []
  }
 ],
 "metadata": {
  "kernelspec": {
   "display_name": "Python 3 (ipykernel)",
   "language": "python",
   "name": "python3"
  },
  "language_info": {
   "codemirror_mode": {
    "name": "ipython",
    "version": 3
   },
   "file_extension": ".py",
   "mimetype": "text/x-python",
   "name": "python",
   "nbconvert_exporter": "python",
   "pygments_lexer": "ipython3",
   "version": "3.9.7"
  }
 },
 "nbformat": 4,
 "nbformat_minor": 5
}
