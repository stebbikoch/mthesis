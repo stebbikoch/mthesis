{
 "cells": [
  {
   "cell_type": "code",
   "execution_count": 1,
   "id": "05983363",
   "metadata": {
    "ExecuteTime": {
     "end_time": "2021-11-18T14:47:10.181771Z",
     "start_time": "2021-11-18T14:47:09.874120Z"
    }
   },
   "outputs": [],
   "source": [
    "from matplotlib import pyplot as plt\n",
    "import json\n",
    "import numpy as np\n",
    "import statistics as st\n",
    "from analytics import analytics"
   ]
  },
  {
   "cell_type": "code",
   "execution_count": 2,
   "id": "79f5be80",
   "metadata": {
    "ExecuteTime": {
     "end_time": "2021-11-18T14:47:22.917325Z",
     "start_time": "2021-11-18T14:47:22.905427Z"
    }
   },
   "outputs": [],
   "source": [
    "#f1 = open('./reproduce/reproduce_1001_undirected_analytics.txt', )\n",
    "f2 = open('./reproduce/reproduce_1000_directed_with_averaging_test_big_q.json', )\n",
    "f3 = open('./reproduce/reproduce_1000_undirected_with_averaging_test_big_q.json', )\n",
    "# returns JSON object as\n",
    "# a dictionary\n",
    "instance = analytics(1,1,1000)\n",
    "data2 = json.load(f2)\n",
    "data3=json.load(f3)"
   ]
  },
  {
   "cell_type": "code",
   "execution_count": 25,
   "id": "3d554069",
   "metadata": {
    "ExecuteTime": {
     "end_time": "2021-11-18T15:00:21.124546Z",
     "start_time": "2021-11-18T15:00:20.947179Z"
    }
   },
   "outputs": [],
   "source": [
    "%matplotlib qt\n",
    "fig = plt.figure()\n",
    "exponent = np.arange(16)\n",
    "q_values_1 = 10 ** (-exponent / 3)\n",
    "q_values_1 = [0.5, 0.55, 0.6, 0.65, 0.7, 0.75, 0.8, 0.85, 0.9, 0.95, 1]\n",
    "#q_values_1 = [1e-5, 1e-4, 1e-3, 1e-2, 1e-1, 1]\n",
    "exponent = np.arange(51)\n",
    "q_values = 10**(-exponent/10)\n",
    "k_values = [20, 50, 100, 200, 400, 800]\n",
    "c=['b', 'g', 'r', 'c', 'm', 'y', 'k', 'w']\n",
    "#index=0\n",
    "#k = 50\n",
    "#q=1.0\n",
    "#print(data2[str(k)][str(q)])\n",
    "for k in k_values:\n",
    "    line1, =plt.plot(q_values, [instance.second_lam_one_dim(q=q, k=k)/k for q in q_values], \n",
    "                     label=r'k='+str(k), alpha=0.5)#, color=c[index])\n",
    "    line2 =plt.errorbar(q_values_1, [data2[str(k)][str(q)][0] for q in q_values_1], yerr=[data2[str(k)][str(q)][1] for q in q_values_1],  fmt='o',color=line1.get_color(), markerfacecolor='none', capsize=10)#, color=c[index])\n",
    "    line3 = plt.errorbar(q_values_1, [data3[str(k)][str(q)][0] for q in q_values_1], yerr=[data3[str(k)][str(q)][1] for q in q_values_1], fmt='x', color=line1.get_color(),\n",
    "                      markerfacecolor='none', capsize=5)\n",
    "    line4=plt.axhline(y=np.sqrt(1/k-1/1000)-1,linestyle='--', color=line1.get_color(), alpha=0.5)\n",
    "    line5=plt.axhline(y=2*np.sqrt(1/k-1/1000)-1,linestyle='-.', color=line1.get_color(), alpha=0.5)\n",
    "#plt.yscale('symlog', linthreshy=0.0001)\n",
    "#plt.xscale('log')\n",
    "plt.xlim(0.48,1.02)\n",
    "plt.ylim(-1.1, -0.3)\n",
    "plt.xlabel(r'Small-world parameter $q$')\n",
    "plt.ylabel(r'Value of normalized second largest eigenvalue')\n",
    "legend1 = plt.legend([line1, line2, line3, line4, line5], [r\"Analytical prediction\", r\"Numerical results directed\", \n",
    "                                                           r'Numerical results undirected', r'Prediction from random matrix theory for directed network',\n",
    "                                                          r'Prediction from random matrix theory for undirected network'])\n",
    "plt.legend(loc=(0.4, 0.8))\n",
    "plt.gca().add_artist(legend1)\n",
    "plt.grid()\n",
    "plt.tight_layout()\n",
    "#axs[1].set_yscale('symlog')\n",
    "#axs[1].set_xscale('log')\n",
    "plt.show()"
   ]
  },
  {
   "cell_type": "code",
   "execution_count": 29,
   "id": "cc76688b",
   "metadata": {
    "ExecuteTime": {
     "end_time": "2021-11-18T15:04:22.036834Z",
     "start_time": "2021-11-18T15:04:21.842485Z"
    }
   },
   "outputs": [],
   "source": [
    "fig.savefig('reproduce/plots_big_q_ring.svg', format='svg', dpi=1000)"
   ]
  },
  {
   "cell_type": "code",
   "execution_count": 30,
   "id": "94ac1877",
   "metadata": {
    "ExecuteTime": {
     "end_time": "2021-11-18T15:06:38.389443Z",
     "start_time": "2021-11-18T15:06:38.377248Z"
    }
   },
   "outputs": [],
   "source": [
    "#f1 = open('./reproduce/reproduce_1001_undirected_analytics.txt', )\n",
    "f2 = open('./reproduce/reproduce_1000_directed_with_averaging_test.json', )\n",
    "f3 = open('./reproduce/reproduce_1000_undirected_with_averaging_test.json', )\n",
    "# returns JSON object as\n",
    "# a dictionary\n",
    "instance = analytics(1,1,1000)\n",
    "data2 = json.load(f2)\n",
    "data3=json.load(f3)"
   ]
  },
  {
   "cell_type": "code",
   "execution_count": 36,
   "id": "e01517aa",
   "metadata": {
    "ExecuteTime": {
     "end_time": "2021-11-18T15:08:17.743609Z",
     "start_time": "2021-11-18T15:08:17.446403Z"
    }
   },
   "outputs": [
    {
     "name": "stderr",
     "output_type": "stream",
     "text": [
      "/tmp/ipykernel_82863/2995153586.py:21: MatplotlibDeprecationWarning: The 'linthreshy' parameter of __init__() has been renamed 'linthresh' since Matplotlib 3.3; support for the old name will be dropped two minor releases later.\n",
      "  plt.yscale('symlog', linthreshy=0.0001)\n"
     ]
    }
   ],
   "source": [
    "%matplotlib qt\n",
    "fig = plt.figure()\n",
    "exponent = np.arange(16)\n",
    "q_values_1 = 10 ** (-exponent / 3)\n",
    "#q_values_1 = [0.5, 0.55, 0.6, 0.65, 0.7, 0.75, 0.8, 0.85, 0.9, 0.95, 1]\n",
    "#q_values_1 = [1e-5, 1e-4, 1e-3, 1e-2, 1e-1, 1]\n",
    "exponent = np.arange(51)\n",
    "q_values = 10**(-exponent/10)\n",
    "k_values = [20, 50, 100, 200, 400, 800]\n",
    "c=['b', 'g', 'r', 'c', 'm', 'y', 'k', 'w']\n",
    "#index=0\n",
    "#k = 50\n",
    "#q=1.0\n",
    "#print(data2[str(k)][str(q)])\n",
    "for k in k_values:\n",
    "    line1, =plt.plot(q_values, [instance.second_lam_one_dim(q=q, k=k)/k for q in q_values], \n",
    "                     label=r'k='+str(k), alpha=0.5)#, color=c[index])\n",
    "    line2 =plt.errorbar(q_values_1, [data2[str(k)][str(q)][0] for q in q_values_1], yerr=[data2[str(k)][str(q)][1] for q in q_values_1],  fmt='o',color=line1.get_color(), markerfacecolor='none', capsize=10)#, color=c[index])\n",
    "    line3 = plt.errorbar(q_values_1, [data3[str(k)][str(q)][0] for q in q_values_1], yerr=[data3[str(k)][str(q)][1] for q in q_values_1], fmt='x', color=line1.get_color(),\n",
    "                      markerfacecolor='none', capsize=5)\n",
    "plt.yscale('symlog', linthreshy=0.0001)\n",
    "plt.xscale('log')\n",
    "plt.xlabel(r'Small-world parameter $q$')\n",
    "plt.ylabel(r'Value of normalized second largest eigenvalue')\n",
    "legend1 = plt.legend([line1, line2, line3, ], [r\"Analytical prediction\", r\"Numerical results directed\"])\n",
    "                                                           \n",
    "plt.legend(loc=(0.9, 0.6))\n",
    "plt.gca().add_artist(legend1)\n",
    "plt.grid()\n",
    "plt.tight_layout()\n",
    "#axs[1].set_yscale('symlog')\n",
    "#axs[1].set_xscale('log')\n",
    "plt.show()"
   ]
  },
  {
   "cell_type": "code",
   "execution_count": null,
   "id": "ab5ed9b2",
   "metadata": {},
   "outputs": [],
   "source": []
  }
 ],
 "metadata": {
  "kernelspec": {
   "display_name": "Python 3 (ipykernel)",
   "language": "python",
   "name": "python3"
  },
  "language_info": {
   "codemirror_mode": {
    "name": "ipython",
    "version": 3
   },
   "file_extension": ".py",
   "mimetype": "text/x-python",
   "name": "python",
   "nbconvert_exporter": "python",
   "pygments_lexer": "ipython3",
   "version": "3.9.7"
  }
 },
 "nbformat": 4,
 "nbformat_minor": 5
}
