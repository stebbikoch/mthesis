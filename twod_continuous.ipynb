{
 "cells": [
  {
   "cell_type": "code",
   "execution_count": 1,
   "id": "70694b6a",
   "metadata": {
    "ExecuteTime": {
     "end_time": "2021-11-02T15:46:50.964670Z",
     "start_time": "2021-11-02T15:46:50.209269Z"
    }
   },
   "outputs": [],
   "source": [
    "from twod_continuous_limes import *"
   ]
  },
  {
   "cell_type": "code",
   "execution_count": 2,
   "id": "bf6da4e0",
   "metadata": {
    "ExecuteTime": {
     "end_time": "2021-11-02T15:46:52.555067Z",
     "start_time": "2021-11-02T15:46:52.470452Z"
    }
   },
   "outputs": [],
   "source": [
    "n = 1000\n",
    "Gamma = np.array([0,0])\n",
    "R = np.array([1,1])*0.5\n",
    "Y= np.array([0.5,0])\n",
    "p_array = np.array([Gamma + i/n * R for i in range(1, n+1)])\n",
    "p_array = np.append(p_array, np.array([R + i/n * (Y-R) for i in range(1, n+1)]), axis=0)\n",
    "p_array = np.append(p_array, np.array([Y + i/n*(Gamma-Y) for i in range(1,n)]), axis=0)\n",
    "#print(p_array)\n",
    "p_array_2 = np.array([np.linalg.norm(item) for item in p_array])\n",
    "#print(p_array_2)\n",
    "p_diff_for_plot = np.array([np.linalg.norm(p_array[i+1]-p_array[i]) for i in range(len(p_array)-1)])\n",
    "p_diff_for_plot = np.append( np.zeros(1), p_diff_for_plot)\n",
    "p_for_plot = np.array([np.sum(p_diff_for_plot[0:i]) for i in range(1, len(p_diff_for_plot)+1)])"
   ]
  },
  {
   "cell_type": "code",
   "execution_count": 3,
   "id": "bdf5f1c9",
   "metadata": {
    "ExecuteTime": {
     "end_time": "2021-11-02T15:48:18.118095Z",
     "start_time": "2021-11-02T15:47:56.390996Z"
    }
   },
   "outputs": [],
   "source": [
    "eigenvals_discrete = []\n",
    "eigenvals1 = []\n",
    "ks = []\n",
    "for i in [2, 5, 20, 35, 45]:\n",
    "    aha = eigenvs(radius=i, q=0.1)\n",
    "    eigenvals_discrete.append(aha.calc_eigenvals_discrete(p_array))\n",
    "    eigenvals1.append(aha.calc_eigenvals(p_array_2))\n",
    "    ks.append(aha.k)"
   ]
  },
  {
   "cell_type": "code",
   "execution_count": 11,
   "id": "caf2fec7",
   "metadata": {
    "ExecuteTime": {
     "end_time": "2021-11-02T15:53:09.845563Z",
     "start_time": "2021-11-02T15:53:09.706361Z"
    }
   },
   "outputs": [
    {
     "name": "stderr",
     "output_type": "stream",
     "text": [
      "C:\\tools\\Anaconda3\\envs\\masterthesis\\lib\\site-packages\\matplotlib\\cbook\\__init__.py:1333: ComplexWarning: Casting complex values to real discards the imaginary part\n",
      "  return np.asarray(x, float)\n",
      "C:\\tools\\Anaconda3\\envs\\masterthesis\\lib\\site-packages\\matplotlib\\cbook\\__init__.py:1333: ComplexWarning: Casting complex values to real discards the imaginary part\n",
      "  return np.asarray(x, float)\n",
      "C:\\tools\\Anaconda3\\envs\\masterthesis\\lib\\site-packages\\matplotlib\\cbook\\__init__.py:1333: ComplexWarning: Casting complex values to real discards the imaginary part\n",
      "  return np.asarray(x, float)\n",
      "C:\\tools\\Anaconda3\\envs\\masterthesis\\lib\\site-packages\\matplotlib\\cbook\\__init__.py:1333: ComplexWarning: Casting complex values to real discards the imaginary part\n",
      "  return np.asarray(x, float)\n",
      "C:\\tools\\Anaconda3\\envs\\masterthesis\\lib\\site-packages\\matplotlib\\cbook\\__init__.py:1333: ComplexWarning: Casting complex values to real discards the imaginary part\n",
      "  return np.asarray(x, float)\n"
     ]
    }
   ],
   "source": [
    "%matplotlib qt\n",
    "fig = plt.figure(figsize=(18,10))\n",
    "j =0\n",
    "for i in [2, 5, 20, 35, 45]:\n",
    "    line, = plt.plot(p_for_plot, eigenvals1[j], linewidth=1,label=r'$r_0=$'+str(i)+' ($k=$'+str(ks[j])+')')\n",
    "    #plt.plot(p_2, eigenvals2, 'o', label=r'$k=$' + str(a) + ', $r_0=$' + str(aha.d_0))\n",
    "    line2, = plt.plot(p_for_plot, eigenvals_discrete[j], '--', color=line.get_color())\n",
    "    j+=1\n",
    "plt.xlabel(r'Reciprocal index $p$')\n",
    "plt.ylabel(r'Normalized mean-field eigenvalues $\\lambda(p)$')\n",
    "plt.xticks(ticks=[0, np.sqrt(2)/2, np.sqrt(2)/2+1/2, np.sqrt(2)/2+1/2+0.5],\n",
    "          labels=[r'(0,0)',r'(0.5, 0.5)',r'(0.5, 0)', r'(0,0)'])\n",
    "plt.axvline(x=0,color='k',linestyle='-.')\n",
    "plt.axvline(x=np.sqrt(2)/2,color='k',linestyle='-.')\n",
    "plt.axvline(x=np.sqrt(2)/2+1/2,color='k',linestyle='-.')\n",
    "plt.axvline(x=np.sqrt(2)/2+1,color='k',linestyle='-.')\n",
    "legend1 = plt.legend([line, line2], [\"Exact discrete fourrier transform mean-field\", \"Continuous fourrier transform\"], \n",
    "                     loc=(0.15,0.9))#, loc=1)\n",
    "plt.legend(loc=(0.15, 0.74))\n",
    "plt.gca().add_artist(legend1)\n",
    "plt.show()"
   ]
  },
  {
   "cell_type": "code",
   "execution_count": 12,
   "id": "590a9442",
   "metadata": {
    "ExecuteTime": {
     "end_time": "2021-11-02T15:53:37.836911Z",
     "start_time": "2021-11-02T15:53:37.705337Z"
    }
   },
   "outputs": [],
   "source": [
    "fig.savefig('pictures/zoom_in_2d_q0.1_continuous_eigenvalues_comparison.svg', format='svg', dpi=1000)"
   ]
  },
  {
   "cell_type": "code",
   "execution_count": 6,
   "id": "3d250e88",
   "metadata": {
    "ExecuteTime": {
     "end_time": "2021-11-02T15:50:10.440189Z",
     "start_time": "2021-11-02T15:50:10.339935Z"
    }
   },
   "outputs": [],
   "source": [
    "import json\n",
    "data = {'eigenvalues_discrete': [np.real(item).tolist() for item in eigenvals_discrete],\n",
    "        'eigenvals_continuous': [item.tolist() for item in eigenvals1], \n",
    "        'k': ks, \n",
    "        'd': [2,5,20,35,45]}\n",
    "with open('pictures/2d_q0.1_continuous_comparison_eigenvalues.json', 'w') as f:\n",
    "    json.dump(data, f)"
   ]
  },
  {
   "cell_type": "code",
   "execution_count": null,
   "id": "6282e9cd",
   "metadata": {},
   "outputs": [],
   "source": []
  }
 ],
 "metadata": {
  "kernelspec": {
   "display_name": "Python 3 (ipykernel)",
   "language": "python",
   "name": "python3"
  },
  "language_info": {
   "codemirror_mode": {
    "name": "ipython",
    "version": 3
   },
   "file_extension": ".py",
   "mimetype": "text/x-python",
   "name": "python",
   "nbconvert_exporter": "python",
   "pygments_lexer": "ipython3",
   "version": "3.9.7"
  }
 },
 "nbformat": 4,
 "nbformat_minor": 5
}
