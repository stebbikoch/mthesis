{
 "cells": [
  {
   "cell_type": "code",
   "execution_count": 17,
   "id": "2f6d8018",
   "metadata": {
    "ExecuteTime": {
     "end_time": "2021-11-10T13:45:09.012585Z",
     "start_time": "2021-11-10T13:45:09.006576Z"
    }
   },
   "outputs": [],
   "source": [
    "import networkx as nx\n",
    "from matplotlib import pyplot as plt\n",
    "from scipy.sparse.linalg import eigsh\n",
    "from scipy.sparse import identity\n",
    "import numpy as np"
   ]
  },
  {
   "cell_type": "code",
   "execution_count": 2,
   "id": "c1f1d37a",
   "metadata": {
    "ExecuteTime": {
     "end_time": "2021-11-10T13:39:52.366690Z",
     "start_time": "2021-11-10T13:39:52.185186Z"
    }
   },
   "outputs": [],
   "source": [
    "graph = nx.watts_strogatz_graph(1000, 20, 1)"
   ]
  },
  {
   "cell_type": "code",
   "execution_count": 24,
   "id": "c3edfee1",
   "metadata": {
    "ExecuteTime": {
     "end_time": "2021-11-10T13:47:24.873396Z",
     "start_time": "2021-11-10T13:47:24.837396Z"
    }
   },
   "outputs": [
    {
     "name": "stdout",
     "output_type": "stream",
     "text": [
      "[[-21   0   0 ...   0   0   0]\n",
      " [  0 -17   0 ...   0   0   0]\n",
      " [  0   0 -19 ...   0   0   0]\n",
      " ...\n",
      " [  0   0   0 ... -18   0   0]\n",
      " [  0   0   0 ...   0 -20   0]\n",
      " [  0   0   0 ...   0   0 -22]]\n"
     ]
    }
   ],
   "source": [
    "L = nx.laplacian_matrix(graph)\n",
    "print(-L.toarray())"
   ]
  },
  {
   "cell_type": "code",
   "execution_count": 152,
   "id": "18690ecf",
   "metadata": {
    "ExecuteTime": {
     "end_time": "2021-11-11T09:49:00.433809Z",
     "start_time": "2021-11-11T09:49:00.333683Z"
    }
   },
   "outputs": [
    {
     "data": {
      "text/plain": [
       "<matplotlib.image.AxesImage at 0x2e190392eb0>"
      ]
     },
     "execution_count": 152,
     "metadata": {},
     "output_type": "execute_result"
    }
   ],
   "source": [
    "%matplotlib qt\n",
    "plt.imshow(A.toarray(), vmin=-1, vmax=1)"
   ]
  },
  {
   "cell_type": "code",
   "execution_count": 165,
   "id": "62b23318",
   "metadata": {
    "ExecuteTime": {
     "end_time": "2021-11-11T09:55:46.142247Z",
     "start_time": "2021-11-11T09:55:45.698506Z"
    }
   },
   "outputs": [
    {
     "name": "stdout",
     "output_type": "stream",
     "text": [
      "0.43801081703564065\n",
      "-0.47914782987365745\n",
      "-0.5572811275764269\n",
      "0.4427188724235731\n",
      "adf 11 32\n",
      "-1.16583123951777\n"
     ]
    }
   ],
   "source": [
    "degree = 20\n",
    "n=1000\n",
    "f=1\n",
    "graph = nx.watts_strogatz_graph(1000, degree, 1)\n",
    "lam = np.zeros(f)\n",
    "lam1 = np.zeros(f)\n",
    "for i in range(f):\n",
    "    #graph = nx.gnm_random_graph(n, degree/2*n)\n",
    "    L = nx.laplacian_matrix(graph)\n",
    "    A = nx.linalg.graphmatrix.adjacency_matrix(graph)\n",
    "    fact = 0.2#1.2\n",
    "    fact1=1.2\n",
    "    shift = fact*degree\n",
    "    eigenvalues, eigenvectors = eigsh(A.toarray()/degree+fact*identity(n), k=10, which='LM')\n",
    "    eigenvalues1, eigenvectors1 = eigsh(-L.toarray()/degree+fact1*identity(n), k=10, which='LM')\n",
    "    #print(eigenvalues-fact)\n",
    "    lam[i] = np.partition((eigenvalues.flatten()-fact), -2)[-2]\n",
    "    lam1[i] = np.partition((eigenvalues1.flatten()-fact1), -2)[-2]\n",
    "print(np.mean(lam))\n",
    "print(np.mean(lam1))\n",
    "print(2*np.sqrt(1/degree-1/n)-1)\n",
    "print(2*np.sqrt(1/degree-1/n))\n",
    "max_degree = np.max(np.diag(L.toarray()))\n",
    "min_degree = np.min(np.diag(L.toarray()))\n",
    "print('adf',min_degree, max_degree)\n",
    "print(-np.sqrt(np.min(np.diag(L.toarray())))/degree-1)"
   ]
  },
  {
   "cell_type": "code",
   "execution_count": 110,
   "id": "e552901b",
   "metadata": {
    "ExecuteTime": {
     "end_time": "2021-11-10T15:18:54.712910Z",
     "start_time": "2021-11-10T15:18:54.540210Z"
    }
   },
   "outputs": [
    {
     "name": "stdout",
     "output_type": "stream",
     "text": [
      "474\n"
     ]
    }
   ],
   "source": [
    "x = np.diag(L.toarray())\n",
    "print(np.max(x))"
   ]
  },
  {
   "cell_type": "code",
   "execution_count": 151,
   "id": "4630d36a",
   "metadata": {
    "ExecuteTime": {
     "end_time": "2021-11-11T09:48:50.424184Z",
     "start_time": "2021-11-11T09:48:50.414201Z"
    }
   },
   "outputs": [
    {
     "name": "stdout",
     "output_type": "stream",
     "text": [
      "[[0 0 0 ... 0 0 0]\n",
      " [0 0 0 ... 0 0 0]\n",
      " [0 0 0 ... 0 0 0]\n",
      " ...\n",
      " [0 0 0 ... 0 0 0]\n",
      " [0 0 0 ... 0 0 0]\n",
      " [0 0 0 ... 0 0 0]]\n"
     ]
    }
   ],
   "source": [
    "print(A.toarray())"
   ]
  },
  {
   "cell_type": "code",
   "execution_count": null,
   "id": "bfa60689",
   "metadata": {},
   "outputs": [],
   "source": []
  }
 ],
 "metadata": {
  "kernelspec": {
   "display_name": "Python 3 (ipykernel)",
   "language": "python",
   "name": "python3"
  },
  "language_info": {
   "codemirror_mode": {
    "name": "ipython",
    "version": 3
   },
   "file_extension": ".py",
   "mimetype": "text/x-python",
   "name": "python",
   "nbconvert_exporter": "python",
   "pygments_lexer": "ipython3",
   "version": "3.9.7"
  }
 },
 "nbformat": 4,
 "nbformat_minor": 5
}
