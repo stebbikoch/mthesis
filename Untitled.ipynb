{
 "cells": [
  {
   "cell_type": "code",
   "execution_count": 1,
   "id": "59a25802",
   "metadata": {
    "ExecuteTime": {
     "end_time": "2021-10-19T15:32:29.139773Z",
     "start_time": "2021-10-19T15:32:28.451349Z"
    }
   },
   "outputs": [],
   "source": [
    "from matrix import build_matrix\n",
    "import numpy as np\n",
    "from scipy.sparse import coo_matrix\n",
    "from matplotlib import pyplot as plt\n",
    "import scipy.sparse\n",
    "from scipy.sparse.linalg import eigsh\n",
    "from scipy.sparse.linalg import eigs"
   ]
  },
  {
   "cell_type": "code",
   "execution_count": 2,
   "id": "be34ada4",
   "metadata": {
    "ExecuteTime": {
     "end_time": "2021-10-19T15:30:49.574814Z",
     "start_time": "2021-10-19T15:30:49.561820Z"
    }
   },
   "outputs": [
    {
     "name": "stdout",
     "output_type": "stream",
     "text": [
      "[[0. 0. 0. 0. 0. 0.]\n",
      " [1. 0. 0. 0. 0. 0.]\n",
      " [1. 1. 0. 0. 0. 0.]\n",
      " [1. 1. 1. 0. 0. 0.]\n",
      " [1. 1. 1. 1. 0. 0.]\n",
      " [1. 1. 1. 1. 1. 0.]]\n"
     ]
    }
   ],
   "source": [
    "print(np.tril(np.ones((6,6)),-1))"
   ]
  },
  {
   "cell_type": "code",
   "execution_count": 13,
   "id": "15c7a685",
   "metadata": {
    "ExecuteTime": {
     "end_time": "2021-10-19T15:34:50.713826Z",
     "start_time": "2021-10-19T15:34:50.698188Z"
    },
    "scrolled": true
   },
   "outputs": [
    {
     "name": "stdout",
     "output_type": "stream",
     "text": [
      "[[[0, 0], [0, 3]], [[0, 0], [3, 0]], [[0, 0], [3, 1]], [[0, 1], [0, 0]], [[0, 1], [3, 1]], [[0, 1], [3, 2]], [[0, 2], [0, 1]], [[0, 2], [3, 2]], [[0, 2], [3, 3]], [[0, 3], [0, 2]], [[0, 3], [3, 3]], [[0, 3], [3, 0]], [[1, 0], [1, 3]], [[1, 0], [0, 0]], [[1, 0], [0, 1]], [[1, 1], [1, 0]], [[1, 1], [0, 1]], [[1, 1], [0, 2]], [[1, 2], [1, 1]], [[1, 2], [0, 2]], [[1, 2], [0, 3]], [[1, 3], [1, 2]], [[1, 3], [0, 3]], [[1, 3], [0, 0]], [[2, 0], [2, 3]], [[2, 0], [1, 0]], [[2, 0], [1, 1]], [[2, 1], [2, 0]], [[2, 1], [1, 1]], [[2, 1], [1, 2]], [[2, 2], [2, 1]], [[2, 2], [1, 2]], [[2, 2], [1, 3]], [[2, 3], [2, 2]], [[2, 3], [1, 3]], [[2, 3], [1, 0]], [[3, 0], [3, 3]], [[3, 0], [2, 0]], [[3, 0], [2, 1]], [[3, 1], [3, 0]], [[3, 1], [2, 1]], [[3, 1], [2, 2]], [[3, 2], [3, 1]], [[3, 2], [2, 2]], [[3, 2], [2, 3]], [[3, 3], [3, 2]], [[3, 3], [2, 3]], [[3, 3], [2, 0]]]\n",
      "kontrolllänge: 96\n"
     ]
    }
   ],
   "source": [
    "z = build_matrix('2dtorus_hexagonal_9_by_9', 4, 4, 2)\n",
    "z.all_indices()\n",
    "z.one_int_index_tuples()\n",
    "z.Laplacian_0()\n",
    "#z.random_rewiring(0.5)\n",
    "#z.Adjacency_0()\n",
    "#z.Laplacian_0()"
   ]
  },
  {
   "cell_type": "code",
   "execution_count": 3,
   "id": "cf1b78ab",
   "metadata": {
    "ExecuteTime": {
     "end_time": "2021-10-19T15:21:57.125089Z",
     "start_time": "2021-10-19T15:21:57.121093Z"
    },
    "scrolled": true
   },
   "outputs": [
    {
     "name": "stdout",
     "output_type": "stream",
     "text": [
      "kontrolllänge: 96\n"
     ]
    }
   ],
   "source": [
    "z.one_int_index_tuples()"
   ]
  },
  {
   "cell_type": "code",
   "execution_count": 4,
   "id": "a37e9231",
   "metadata": {
    "ExecuteTime": {
     "end_time": "2021-10-19T15:21:59.659757Z",
     "start_time": "2021-10-19T15:21:59.648769Z"
    }
   },
   "outputs": [],
   "source": [
    "z.Laplacian_0()"
   ]
  },
  {
   "cell_type": "code",
   "execution_count": 15,
   "id": "dd8bbc16",
   "metadata": {
    "ExecuteTime": {
     "end_time": "2021-10-19T15:34:58.800821Z",
     "start_time": "2021-10-19T15:34:58.785830Z"
    }
   },
   "outputs": [
    {
     "name": "stdout",
     "output_type": "stream",
     "text": [
      "[-6. -6. -6. -6. -6. -6. -6. -6. -6. -6. -6. -6. -6. -6. -6. -6.]\n"
     ]
    }
   ],
   "source": [
    "print(z.L_0.diagonal())"
   ]
  },
  {
   "cell_type": "code",
   "execution_count": 14,
   "id": "947541d4",
   "metadata": {
    "ExecuteTime": {
     "end_time": "2021-10-19T15:34:55.457385Z",
     "start_time": "2021-10-19T15:34:55.441395Z"
    }
   },
   "outputs": [],
   "source": [
    "z.random_rewiring(0.9)"
   ]
  },
  {
   "cell_type": "code",
   "execution_count": 16,
   "id": "6e8976da",
   "metadata": {
    "ExecuteTime": {
     "end_time": "2021-10-19T15:35:01.651713Z",
     "start_time": "2021-10-19T15:35:01.641735Z"
    }
   },
   "outputs": [
    {
     "name": "stdout",
     "output_type": "stream",
     "text": [
      "[[-6.  1.  0.  0.  0.  0.  0.  0.  0.  1.  0.  1.  0.  1.  0.  0.]\n",
      " [ 1. -6.  1.  0.  1.  0.  1.  0.  0.  0.  0.  0.  1.  1.  0.  0.]\n",
      " [ 0.  1. -6.  1.  1.  0.  0.  0.  0.  1.  1.  0.  0.  0.  0.  0.]\n",
      " [ 0.  0.  1. -6.  0.  1.  0.  1.  1.  1.  0.  0.  1.  1.  0.  1.]\n",
      " [ 0.  1.  1.  0. -6.  1.  1.  0.  1.  1.  0.  0.  0.  0.  1.  1.]\n",
      " [ 0.  0.  0.  1.  1. -6.  1.  1.  0.  0.  0.  0.  0.  0.  0.  1.]\n",
      " [ 0.  1.  0.  0.  1.  1. -6.  1.  0.  1.  1.  1.  1.  0.  0.  0.]\n",
      " [ 0.  0.  0.  1.  0.  1.  1. -6.  0.  0.  1.  1.  0.  1.  1.  0.]\n",
      " [ 0.  0.  0.  1.  1.  0.  0.  0. -6.  1.  0.  0.  0.  0.  0.  0.]\n",
      " [ 1.  0.  1.  1.  1.  0.  1.  0.  1. -6.  1.  1.  0.  1.  0.  0.]\n",
      " [ 0.  0.  1.  0.  0.  0.  1.  1.  0.  1. -6.  0.  0.  0.  1.  1.]\n",
      " [ 1.  0.  0.  0.  0.  0.  1.  1.  0.  1.  0. -6.  0.  0.  0.  0.]\n",
      " [ 0.  1.  0.  1.  0.  0.  1.  0.  0.  0.  0.  0. -6.  0.  1.  0.]\n",
      " [ 1.  1.  0.  1.  0.  0.  0.  1.  0.  1.  0.  0.  0. -6.  1.  1.]\n",
      " [ 0.  0.  0.  0.  1.  0.  0.  1.  0.  0.  1.  0.  1.  1. -6.  1.]\n",
      " [ 0.  0.  0.  1.  1.  1.  0.  0.  0.  0.  1.  0.  0.  1.  1. -6.]]\n"
     ]
    }
   ],
   "source": [
    "print(z.L_0.toarray())"
   ]
  },
  {
   "cell_type": "code",
   "execution_count": 11,
   "id": "0ff7c8fc",
   "metadata": {
    "ExecuteTime": {
     "end_time": "2021-10-19T15:34:19.884977Z",
     "start_time": "2021-10-19T15:34:19.873984Z"
    },
    "scrolled": false
   },
   "outputs": [
    {
     "name": "stdout",
     "output_type": "stream",
     "text": [
      "[ 0  0  2  9  7  1  0  5  1  4 11  1 12 10  1  4  5  4] [12 15  9 15  8 10 11  7  6 13 14  5 15 15 12 15 15  6] [15  9  7 13  5  0  5  5 12  8  3 11  2  4 14  7  0  6 14  5  6  9  2 12\n",
      "  4  1 15 11 15  4  1  0 11  3 13  2] [14  5  6  9  2 12  4  1 15 11 15  4  1  0 11  3 13  2 15  9  7 13  5  0\n",
      "  5  5 12  8  3 11  2  4 14  7  0  6]\n"
     ]
    }
   ],
   "source": [
    "print(z.ps, z.qs, z.left_ps, z.right_ps)"
   ]
  },
  {
   "cell_type": "code",
   "execution_count": 7,
   "id": "77e08813",
   "metadata": {
    "ExecuteTime": {
     "end_time": "2021-10-19T15:33:45.047154Z",
     "start_time": "2021-10-19T15:33:45.035163Z"
    }
   },
   "outputs": [
    {
     "name": "stdout",
     "output_type": "stream",
     "text": [
      "1\n"
     ]
    }
   ],
   "source": [
    "print(z.M)"
   ]
  },
  {
   "cell_type": "code",
   "execution_count": 5,
   "id": "7ea1967b",
   "metadata": {
    "ExecuteTime": {
     "end_time": "2021-10-19T15:29:39.453677Z",
     "start_time": "2021-10-19T15:29:39.436687Z"
    }
   },
   "outputs": [
    {
     "name": "stdout",
     "output_type": "stream",
     "text": [
      "(array([ 0,  0,  0,  0,  0,  0,  0,  0,  0,  0,  1,  1,  1,  1,  1,  1,  1,\n",
      "        1,  1,  2,  2,  2,  2,  2,  2,  2,  2,  3,  3,  3,  3,  3,  3,  3,\n",
      "        3,  4,  4,  4,  4,  4,  4,  4,  5,  5,  5,  5,  5,  5,  5,  6,  6,\n",
      "        6,  6,  6,  6,  7,  7,  7,  7,  7,  7,  8,  8,  8,  9,  9,  9, 10,\n",
      "       10, 11, 11, 12, 13], dtype=int64), array([ 2,  5,  6,  8,  9, 10, 11, 12, 14, 15,  3,  6,  7,  8,  9, 10, 11,\n",
      "       12, 15,  4,  7,  8,  9, 10, 11, 12, 13,  4,  5,  8,  9, 10, 11, 13,\n",
      "       14,  6,  9, 10, 12, 13, 14, 15,  7, 10, 11, 12, 13, 14, 15,  8, 11,\n",
      "       12, 13, 14, 15,  8,  9, 12, 13, 14, 15, 10, 13, 14, 11, 14, 15, 12,\n",
      "       15, 12, 13, 14, 15], dtype=int64))\n"
     ]
    }
   ],
   "source": [
    "print(np.where(z.L_0.toarray()+np.tril(np.ones((16,16)))==0))"
   ]
  },
  {
   "cell_type": "code",
   "execution_count": 35,
   "id": "2dd677e6",
   "metadata": {
    "ExecuteTime": {
     "end_time": "2021-10-13T16:01:59.177908Z",
     "start_time": "2021-10-13T16:01:59.171727Z"
    }
   },
   "outputs": [
    {
     "name": "stdout",
     "output_type": "stream",
     "text": [
      "[1, 2, 3, 2, 3, 4, 5]\n"
     ]
    }
   ],
   "source": [
    "print([1,2,3]+[2,3,4,5])"
   ]
  },
  {
   "cell_type": "code",
   "execution_count": 34,
   "id": "ccc443de",
   "metadata": {
    "ExecuteTime": {
     "end_time": "2021-10-13T15:46:44.753797Z",
     "start_time": "2021-10-13T15:46:44.742773Z"
    }
   },
   "outputs": [
    {
     "name": "stdout",
     "output_type": "stream",
     "text": [
      "7184133\n"
     ]
    }
   ],
   "source": [
    "print(len(y[0]))"
   ]
  },
  {
   "cell_type": "code",
   "execution_count": 8,
   "id": "8c1508a6",
   "metadata": {
    "ExecuteTime": {
     "end_time": "2021-10-13T15:11:10.217437Z",
     "start_time": "2021-10-13T15:11:10.209795Z"
    }
   },
   "outputs": [],
   "source": [
    "from matplotlib import pyplot as plt\n"
   ]
  },
  {
   "cell_type": "code",
   "execution_count": 59,
   "id": "6c4a90df",
   "metadata": {
    "ExecuteTime": {
     "end_time": "2021-10-14T14:46:35.797040Z",
     "start_time": "2021-10-14T14:46:35.724693Z"
    }
   },
   "outputs": [],
   "source": [
    "%matplotlib qt\n",
    "plt.imshow(z.L_0.toarray(), vmin=-1, vmax=1)\n",
    "plt.show()"
   ]
  },
  {
   "cell_type": "code",
   "execution_count": 13,
   "id": "a6adbbdf",
   "metadata": {
    "ExecuteTime": {
     "end_time": "2021-10-14T13:25:26.822047Z",
     "start_time": "2021-10-14T13:23:26.582880Z"
    }
   },
   "outputs": [],
   "source": [
    "z.save_to_json('Laplacian_2d_torus_hexagonal_q=0.05', thing_to_dump)"
   ]
  },
  {
   "cell_type": "code",
   "execution_count": 12,
   "id": "19422078",
   "metadata": {
    "ExecuteTime": {
     "end_time": "2021-10-14T13:23:10.661161Z",
     "start_time": "2021-10-14T13:22:56.328907Z"
    }
   },
   "outputs": [],
   "source": [
    "thing_to_dump = z.L_0.toarray().tolist()"
   ]
  },
  {
   "cell_type": "code",
   "execution_count": 2,
   "id": "96bfe88d",
   "metadata": {
    "ExecuteTime": {
     "end_time": "2021-10-14T13:30:42.334722Z",
     "start_time": "2021-10-14T13:30:42.116821Z"
    }
   },
   "outputs": [],
   "source": [
    "#scipy.sparse.save_npz('./matrices/Laplacian_2d_torus_hexagonal_q=0.05.npz', z.L_0)\n",
    "sparse_matrix = scipy.sparse.load_npz('./matrices/Laplacian_2d_torus_hexagonal_q=0.05.npz')"
   ]
  },
  {
   "cell_type": "code",
   "execution_count": 34,
   "id": "4cc69f4a",
   "metadata": {
    "ExecuteTime": {
     "end_time": "2021-10-14T14:22:43.845137Z",
     "start_time": "2021-10-14T14:22:42.048629Z"
    }
   },
   "outputs": [],
   "source": [
    "eigenvalues, eigenvectors = eigs(sparse_matrix+740*scipy.sparse.identity(9801), k=50, which='LM')"
   ]
  },
  {
   "cell_type": "code",
   "execution_count": 36,
   "id": "df82ad5e",
   "metadata": {
    "ExecuteTime": {
     "end_time": "2021-10-14T14:23:49.770404Z",
     "start_time": "2021-10-14T14:23:49.753405Z"
    }
   },
   "outputs": [
    {
     "name": "stdout",
     "output_type": "stream",
     "text": [
      "[-3.57083584e+02+0.j -3.55788850e+02+0.j -3.55003971e+02+0.j\n",
      " -3.54555588e+02+0.j -3.54274551e+02+0.j -2.91884127e+02+0.j\n",
      " -2.90700517e+02+0.j -2.89446277e+02+0.j -2.88304117e+02+0.j\n",
      " -2.87707947e+02+0.j -2.86951211e+02+0.j -1.46322359e+02+0.j\n",
      " -1.41637948e+02+0.j -1.40167648e+02+0.j -1.36518529e+02+0.j\n",
      " -1.34845888e+02+0.j -1.34673891e+02+0.j -4.25069946e+01+0.j\n",
      " -7.41475314e-01+0.j -5.12218762e-01+0.j -4.46191716e-01+0.j\n",
      " -4.04704690e-01+0.j -3.44735139e-01+0.j -1.54881381e-01+0.j\n",
      "  1.09916089e-01+0.j  1.51006922e-01+0.j  1.58553007e-01+0.j\n",
      "  2.22723965e-01+0.j  5.43119812e-01+0.j  7.82664528e-01+0.j\n",
      "  9.67619785e-01+0.j  1.15622094e+00+0.j  1.56900289e+00+0.j\n",
      "  1.68018842e+00+0.j  1.84054524e+00+0.j  2.18522552e+00+0.j\n",
      "  2.78697050e+00+0.j  2.95493695e+00+0.j  3.11585316e+00+0.j\n",
      "  3.30035938e+00+0.j  4.21381274e+00+0.j  4.57417483e+00+0.j\n",
      "  5.57081231e+00+0.j  7.33342009e+00+0.j  8.71939656e+00+0.j\n",
      "  9.91802063e+00+0.j  1.26795233e+01+0.j  1.45115428e+01+0.j\n",
      "  1.93089022e+01+0.j  4.10758103e+01+0.j] [[-7.87267164e-03+0.j -1.78038211e-02+0.j  6.19305112e-03+0.j ...\n",
      "  -1.28716697e-04+0.j -9.30546142e-06+0.j -2.89843431e-06+0.j]\n",
      " [-7.90039744e-03+0.j -1.79430631e-02+0.j  6.85916241e-03+0.j ...\n",
      "  -1.54025703e-04+0.j -1.92021359e-05+0.j -6.44481583e-06+0.j]\n",
      " [-7.87468078e-03+0.j -1.82501974e-02+0.j  7.71683917e-03+0.j ...\n",
      "   1.22117983e-04+0.j  1.82922289e-05+0.j -8.42569554e-06+0.j]\n",
      " ...\n",
      " [-7.77397641e-03+0.j -1.69726964e-02+0.j  3.76045434e-03+0.j ...\n",
      "  -6.64148255e-05+0.j -5.13242335e-06+0.j -8.96899039e-08+0.j]\n",
      " [-7.50812397e-03+0.j -1.70255831e-02+0.j  4.28737117e-03+0.j ...\n",
      "  -6.89681224e-04+0.j -8.91361260e-05+0.j -6.02465219e-06+0.j]\n",
      " [-7.57872328e-03+0.j -1.72570005e-02+0.j  5.09431155e-03+0.j ...\n",
      "   1.97346582e-04+0.j  3.53576046e-05+0.j -5.44482325e-06+0.j]]\n"
     ]
    }
   ],
   "source": [
    "print(np.sort(eigenvalues-740), eigenvectors)"
   ]
  },
  {
   "cell_type": "code",
   "execution_count": 39,
   "id": "e93959eb",
   "metadata": {
    "ExecuteTime": {
     "end_time": "2021-10-14T14:31:17.426191Z",
     "start_time": "2021-10-14T14:31:17.316570Z"
    }
   },
   "outputs": [],
   "source": [
    "%matplotlib qt\n",
    "#fig = plt.figure()\n",
    "#ax = fig.add_subplot(1,1,1)\n",
    "plt.imshow([sparse_matrix.diagonal()], aspect='auto')\n",
    "plt.colorbar()\n",
    "plt.show()"
   ]
  },
  {
   "cell_type": "code",
   "execution_count": 37,
   "id": "874c26bc",
   "metadata": {
    "ExecuteTime": {
     "end_time": "2021-10-14T14:30:19.657255Z",
     "start_time": "2021-10-14T14:30:19.637255Z"
    }
   },
   "outputs": [
    {
     "name": "stdout",
     "output_type": "stream",
     "text": [
      "[-732. -732. -732. ... -732. -732. -732.]\n"
     ]
    }
   ],
   "source": [
    "print(sparse_matrix.diagonal())"
   ]
  },
  {
   "cell_type": "code",
   "execution_count": 16,
   "id": "4475eec4",
   "metadata": {
    "ExecuteTime": {
     "end_time": "2021-10-14T12:38:14.068308Z",
     "start_time": "2021-10-14T12:38:14.053318Z"
    }
   },
   "outputs": [
    {
     "name": "stdout",
     "output_type": "stream",
     "text": [
      "[[1 4]\n",
      " [3 5]\n",
      " [6 3]]\n",
      "[[3 5]\n",
      " [6 3]]\n"
     ]
    }
   ],
   "source": [
    "a = np.array([[1,4],[3,5],[6,3]])\n",
    "print(a)\n",
    "print(a[np.array([1,2])])"
   ]
  },
  {
   "cell_type": "markdown",
   "id": "3fcddfda",
   "metadata": {},
   "source": [
    "print(z.numbers)"
   ]
  },
  {
   "cell_type": "code",
   "execution_count": 19,
   "id": "55f83391",
   "metadata": {
    "ExecuteTime": {
     "end_time": "2021-10-14T12:45:51.393561Z",
     "start_time": "2021-10-14T12:45:51.384565Z"
    }
   },
   "outputs": [
    {
     "name": "stdout",
     "output_type": "stream",
     "text": [
      "  (0, 0)\t1\n",
      "  (0, 1)\t2\n",
      "  (1, 1)\t3\n"
     ]
    }
   ],
   "source": [
    "A = coo_matrix(([1,2,3],([0,0,1],[0,1,1])), shape=(2,2))\n",
    "print(A)"
   ]
  },
  {
   "cell_type": "code",
   "execution_count": 21,
   "id": "6479d869",
   "metadata": {
    "ExecuteTime": {
     "end_time": "2021-10-14T12:46:13.712306Z",
     "start_time": "2021-10-14T12:46:13.689308Z"
    }
   },
   "outputs": [
    {
     "name": "stdout",
     "output_type": "stream",
     "text": [
      "(array([0, 0, 1], dtype=int64), array([0, 1, 1], dtype=int64))\n"
     ]
    }
   ],
   "source": [
    "print(np.where(A.toarray() != 0))"
   ]
  },
  {
   "cell_type": "code",
   "execution_count": 3,
   "id": "a2e21616",
   "metadata": {},
   "outputs": [
    {
     "data": {
      "text/plain": [
       "55"
      ]
     },
     "execution_count": 3,
     "metadata": {},
     "output_type": "execute_result"
    }
   ],
   "source": [
    "-44%99"
   ]
  },
  {
   "cell_type": "code",
   "execution_count": 31,
   "id": "433773cd",
   "metadata": {
    "ExecuteTime": {
     "end_time": "2021-10-13T15:45:58.363456Z",
     "start_time": "2021-10-13T15:45:58.341697Z"
    }
   },
   "outputs": [
    {
     "name": "stdout",
     "output_type": "stream",
     "text": [
      "(array([1]), array([0]))\n"
     ]
    }
   ],
   "source": [
    "A = np.array([[1,2],[3,4]])\n",
    "print(np.where(A==3))"
   ]
  },
  {
   "cell_type": "code",
   "execution_count": null,
   "id": "5fb40780",
   "metadata": {},
   "outputs": [],
   "source": []
  }
 ],
 "metadata": {
  "kernelspec": {
   "display_name": "Python 3",
   "language": "python",
   "name": "python3"
  },
  "language_info": {
   "codemirror_mode": {
    "name": "ipython",
    "version": 3
   },
   "file_extension": ".py",
   "mimetype": "text/x-python",
   "name": "python",
   "nbconvert_exporter": "python",
   "pygments_lexer": "ipython3",
   "version": "3.8.8"
  }
 },
 "nbformat": 4,
 "nbformat_minor": 5
}
