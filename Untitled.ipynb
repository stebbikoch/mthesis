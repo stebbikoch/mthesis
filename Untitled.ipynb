{
 "cells": [
  {
   "cell_type": "code",
   "execution_count": 38,
   "id": "59a25802",
   "metadata": {
    "ExecuteTime": {
     "end_time": "2021-10-20T13:24:28.876329Z",
     "start_time": "2021-10-20T13:24:28.870332Z"
    }
   },
   "outputs": [],
   "source": [
    "from matrix import build_matrix\n",
    "from matrix import integer_inequality\n",
    "import numpy as np\n",
    "from scipy.sparse import coo_matrix\n",
    "from matplotlib import pyplot as plt\n",
    "import scipy.sparse\n",
    "from scipy.sparse.linalg import eigsh\n",
    "from scipy.sparse.linalg import eigs"
   ]
  },
  {
   "cell_type": "code",
   "execution_count": 39,
   "id": "be34ada4",
   "metadata": {
    "ExecuteTime": {
     "end_time": "2021-10-20T13:24:30.608075Z",
     "start_time": "2021-10-20T13:24:30.493856Z"
    }
   },
   "outputs": [
    {
     "data": {
      "image/png": "[encoded data removed]",
      "text/plain": [
       "<Figure size 432x288 with 1 Axes>"
      ]
     },
     "metadata": {
      "needs_background": "light"
     },
     "output_type": "display_data"
    }
   ],
   "source": [
    "x = integer_inequality(2, 5, 5)\n",
    "x.all_numbers(50)\n",
    "x.save_to_json('2dtorus_hexagonal_5_by_5')"
   ]
  },
  {
   "cell_type": "code",
   "execution_count": 40,
   "id": "15c7a685",
   "metadata": {
    "ExecuteTime": {
     "end_time": "2021-10-20T13:24:34.101337Z",
     "start_time": "2021-10-20T13:24:34.094341Z"
    },
    "scrolled": true
   },
   "outputs": [
    {
     "name": "stdout",
     "output_type": "stream",
     "text": [
      "[[[0, 0], [0, 4]], [[0, 0], [0, 3]], [[0, 0], [4, 0]], [[0, 0], [4, 1]], [[0, 0], [4, 4]], [[0, 0], [4, 2]], [[0, 0], [3, 0]], [[0, 0], [3, 1]], [[0, 0], [3, 2]], [[0, 1], [0, 0]], [[0, 1], [0, 4]], [[0, 1], [4, 1]], [[0, 1], [4, 2]], [[0, 1], [4, 0]], [[0, 1], [4, 3]], [[0, 1], [3, 1]], [[0, 1], [3, 2]], [[0, 1], [3, 3]], [[0, 2], [0, 1]], [[0, 2], [0, 0]], [[0, 2], [4, 2]], [[0, 2], [4, 3]], [[0, 2], [4, 1]], [[0, 2], [4, 4]], [[0, 2], [3, 2]], [[0, 2], [3, 3]], [[0, 2], [3, 4]], [[0, 3], [0, 2]], [[0, 3], [0, 1]], [[0, 3], [4, 3]], [[0, 3], [4, 4]], [[0, 3], [4, 2]], [[0, 3], [4, 0]], [[0, 3], [3, 3]], [[0, 3], [3, 4]], [[0, 3], [3, 0]], [[0, 4], [0, 3]], [[0, 4], [0, 2]], [[0, 4], [4, 4]], [[0, 4], [4, 0]], [[0, 4], [4, 3]], [[0, 4], [4, 1]], [[0, 4], [3, 4]], [[0, 4], [3, 0]], [[0, 4], [3, 1]], [[1, 0], [1, 4]], [[1, 0], [1, 3]], [[1, 0], [0, 0]], [[1, 0], [0, 1]], [[1, 0], [0, 4]], [[1, 0], [0, 2]], [[1, 0], [4, 0]], [[1, 0], [4, 1]], [[1, 0], [4, 2]], [[1, 1], [1, 0]], [[1, 1], [1, 4]], [[1, 1], [0, 1]], [[1, 1], [0, 2]], [[1, 1], [0, 0]], [[1, 1], [0, 3]], [[1, 1], [4, 1]], [[1, 1], [4, 2]], [[1, 1], [4, 3]], [[1, 2], [1, 1]], [[1, 2], [1, 0]], [[1, 2], [0, 2]], [[1, 2], [0, 3]], [[1, 2], [0, 1]], [[1, 2], [0, 4]], [[1, 2], [4, 2]], [[1, 2], [4, 3]], [[1, 2], [4, 4]], [[1, 3], [1, 2]], [[1, 3], [1, 1]], [[1, 3], [0, 3]], [[1, 3], [0, 4]], [[1, 3], [0, 2]], [[1, 3], [0, 0]], [[1, 3], [4, 3]], [[1, 3], [4, 4]], [[1, 3], [4, 0]], [[1, 4], [1, 3]], [[1, 4], [1, 2]], [[1, 4], [0, 4]], [[1, 4], [0, 0]], [[1, 4], [0, 3]], [[1, 4], [0, 1]], [[1, 4], [4, 4]], [[1, 4], [4, 0]], [[1, 4], [4, 1]], [[2, 0], [2, 4]], [[2, 0], [2, 3]], [[2, 0], [1, 0]], [[2, 0], [1, 1]], [[2, 0], [1, 4]], [[2, 0], [1, 2]], [[2, 0], [0, 0]], [[2, 0], [0, 1]], [[2, 0], [0, 2]], [[2, 1], [2, 0]], [[2, 1], [2, 4]], [[2, 1], [1, 1]], [[2, 1], [1, 2]], [[2, 1], [1, 0]], [[2, 1], [1, 3]], [[2, 1], [0, 1]], [[2, 1], [0, 2]], [[2, 1], [0, 3]], [[2, 2], [2, 1]], [[2, 2], [2, 0]], [[2, 2], [1, 2]], [[2, 2], [1, 3]], [[2, 2], [1, 1]], [[2, 2], [1, 4]], [[2, 2], [0, 2]], [[2, 2], [0, 3]], [[2, 2], [0, 4]], [[2, 3], [2, 2]], [[2, 3], [2, 1]], [[2, 3], [1, 3]], [[2, 3], [1, 4]], [[2, 3], [1, 2]], [[2, 3], [1, 0]], [[2, 3], [0, 3]], [[2, 3], [0, 4]], [[2, 3], [0, 0]], [[2, 4], [2, 3]], [[2, 4], [2, 2]], [[2, 4], [1, 4]], [[2, 4], [1, 0]], [[2, 4], [1, 3]], [[2, 4], [1, 1]], [[2, 4], [0, 4]], [[2, 4], [0, 0]], [[2, 4], [0, 1]], [[3, 0], [3, 4]], [[3, 0], [3, 3]], [[3, 0], [2, 0]], [[3, 0], [2, 1]], [[3, 0], [2, 4]], [[3, 0], [2, 2]], [[3, 0], [1, 0]], [[3, 0], [1, 1]], [[3, 0], [1, 2]], [[3, 1], [3, 0]], [[3, 1], [3, 4]], [[3, 1], [2, 1]], [[3, 1], [2, 2]], [[3, 1], [2, 0]], [[3, 1], [2, 3]], [[3, 1], [1, 1]], [[3, 1], [1, 2]], [[3, 1], [1, 3]], [[3, 2], [3, 1]], [[3, 2], [3, 0]], [[3, 2], [2, 2]], [[3, 2], [2, 3]], [[3, 2], [2, 1]], [[3, 2], [2, 4]], [[3, 2], [1, 2]], [[3, 2], [1, 3]], [[3, 2], [1, 4]], [[3, 3], [3, 2]], [[3, 3], [3, 1]], [[3, 3], [2, 3]], [[3, 3], [2, 4]], [[3, 3], [2, 2]], [[3, 3], [2, 0]], [[3, 3], [1, 3]], [[3, 3], [1, 4]], [[3, 3], [1, 0]], [[3, 4], [3, 3]], [[3, 4], [3, 2]], [[3, 4], [2, 4]], [[3, 4], [2, 0]], [[3, 4], [2, 3]], [[3, 4], [2, 1]], [[3, 4], [1, 4]], [[3, 4], [1, 0]], [[3, 4], [1, 1]], [[4, 0], [4, 4]], [[4, 0], [4, 3]], [[4, 0], [3, 0]], [[4, 0], [3, 1]], [[4, 0], [3, 4]], [[4, 0], [3, 2]], [[4, 0], [2, 0]], [[4, 0], [2, 1]], [[4, 0], [2, 2]], [[4, 1], [4, 0]], [[4, 1], [4, 4]], [[4, 1], [3, 1]], [[4, 1], [3, 2]], [[4, 1], [3, 0]], [[4, 1], [3, 3]], [[4, 1], [2, 1]], [[4, 1], [2, 2]], [[4, 1], [2, 3]], [[4, 2], [4, 1]], [[4, 2], [4, 0]], [[4, 2], [3, 2]], [[4, 2], [3, 3]], [[4, 2], [3, 1]], [[4, 2], [3, 4]], [[4, 2], [2, 2]], [[4, 2], [2, 3]], [[4, 2], [2, 4]], [[4, 3], [4, 2]], [[4, 3], [4, 1]], [[4, 3], [3, 3]], [[4, 3], [3, 4]], [[4, 3], [3, 2]], [[4, 3], [3, 0]], [[4, 3], [2, 3]], [[4, 3], [2, 4]], [[4, 3], [2, 0]], [[4, 4], [4, 3]], [[4, 4], [4, 2]], [[4, 4], [3, 4]], [[4, 4], [3, 0]], [[4, 4], [3, 3]], [[4, 4], [3, 1]], [[4, 4], [2, 4]], [[4, 4], [2, 0]], [[4, 4], [2, 1]]]\n",
      "kontrolllänge: 450\n"
     ]
    }
   ],
   "source": [
    "z = build_matrix('2dtorus_hexagonal_5_by_5', 5, 5, 4)\n",
    "z.all_indices()\n",
    "z.one_int_index_tuples()\n",
    "z.Laplacian_0()\n",
    "#z.random_rewiring(0.5)\n",
    "#z.Adjacency_0()\n",
    "#z.Laplacian_0()"
   ]
  },
  {
   "cell_type": "code",
   "execution_count": 3,
   "id": "cf1b78ab",
   "metadata": {
    "ExecuteTime": {
     "end_time": "2021-10-19T15:21:57.125089Z",
     "start_time": "2021-10-19T15:21:57.121093Z"
    },
    "scrolled": true
   },
   "outputs": [
    {
     "name": "stdout",
     "output_type": "stream",
     "text": [
      "kontrolllänge: 96\n"
     ]
    }
   ],
   "source": [
    "z.one_int_index_tuples()"
   ]
  },
  {
   "cell_type": "code",
   "execution_count": 4,
   "id": "a37e9231",
   "metadata": {
    "ExecuteTime": {
     "end_time": "2021-10-19T15:21:59.659757Z",
     "start_time": "2021-10-19T15:21:59.648769Z"
    }
   },
   "outputs": [],
   "source": [
    "z.Laplacian_0()"
   ]
  },
  {
   "cell_type": "code",
   "execution_count": 3,
   "id": "dd8bbc16",
   "metadata": {
    "ExecuteTime": {
     "end_time": "2021-10-20T13:04:26.722920Z",
     "start_time": "2021-10-20T13:04:26.713925Z"
    }
   },
   "outputs": [
    {
     "name": "stdout",
     "output_type": "stream",
     "text": [
      "[-6. -6. -6. -6. -6. -6. -6. -6. -6. -6. -6. -6. -6. -6. -6. -6.]\n"
     ]
    }
   ],
   "source": [
    "print(z.L_0.diagonal())"
   ]
  },
  {
   "cell_type": "code",
   "execution_count": 47,
   "id": "06b115e1",
   "metadata": {
    "ExecuteTime": {
     "end_time": "2021-10-20T12:49:41.568586Z",
     "start_time": "2021-10-20T12:49:41.560579Z"
    }
   },
   "outputs": [
    {
     "name": "stdout",
     "output_type": "stream",
     "text": [
      "[ 8  1  7  3  3  5  4 11  6 10  6  2  4  7  7  0  4  1  1  0  3  5  1 12\n",
      "  8  1  0  9] [10 11 15 15  4  7 13 15 10 15  8  6  6  9 13  4  8  8  5 13  9  8 14 15\n",
      " 15 13 10 13] 28 28\n"
     ]
    }
   ],
   "source": [
    "print(z.ps, z.qs, z.M, len(z.ps))"
   ]
  },
  {
   "cell_type": "code",
   "execution_count": 41,
   "id": "947541d4",
   "metadata": {
    "ExecuteTime": {
     "end_time": "2021-10-20T13:24:39.309053Z",
     "start_time": "2021-10-20T13:24:39.293053Z"
    }
   },
   "outputs": [],
   "source": [
    "z.random_rewiring(0.05)"
   ]
  },
  {
   "cell_type": "code",
   "execution_count": 21,
   "id": "6e8976da",
   "metadata": {
    "ExecuteTime": {
     "end_time": "2021-10-20T13:16:20.659003Z",
     "start_time": "2021-10-20T13:16:20.641999Z"
    },
    "scrolled": true
   },
   "outputs": [
    {
     "name": "stdout",
     "output_type": "stream",
     "text": [
      "[[-21.   1.   1.   1.   0.   1.   1.   1.   1.   1.   0.   1.   1.   1.\n",
      "    1.   1.   1.   1.   1.   1.   0.   1.   1.   1.   1.]\n",
      " [  1. -18.   1.   1.   1.   0.   1.   1.   0.   1.   1.   1.   1.   0.\n",
      "    1.   1.   1.   1.   1.   0.   1.   1.   0.   1.   0.]\n",
      " [  1.   1. -18.   0.   1.   0.   1.   1.   0.   1.   1.   1.   1.   0.\n",
      "    0.   1.   1.   1.   1.   1.   1.   1.   0.   1.   1.]\n",
      " [  1.   1.   0. -17.   1.   1.   1.   0.   1.   1.   0.   1.   0.   1.\n",
      "    1.   1.   0.   0.   1.   1.   1.   1.   1.   1.   0.]\n",
      " [  0.   1.   1.   1. -20.   1.   0.   1.   1.   1.   0.   1.   1.   1.\n",
      "    1.   1.   1.   1.   0.   1.   1.   1.   1.   1.   1.]\n",
      " [  1.   0.   0.   1.   1. -14.   1.   1.   0.   0.   0.   0.   0.   1.\n",
      "    1.   1.   1.   0.   1.   1.   1.   0.   1.   0.   1.]\n",
      " [  1.   1.   1.   1.   0.   1. -19.   1.   1.   1.   1.   1.   0.   1.\n",
      "    1.   1.   1.   0.   1.   1.   1.   0.   0.   1.   1.]\n",
      " [  1.   1.   1.   0.   1.   1.   1. -20.   1.   1.   1.   1.   1.   1.\n",
      "    0.   1.   1.   1.   0.   1.   0.   1.   1.   1.   1.]\n",
      " [  1.   0.   0.   1.   1.   0.   1.   1. -16.   1.   1.   1.   0.   1.\n",
      "    1.   1.   0.   1.   0.   1.   1.   0.   1.   1.   0.]\n",
      " [  1.   1.   1.   1.   1.   0.   1.   1.   1. -18.   1.   0.   1.   0.\n",
      "    1.   1.   1.   0.   1.   1.   1.   0.   1.   1.   0.]\n",
      " [  0.   1.   1.   0.   0.   0.   1.   1.   1.   1. -14.   0.   0.   0.\n",
      "    1.   0.   1.   1.   1.   1.   0.   1.   0.   1.   1.]\n",
      " [  1.   1.   1.   1.   1.   0.   1.   1.   1.   0.   0. -16.   1.   0.\n",
      "    1.   0.   1.   1.   0.   1.   0.   1.   0.   1.   1.]\n",
      " [  1.   1.   1.   0.   1.   0.   0.   1.   0.   1.   0.   1. -17.   1.\n",
      "    1.   1.   1.   1.   1.   1.   1.   1.   0.   1.   0.]\n",
      " [  1.   0.   0.   1.   1.   1.   1.   1.   1.   0.   0.   0.   1. -16.\n",
      "    1.   1.   1.   1.   1.   1.   0.   1.   0.   1.   0.]\n",
      " [  1.   1.   0.   1.   1.   1.   1.   0.   1.   1.   1.   1.   1.   1.\n",
      "  -20.   1.   1.   0.   1.   1.   1.   1.   0.   1.   1.]\n",
      " [  1.   1.   1.   1.   1.   1.   1.   1.   1.   1.   0.   0.   1.   1.\n",
      "    1. -21.   1.   1.   0.   1.   1.   1.   1.   1.   1.]\n",
      " [  1.   1.   1.   0.   1.   1.   1.   1.   0.   1.   1.   1.   1.   1.\n",
      "    1.   1. -21.   1.   1.   1.   1.   1.   1.   1.   0.]\n",
      " [  1.   1.   1.   0.   1.   0.   0.   1.   1.   0.   1.   1.   1.   1.\n",
      "    0.   1.   1. -18.   1.   1.   1.   1.   1.   1.   0.]\n",
      " [  1.   1.   1.   1.   0.   1.   1.   0.   0.   1.   1.   0.   1.   1.\n",
      "    1.   0.   1.   1. -18.   0.   1.   1.   1.   1.   1.]\n",
      " [  1.   0.   1.   1.   1.   1.   1.   1.   1.   1.   1.   1.   1.   1.\n",
      "    1.   1.   1.   1.   0. -20.   1.   0.   1.   1.   0.]\n",
      " [  0.   1.   1.   1.   1.   1.   1.   0.   1.   1.   0.   0.   1.   0.\n",
      "    1.   1.   1.   1.   1.   1. -18.   1.   1.   1.   0.]\n",
      " [  1.   1.   1.   1.   1.   0.   0.   1.   0.   0.   1.   1.   1.   1.\n",
      "    1.   1.   1.   1.   1.   0.   1. -18.   1.   0.   1.]\n",
      " [  1.   0.   0.   1.   1.   1.   0.   1.   1.   1.   0.   0.   0.   0.\n",
      "    0.   1.   1.   1.   1.   1.   1.   1. -16.   1.   1.]\n",
      " [  1.   1.   1.   1.   1.   0.   1.   1.   1.   1.   1.   1.   1.   1.\n",
      "    1.   1.   1.   1.   1.   1.   1.   0.   1. -22.   1.]\n",
      " [  1.   0.   1.   0.   1.   1.   1.   1.   0.   0.   1.   1.   0.   0.\n",
      "    1.   1.   0.   0.   1.   0.   0.   1.   1.   1. -14.]]\n"
     ]
    }
   ],
   "source": [
    "print(z.L_rnd.toarray())"
   ]
  },
  {
   "cell_type": "code",
   "execution_count": 38,
   "id": "fb0d700f",
   "metadata": {
    "ExecuteTime": {
     "end_time": "2021-10-20T12:44:59.412082Z",
     "start_time": "2021-10-20T12:44:59.403088Z"
    }
   },
   "outputs": [
    {
     "name": "stdout",
     "output_type": "stream",
     "text": [
      "(array([ 0,  0,  0,  0,  0,  0,  0,  0,  0,  1,  1,  1,  1,  1,  1,  1,  2,\n",
      "        2,  2,  2,  2,  2,  2,  3,  3,  3,  3,  3,  3,  3,  3,  4,  4,  4,\n",
      "        4,  4,  4,  4,  4,  5,  5,  5,  5,  5,  5,  6,  6,  6,  6,  7,  7,\n",
      "        7,  7,  7,  7,  7,  8,  9,  9,  9,  9,  9, 10, 10, 11, 11, 11, 12,\n",
      "       12, 12, 13, 13], dtype=int64), array([ 2,  4,  5,  7,  8,  9, 10, 11, 15,  5,  6,  7,  8,  9, 11, 13,  3,\n",
      "        6,  7,  8,  9, 10, 13,  4,  5,  7,  9, 10, 11, 13, 15,  5,  6,  9,\n",
      "       10, 11, 12, 13, 14,  7, 10, 11, 12, 14, 15,  8, 12, 14, 15,  8,  9,\n",
      "       11, 12, 13, 14, 15, 10, 11, 12, 13, 14, 15, 11, 15, 12, 13, 15, 13,\n",
      "       14, 15, 14, 15], dtype=int64))\n"
     ]
    }
   ],
   "source": [
    "print(np.where((z.L_0.toarray()+np.tril(np.ones((16,16))))==0))"
   ]
  },
  {
   "cell_type": "code",
   "execution_count": 20,
   "id": "0ff7c8fc",
   "metadata": {
    "ExecuteTime": {
     "end_time": "2021-10-20T13:16:04.858090Z",
     "start_time": "2021-10-20T13:16:04.842105Z"
    },
    "scrolled": false
   },
   "outputs": [
    {
     "name": "stdout",
     "output_type": "stream",
     "text": [
      "[0.0, 0.0, 0.0, 0.0, 0.0, 0.0, 0.0, 0.0, 0.0, 0.0, 0.0, 0.0, 0.0, 0.0, 0.0, 0.0]\n"
     ]
    }
   ],
   "source": [
    "print([np.sum(z.L_0[:,k])for k in range(16)])"
   ]
  },
  {
   "cell_type": "code",
   "execution_count": 59,
   "id": "77e08813",
   "metadata": {
    "ExecuteTime": {
     "end_time": "2021-10-20T12:54:41.956320Z",
     "start_time": "2021-10-20T12:54:41.950337Z"
    }
   },
   "outputs": [],
   "source": [
    "z.L_0[[1,1,1],[1,1,1]] += [1,1,1]"
   ]
  },
  {
   "cell_type": "code",
   "execution_count": 5,
   "id": "7ea1967b",
   "metadata": {
    "ExecuteTime": {
     "end_time": "2021-10-19T15:29:39.453677Z",
     "start_time": "2021-10-19T15:29:39.436687Z"
    }
   },
   "outputs": [
    {
     "name": "stdout",
     "output_type": "stream",
     "text": [
      "(array([ 0,  0,  0,  0,  0,  0,  0,  0,  0,  0,  1,  1,  1,  1,  1,  1,  1,\n",
      "        1,  1,  2,  2,  2,  2,  2,  2,  2,  2,  3,  3,  3,  3,  3,  3,  3,\n",
      "        3,  4,  4,  4,  4,  4,  4,  4,  5,  5,  5,  5,  5,  5,  5,  6,  6,\n",
      "        6,  6,  6,  6,  7,  7,  7,  7,  7,  7,  8,  8,  8,  9,  9,  9, 10,\n",
      "       10, 11, 11, 12, 13], dtype=int64), array([ 2,  5,  6,  8,  9, 10, 11, 12, 14, 15,  3,  6,  7,  8,  9, 10, 11,\n",
      "       12, 15,  4,  7,  8,  9, 10, 11, 12, 13,  4,  5,  8,  9, 10, 11, 13,\n",
      "       14,  6,  9, 10, 12, 13, 14, 15,  7, 10, 11, 12, 13, 14, 15,  8, 11,\n",
      "       12, 13, 14, 15,  8,  9, 12, 13, 14, 15, 10, 13, 14, 11, 14, 15, 12,\n",
      "       15, 12, 13, 14, 15], dtype=int64))\n"
     ]
    }
   ],
   "source": [
    "print(np.where(z.L_0.toarray()+np.tril(np.ones((16,16)))==0))"
   ]
  },
  {
   "cell_type": "code",
   "execution_count": 64,
   "id": "2dd677e6",
   "metadata": {
    "ExecuteTime": {
     "end_time": "2021-10-20T13:00:45.180495Z",
     "start_time": "2021-10-20T13:00:45.163491Z"
    }
   },
   "outputs": [
    {
     "name": "stdout",
     "output_type": "stream",
     "text": [
      "[[ 0  0  0]\n",
      " [ 0 -2  0]\n",
      " [ 0  1  0]]\n"
     ]
    }
   ],
   "source": [
    "a = coo_matrix(([-1,-1,1],([1,1,2],[1,1,1])), shape=(3,3))\n",
    "print(a.toarray())"
   ]
  },
  {
   "cell_type": "code",
   "execution_count": 34,
   "id": "ccc443de",
   "metadata": {
    "ExecuteTime": {
     "end_time": "2021-10-13T15:46:44.753797Z",
     "start_time": "2021-10-13T15:46:44.742773Z"
    }
   },
   "outputs": [
    {
     "name": "stdout",
     "output_type": "stream",
     "text": [
      "7184133\n"
     ]
    }
   ],
   "source": [
    "print(len(y[0]))"
   ]
  },
  {
   "cell_type": "code",
   "execution_count": 8,
   "id": "8c1508a6",
   "metadata": {
    "ExecuteTime": {
     "end_time": "2021-10-13T15:11:10.217437Z",
     "start_time": "2021-10-13T15:11:10.209795Z"
    }
   },
   "outputs": [],
   "source": [
    "from matplotlib import pyplot as plt\n"
   ]
  },
  {
   "cell_type": "code",
   "execution_count": 59,
   "id": "6c4a90df",
   "metadata": {
    "ExecuteTime": {
     "end_time": "2021-10-14T14:46:35.797040Z",
     "start_time": "2021-10-14T14:46:35.724693Z"
    }
   },
   "outputs": [],
   "source": [
    "%matplotlib qt\n",
    "plt.imshow(z.L_0.toarray(), vmin=-1, vmax=1)\n",
    "plt.show()"
   ]
  },
  {
   "cell_type": "code",
   "execution_count": 13,
   "id": "a6adbbdf",
   "metadata": {
    "ExecuteTime": {
     "end_time": "2021-10-14T13:25:26.822047Z",
     "start_time": "2021-10-14T13:23:26.582880Z"
    }
   },
   "outputs": [],
   "source": [
    "z.save_to_json('Laplacian_2d_torus_hexagonal_q=0.05', thing_to_dump)"
   ]
  },
  {
   "cell_type": "code",
   "execution_count": 12,
   "id": "19422078",
   "metadata": {
    "ExecuteTime": {
     "end_time": "2021-10-14T13:23:10.661161Z",
     "start_time": "2021-10-14T13:22:56.328907Z"
    }
   },
   "outputs": [],
   "source": [
    "thing_to_dump = z.L_0.toarray().tolist()"
   ]
  },
  {
   "cell_type": "code",
   "execution_count": 2,
   "id": "96bfe88d",
   "metadata": {
    "ExecuteTime": {
     "end_time": "2021-10-14T13:30:42.334722Z",
     "start_time": "2021-10-14T13:30:42.116821Z"
    }
   },
   "outputs": [],
   "source": [
    "#scipy.sparse.save_npz('./matrices/Laplacian_2d_torus_hexagonal_q=0.05.npz', z.L_0)\n",
    "sparse_matrix = scipy.sparse.load_npz('./matrices/Laplacian_2d_torus_hexagonal_q=0.05.npz')"
   ]
  },
  {
   "cell_type": "code",
   "execution_count": null,
   "id": "ddc2750a",
   "metadata": {},
   "outputs": [],
   "source": []
  },
  {
   "cell_type": "code",
   "execution_count": 46,
   "id": "4cc69f4a",
   "metadata": {
    "ExecuteTime": {
     "end_time": "2021-10-20T13:25:27.890650Z",
     "start_time": "2021-10-20T13:25:27.877658Z"
    }
   },
   "outputs": [],
   "source": [
    "eigenvalues, eigenvectors = eigs(z.L_rnd+20*scipy.sparse.identity(25), k=8, which='LM')"
   ]
  },
  {
   "cell_type": "code",
   "execution_count": 47,
   "id": "df82ad5e",
   "metadata": {
    "ExecuteTime": {
     "end_time": "2021-10-20T13:25:28.941183Z",
     "start_time": "2021-10-20T13:25:28.925193Z"
    }
   },
   "outputs": [
    {
     "name": "stdout",
     "output_type": "stream",
     "text": [
      "[-2.30194106e+01+0.j -1.70446400e+01+0.j -1.67335705e+01+0.j\n",
      " -1.61748977e+01+0.j -1.56521058e+01+0.j -1.47634483e+01+0.j\n",
      " -1.32508210e+01+0.j  7.10542736e-15+0.j] [[-0.2       +0.j -0.01710719+0.j -0.1548604 +0.j -0.14485109+0.j\n",
      "   0.06583187+0.j -0.11641634+0.j -0.04729049+0.j -0.23833768+0.j]\n",
      " [-0.2       +0.j -0.13032259+0.j -0.02088093+0.j -0.13438175+0.j\n",
      "  -0.12075423+0.j -0.01855585+0.j  0.20377707+0.j  0.10424829+0.j]\n",
      " [-0.2       +0.j  0.83759883+0.j -0.10691328+0.j -0.04847848+0.j\n",
      "   0.19105411+0.j  0.01133321+0.j -0.20840835+0.j  0.06605212+0.j]\n",
      " [-0.2       +0.j  0.02128449+0.j -0.0194306 +0.j  0.33835467+0.j\n",
      "   0.24305152+0.j  0.02739864+0.j -0.11872532+0.j -0.06081378+0.j]\n",
      " [-0.2       +0.j -0.19827872+0.j  0.05358501+0.j  0.15554778+0.j\n",
      "   0.16374235+0.j -0.12244266+0.j -0.26721885+0.j -0.14426549+0.j]\n",
      " [-0.2       +0.j -0.2351167 +0.j -0.02892443+0.j -0.45922372+0.j\n",
      "   0.06724974+0.j  0.06103914+0.j -0.26359097+0.j -0.02478901+0.j]\n",
      " [-0.2       +0.j  0.05218643+0.j -0.15967818+0.j -0.07158892+0.j\n",
      "   0.04917914+0.j -0.27097968+0.j  0.24520489+0.j -0.27067755+0.j]\n",
      " [-0.2       +0.j  0.02696855+0.j -0.12435204+0.j  0.07215839+0.j\n",
      "   0.20689347+0.j -0.15801065+0.j  0.26433334+0.j  0.18690412+0.j]\n",
      " [-0.2       +0.j -0.18657346+0.j -0.0171245 +0.j  0.03393693+0.j\n",
      "   0.41179625+0.j -0.0160658 +0.j  0.02973923+0.j -0.10884503+0.j]\n",
      " [-0.2       +0.j -0.21754087+0.j -0.58186275+0.j  0.1570497 +0.j\n",
      "  -0.09724162+0.j  0.22714372+0.j -0.29142144+0.j  0.49320419+0.j]\n",
      " [-0.2       +0.j  0.09544367+0.j -0.12019236+0.j  0.33705298+0.j\n",
      "  -0.48367873+0.j  0.00224229+0.j  0.37177947+0.j -0.07298802+0.j]\n",
      " [-0.2       +0.j  0.00150659+0.j  0.03658432+0.j  0.04600978+0.j\n",
      "   0.07632621+0.j  0.65210232+0.j  0.0157534 +0.j -0.12688915+0.j]\n",
      " [-0.2       +0.j  0.02525698+0.j -0.02015414+0.j  0.13814184+0.j\n",
      "   0.24422488+0.j -0.02105078+0.j  0.31007382+0.j  0.22705172+0.j]\n",
      " [-0.2       +0.j -0.11139073+0.j -0.07072255+0.j -0.04723009+0.j\n",
      "   0.01067553+0.j -0.26405455+0.j  0.08082197+0.j -0.05999284+0.j]\n",
      " [-0.2       +0.j -0.12810062+0.j -0.16946779+0.j -0.1506245 +0.j\n",
      "  -0.26713975+0.j -0.01448071+0.j  0.01193065+0.j -0.19175328+0.j]\n",
      " [-0.2       +0.j -0.07848669+0.j  0.08592167+0.j  0.09765697+0.j\n",
      "   0.04652232+0.j  0.20514463+0.j  0.02608061+0.j -0.23552783+0.j]\n",
      " [-0.2       +0.j -0.0507807 +0.j  0.14204993+0.j  0.10440533+0.j\n",
      "   0.06690297+0.j  0.17496842+0.j  0.22281653+0.j -0.07112449+0.j]\n",
      " [-0.2       +0.j -0.00298813+0.j  0.03321311+0.j -0.1901165 +0.j\n",
      "   0.09037692+0.j -0.16094162+0.j  0.03701262+0.j  0.26031996+0.j]\n",
      " [-0.2       +0.j  0.03922701+0.j -0.04724698+0.j -0.05117797+0.j\n",
      "  -0.11198715+0.j -0.26815167+0.j -0.02473757+0.j  0.03129172+0.j]\n",
      " [-0.2       +0.j  0.04953157+0.j  0.07179398+0.j  0.06723993+0.j\n",
      "  -0.31799527+0.j -0.12216742+0.j -0.35193929+0.j -0.22059435+0.j]\n",
      " [-0.2       +0.j -0.12851918+0.j  0.63271686+0.j  0.21125023+0.j\n",
      "  -0.05728454+0.j -0.14181067+0.j -0.11422537+0.j  0.37389829+0.j]\n",
      " [-0.2       +0.j  0.02992138+0.j  0.19388819+0.j -0.17341527+0.j\n",
      "   0.1040796 +0.j  0.02791714+0.j -0.07283081+0.j -0.11996955+0.j]\n",
      " [-0.2       +0.j  0.11847205+0.j  0.17380202+0.j -0.49644862+0.j\n",
      "  -0.1975332 +0.j  0.19435014+0.j  0.18478161+0.j  0.26809275+0.j]\n",
      " [-0.2       +0.j  0.08588738+0.j  0.14331643+0.j  0.04733368+0.j\n",
      "  -0.14983318+0.j  0.24326614+0.j  0.02367563+0.j -0.13251553+0.j]\n",
      " [-0.2       +0.j  0.10192065+0.j  0.07493942+0.j  0.16139868+0.j\n",
      "  -0.23445923+0.j -0.13177741+0.j -0.2673924 +0.j  0.06802043+0.j]]\n"
     ]
    }
   ],
   "source": [
    "print(np.sort(eigenvalues-20), eigenvectors)"
   ]
  },
  {
   "cell_type": "code",
   "execution_count": 39,
   "id": "e93959eb",
   "metadata": {
    "ExecuteTime": {
     "end_time": "2021-10-14T14:31:17.426191Z",
     "start_time": "2021-10-14T14:31:17.316570Z"
    }
   },
   "outputs": [],
   "source": [
    "%matplotlib qt\n",
    "#fig = plt.figure()\n",
    "#ax = fig.add_subplot(1,1,1)\n",
    "plt.imshow([sparse_matrix.diagonal()], aspect='auto')\n",
    "plt.colorbar()\n",
    "plt.show()"
   ]
  },
  {
   "cell_type": "code",
   "execution_count": 37,
   "id": "874c26bc",
   "metadata": {
    "ExecuteTime": {
     "end_time": "2021-10-14T14:30:19.657255Z",
     "start_time": "2021-10-14T14:30:19.637255Z"
    }
   },
   "outputs": [
    {
     "name": "stdout",
     "output_type": "stream",
     "text": [
      "[-732. -732. -732. ... -732. -732. -732.]\n"
     ]
    }
   ],
   "source": [
    "print(sparse_matrix.diagonal())"
   ]
  },
  {
   "cell_type": "code",
   "execution_count": 16,
   "id": "4475eec4",
   "metadata": {
    "ExecuteTime": {
     "end_time": "2021-10-14T12:38:14.068308Z",
     "start_time": "2021-10-14T12:38:14.053318Z"
    }
   },
   "outputs": [
    {
     "name": "stdout",
     "output_type": "stream",
     "text": [
      "[[1 4]\n",
      " [3 5]\n",
      " [6 3]]\n",
      "[[3 5]\n",
      " [6 3]]\n"
     ]
    }
   ],
   "source": [
    "a = np.array([[1,4],[3,5],[6,3]])\n",
    "print(a)\n",
    "print(a[np.array([1,2])])"
   ]
  },
  {
   "cell_type": "markdown",
   "id": "3fcddfda",
   "metadata": {},
   "source": [
    "print(z.numbers)"
   ]
  },
  {
   "cell_type": "code",
   "execution_count": 19,
   "id": "55f83391",
   "metadata": {
    "ExecuteTime": {
     "end_time": "2021-10-14T12:45:51.393561Z",
     "start_time": "2021-10-14T12:45:51.384565Z"
    }
   },
   "outputs": [
    {
     "name": "stdout",
     "output_type": "stream",
     "text": [
      "  (0, 0)\t1\n",
      "  (0, 1)\t2\n",
      "  (1, 1)\t3\n"
     ]
    }
   ],
   "source": [
    "A = coo_matrix(([1,2,3],([0,0,1],[0,1,1])), shape=(2,2))\n",
    "print(A)"
   ]
  },
  {
   "cell_type": "code",
   "execution_count": 21,
   "id": "6479d869",
   "metadata": {
    "ExecuteTime": {
     "end_time": "2021-10-14T12:46:13.712306Z",
     "start_time": "2021-10-14T12:46:13.689308Z"
    }
   },
   "outputs": [
    {
     "name": "stdout",
     "output_type": "stream",
     "text": [
      "(array([0, 0, 1], dtype=int64), array([0, 1, 1], dtype=int64))\n"
     ]
    }
   ],
   "source": [
    "print(np.where(A.toarray() != 0))"
   ]
  },
  {
   "cell_type": "code",
   "execution_count": 3,
   "id": "a2e21616",
   "metadata": {},
   "outputs": [
    {
     "data": {
      "text/plain": [
       "55"
      ]
     },
     "execution_count": 3,
     "metadata": {},
     "output_type": "execute_result"
    }
   ],
   "source": [
    "-44%99"
   ]
  },
  {
   "cell_type": "code",
   "execution_count": 31,
   "id": "433773cd",
   "metadata": {
    "ExecuteTime": {
     "end_time": "2021-10-13T15:45:58.363456Z",
     "start_time": "2021-10-13T15:45:58.341697Z"
    }
   },
   "outputs": [
    {
     "name": "stdout",
     "output_type": "stream",
     "text": [
      "(array([1]), array([0]))\n"
     ]
    }
   ],
   "source": [
    "A = np.array([[1,2],[3,4]])\n",
    "print(np.where(A==3))"
   ]
  },
  {
   "cell_type": "code",
   "execution_count": null,
   "id": "5fb40780",
   "metadata": {},
   "outputs": [],
   "source": []
  }
 ],
 "metadata": {
  "kernelspec": {
   "display_name": "Python 3 (ipykernel)",
   "language": "python",
   "name": "python3"
  },
  "language_info": {
   "codemirror_mode": {
    "name": "ipython",
    "version": 3
   },
   "file_extension": ".py",
   "mimetype": "text/x-python",
   "name": "python",
   "nbconvert_exporter": "python",
   "pygments_lexer": "ipython3",
   "version": "3.9.7"
  }
 },
 "nbformat": 4,
 "nbformat_minor": 5
}
