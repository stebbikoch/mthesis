{
 "cells": [
  {
   "cell_type": "code",
   "execution_count": 17,
   "id": "c7ad3a0f",
   "metadata": {
    "ExecuteTime": {
     "end_time": "2021-11-10T13:45:09.012585Z",
     "start_time": "2021-11-10T13:45:09.006576Z"
    }
   },
   "outputs": [],
   "source": [
    "import networkx as nx\n",
    "from matplotlib import pyplot as plt\n",
    "from scipy.sparse.linalg import eigsh\n",
    "from scipy.sparse import identity\n",
    "import numpy as np"
   ]
  },
  {
   "cell_type": "code",
   "execution_count": 2,
   "id": "a614bfea",
   "metadata": {
    "ExecuteTime": {
     "end_time": "2021-11-10T13:39:52.366690Z",
     "start_time": "2021-11-10T13:39:52.185186Z"
    }
   },
   "outputs": [],
   "source": [
    "graph = nx.watts_strogatz_graph(1000, 20, 1)"
   ]
  },
  {
   "cell_type": "code",
   "execution_count": 24,
   "id": "d0891a8f",
   "metadata": {
    "ExecuteTime": {
     "end_time": "2021-11-10T13:47:24.873396Z",
     "start_time": "2021-11-10T13:47:24.837396Z"
    }
   },
   "outputs": [
    {
     "name": "stdout",
     "output_type": "stream",
     "text": [
      "[[-21   0   0 ...   0   0   0]\n",
      " [  0 -17   0 ...   0   0   0]\n",
      " [  0   0 -19 ...   0   0   0]\n",
      " ...\n",
      " [  0   0   0 ... -18   0   0]\n",
      " [  0   0   0 ...   0 -20   0]\n",
      " [  0   0   0 ...   0   0 -22]]\n"
     ]
    }
   ],
   "source": [
    "L = nx.laplacian_matrix(graph)\n",
    "print(-L.toarray())"
   ]
  },
  {
   "cell_type": "code",
   "execution_count": 173,
   "id": "0af97473",
   "metadata": {
    "ExecuteTime": {
     "end_time": "2021-11-11T13:44:55.273671Z",
     "start_time": "2021-11-11T13:44:54.919872Z"
    }
   },
   "outputs": [
    {
     "name": "stderr",
     "output_type": "stream",
     "text": [
      "C:\\Users\\s8583916\\AppData\\Local\\Temp/ipykernel_14832/4210742166.py:2: RuntimeWarning: divide by zero encountered in true_divide\n",
      "  plt.imshow(np.dot(1/D,L.toarray()), vmin=-1, vmax=1)\n"
     ]
    },
    {
     "data": {
      "text/plain": [
       "<matplotlib.image.AxesImage at 0x2e18fd38d90>"
      ]
     },
     "execution_count": 173,
     "metadata": {},
     "output_type": "execute_result"
    }
   ],
   "source": [
    "%matplotlib qt\n",
    "plt.imshow(np.dot(1/D,L.toarray()), vmin=-1, vmax=1)"
   ]
  },
  {
   "cell_type": "code",
   "execution_count": 182,
   "id": "90a7b45c",
   "metadata": {
    "ExecuteTime": {
     "end_time": "2021-11-11T13:46:50.671323Z",
     "start_time": "2021-11-11T13:46:49.926906Z"
    }
   },
   "outputs": [
    {
     "name": "stdout",
     "output_type": "stream",
     "text": [
      "[[0.01960784 0.         0.         ... 0.         0.         0.        ]\n",
      " [0.         0.02272727 0.         ... 0.         0.         0.        ]\n",
      " [0.         0.         0.02083333 ... 0.         0.         0.        ]\n",
      " ...\n",
      " [0.         0.         0.         ... 0.02       0.         0.        ]\n",
      " [0.         0.         0.         ... 0.         0.025      0.        ]\n",
      " [0.         0.         0.         ... 0.         0.         0.01639344]]\n",
      "0.270040107721686\n",
      "-0.7320864842463501\n",
      "-0.7243190249581956\n",
      "0.27568097504180444\n",
      "adf 35 66\n",
      "-1.1183215956619923\n"
     ]
    }
   ],
   "source": [
    "degree = 50\n",
    "n=1000\n",
    "f=1\n",
    "graph = nx.watts_strogatz_graph(1000, degree, 1)\n",
    "lam = np.zeros(f)\n",
    "lam1 = np.zeros(f)\n",
    "for i in range(f):\n",
    "    #graph = nx.gnm_random_graph(n, degree/2*n)\n",
    "    L = nx.laplacian_matrix(graph)\n",
    "    A = nx.linalg.graphmatrix.adjacency_matrix(graph)\n",
    "    D = np.diag(1/np.diagonal(L.toarray()))\n",
    "    print(D)\n",
    "    fact = 0.2#1.2\n",
    "    fact1=1.2\n",
    "    shift = fact*degree\n",
    "    eigenvalues, eigenvectors = eigsh(A.toarray()/degree+fact*identity(n), k=10, which='LM')\n",
    "    eigenvalues1, eigenvectors1 = eigsh(-np.dot(D,L.toarray())+fact1*identity(n), k=10, which='LM')\n",
    "    #print(eigenvalues-fact)\n",
    "    lam[i] = np.partition((eigenvalues.flatten()-fact), -2)[-2]\n",
    "    lam1[i] = np.partition((eigenvalues1.flatten()-fact1), -2)[-2]\n",
    "print(np.mean(lam))\n",
    "print(np.mean(lam1))\n",
    "print(2*np.sqrt(1/degree-1/n)-1)\n",
    "print(2*np.sqrt(1/degree-1/n))\n",
    "max_degree = np.max(np.diag(L.toarray()))\n",
    "min_degree = np.min(np.diag(L.toarray()))\n",
    "print('adf',min_degree, max_degree)\n",
    "print(-np.sqrt(np.min(np.diag(L.toarray())))/degree-1)"
   ]
  },
  {
   "cell_type": "code",
   "execution_count": 110,
   "id": "3c12814d",
   "metadata": {
    "ExecuteTime": {
     "end_time": "2021-11-10T15:18:54.712910Z",
     "start_time": "2021-11-10T15:18:54.540210Z"
    }
   },
   "outputs": [
    {
     "name": "stdout",
     "output_type": "stream",
     "text": [
      "474\n"
     ]
    }
   ],
   "source": [
    "x = np.diag(L.toarray())\n",
    "print(np.max(x))"
   ]
  },
  {
   "cell_type": "code",
   "execution_count": 169,
   "id": "b999f30d",
   "metadata": {
    "ExecuteTime": {
     "end_time": "2021-11-11T13:42:24.115908Z",
     "start_time": "2021-11-11T13:42:24.097918Z"
    }
   },
   "outputs": [
    {
     "name": "stdout",
     "output_type": "stream",
     "text": [
      "[[20  0  0 ...  0  0  0]\n",
      " [ 0 18  0 ...  0  0  0]\n",
      " [ 0  0 22 ...  0  0  0]\n",
      " ...\n",
      " [ 0  0  0 ... 21  0  0]\n",
      " [ 0  0  0 ...  0 24  0]\n",
      " [ 0  0  0 ...  0  0 18]]\n"
     ]
    }
   ],
   "source": [
    "print(np.diag(np.diagonal(L.toarray())))"
   ]
  },
  {
   "cell_type": "code",
   "execution_count": 174,
   "id": "abbe6da5",
   "metadata": {
    "ExecuteTime": {
     "end_time": "2021-11-11T13:45:12.943673Z",
     "start_time": "2021-11-11T13:45:12.927688Z"
    }
   },
   "outputs": [
    {
     "name": "stdout",
     "output_type": "stream",
     "text": [
      "[[0.05263158        inf        inf ...        inf        inf        inf]\n",
      " [       inf 0.03846154        inf ...        inf        inf        inf]\n",
      " [       inf        inf 0.05263158 ...        inf        inf        inf]\n",
      " ...\n",
      " [       inf        inf        inf ... 0.05263158        inf        inf]\n",
      " [       inf        inf        inf ...        inf 0.03571429        inf]\n",
      " [       inf        inf        inf ...        inf        inf 0.04347826]]\n"
     ]
    },
    {
     "name": "stderr",
     "output_type": "stream",
     "text": [
      "C:\\Users\\s8583916\\AppData\\Local\\Temp/ipykernel_14832/2169606432.py:1: RuntimeWarning: divide by zero encountered in true_divide\n",
      "  print(1/D)\n"
     ]
    }
   ],
   "source": [
    "print(1/D)"
   ]
  },
  {
   "cell_type": "code",
   "execution_count": 189,
   "id": "866350bc",
   "metadata": {
    "ExecuteTime": {
     "end_time": "2021-11-11T13:59:06.505903Z",
     "start_time": "2021-11-11T13:59:06.497898Z"
    }
   },
   "outputs": [
    {
     "name": "stdout",
     "output_type": "stream",
     "text": [
      "  (0, 0)\t2\n",
      "  (0, 2)\t1\n",
      "  (0, 28)\t1\n",
      "  (0, 37)\t1\n",
      "  (0, 62)\t1\n",
      "  (0, 71)\t1\n",
      "  (0, 75)\t1\n",
      "  (0, 112)\t1\n",
      "  (0, 146)\t1\n",
      "  (0, 180)\t1\n",
      "  (0, 213)\t1\n",
      "  (0, 239)\t1\n",
      "  (0, 286)\t1\n",
      "  (0, 327)\t1\n",
      "  (0, 329)\t1\n",
      "  (0, 336)\t1\n",
      "  (0, 345)\t1\n",
      "  (0, 417)\t1\n",
      "  (0, 432)\t1\n",
      "  (0, 437)\t1\n",
      "  (0, 450)\t1\n",
      "  (0, 460)\t1\n",
      "  (0, 463)\t1\n",
      "  (0, 467)\t1\n",
      "  (0, 502)\t1\n",
      "  :\t:\n",
      "  (999, 580)\t1\n",
      "  (999, 608)\t1\n",
      "  (999, 617)\t1\n",
      "  (999, 623)\t1\n",
      "  (999, 626)\t1\n",
      "  (999, 628)\t1\n",
      "  (999, 638)\t1\n",
      "  (999, 642)\t1\n",
      "  (999, 671)\t1\n",
      "  (999, 681)\t1\n",
      "  (999, 700)\t1\n",
      "  (999, 709)\t1\n",
      "  (999, 726)\t1\n",
      "  (999, 740)\t1\n",
      "  (999, 778)\t1\n",
      "  (999, 825)\t1\n",
      "  (999, 833)\t1\n",
      "  (999, 852)\t1\n",
      "  (999, 853)\t1\n",
      "  (999, 887)\t1\n",
      "  (999, 893)\t1\n",
      "  (999, 946)\t1\n",
      "  (999, 951)\t1\n",
      "  (999, 953)\t1\n",
      "  (999, 971)\t1\n"
     ]
    }
   ],
   "source": [
    "A[[0,0],[0,0]] += 1\n",
    "print(A)"
   ]
  },
  {
   "cell_type": "code",
   "execution_count": null,
   "id": "23984f39",
   "metadata": {},
   "outputs": [],
   "source": []
  }
 ],
 "metadata": {
  "kernelspec": {
   "display_name": "Python 3 (ipykernel)",
   "language": "python",
   "name": "python3"
  },
  "language_info": {
   "codemirror_mode": {
    "name": "ipython",
    "version": 3
   },
   "file_extension": ".py",
   "mimetype": "text/x-python",
   "name": "python",
   "nbconvert_exporter": "python",
   "pygments_lexer": "ipython3",
   "version": "3.9.7"
  }
 },
 "nbformat": 4,
 "nbformat_minor": 5
}
